{
 "cells": [
  {
   "cell_type": "markdown",
   "id": "44948af3-c373-42b2-a087-76815574cefd",
   "metadata": {},
   "source": [
    "# Download the libraries"
   ]
  },
  {
   "cell_type": "code",
   "execution_count": null,
   "id": "607b5075-4c36-4467-87fb-545a4a57ca18",
   "metadata": {},
   "outputs": [],
   "source": [
    "! rm -rf jars\n",
    "!mkdir jars\n",
    "!wget -q -P jars https://repo1.maven.org/maven2/org/apache/spark/spark-sql-kafka-0-10_2.12/3.4.1/spark-sql-kafka-0-10_2.12-3.4.1.jar\n",
    "!wget -q -P jars https://repo1.maven.org/maven2/org/apache/kafka/kafka-clients/3.5.1/kafka-clients-3.5.1.jar\n",
    "!wget -q -P jars https://repo1.maven.org/maven2/org/apache/spark/spark-token-provider-kafka-0-10_2.12/3.4.1/spark-token-provider-kafka-0-10_2.12-3.4.1.jar\n",
    "!wget -q -P jars https://repo1.maven.org/maven2/org/scala-lang/scala-library/2.12.18/scala-library-2.12.18.jar\n",
    "!wget -q -P jars https://repo1.maven.org/maven2/org/apache/commons/commons-pool2/2.11.1/commons-pool2-2.11.1.jar"
   ]
  },
  {
   "cell_type": "markdown",
   "id": "bdb860b0-309f-45bc-8322-44b45cce6a4a",
   "metadata": {},
   "source": [
    "# Set up SparkSession"
   ]
  },
  {
   "cell_type": "code",
   "execution_count": 1,
   "id": "55ad2104-8d35-4c5b-bbbb-b0889488ecbb",
   "metadata": {},
   "outputs": [],
   "source": [
    "import os\n",
    "from pyspark.sql import SparkSession"
   ]
  },
  {
   "cell_type": "code",
   "execution_count": 2,
   "id": "7d768247-b703-498f-a03b-e304fc822535",
   "metadata": {},
   "outputs": [
    {
     "data": {
      "text/html": [
       "\n",
       "            <div>\n",
       "                <p><b>SparkSession - in-memory</b></p>\n",
       "                \n",
       "        <div>\n",
       "            <p><b>SparkContext</b></p>\n",
       "\n",
       "            <p><a href=\"http://jupiter-pyspark:4040\">Spark UI</a></p>\n",
       "\n",
       "            <dl>\n",
       "              <dt>Version</dt>\n",
       "                <dd><code>v3.4.1</code></dd>\n",
       "              <dt>Master</dt>\n",
       "                <dd><code>local[*]</code></dd>\n",
       "              <dt>AppName</dt>\n",
       "                <dd><code>Spark Structured Streaming example with Kafka</code></dd>\n",
       "            </dl>\n",
       "        </div>\n",
       "        \n",
       "            </div>\n",
       "        "
      ],
      "text/plain": [
       "<pyspark.sql.session.SparkSession at 0xffff93e4f4d0>"
      ]
     },
     "execution_count": 2,
     "metadata": {},
     "output_type": "execute_result"
    }
   ],
   "source": [
    "base_dir = os.getcwd() + '/jars'\n",
    "\n",
    "spark = (SparkSession.builder\n",
    "    .master('local[*]')\n",
    "    .appName('Spark Structured Streaming example with Kafka')\n",
    "    .config(\"spark.jars\", \n",
    "            base_dir + '/kafka-clients-3.5.1.jar' + \",\" + \n",
    "            base_dir +'/spark-sql-kafka-0-10_2.12-3.4.1.jar' + \",\" + \n",
    "            base_dir + '/spark-token-provider-kafka-0-10_2.12-3.4.1.jar' + \",\" + \n",
    "            base_dir + '/scala-library-2.12.18.jar' + \",\" + \n",
    "            base_dir + '/commons-pool2-2.11.1.jar')\n",
    "    .getOrCreate())\n",
    "\n",
    "spark"
   ]
  },
  {
   "cell_type": "markdown",
   "id": "09b4a7c6-7391-4eb2-9597-2eac9975b788",
   "metadata": {},
   "source": [
    "# Define the schema for our data"
   ]
  },
  {
   "cell_type": "code",
   "execution_count": 250,
   "id": "74832419-96d2-4ee6-8208-a7a6ff04084d",
   "metadata": {},
   "outputs": [],
   "source": [
    "from pyspark.sql.types import *"
   ]
  },
  {
   "cell_type": "code",
   "execution_count": 251,
   "id": "b373b13f-6b71-43e1-bff5-904daa6bf258",
   "metadata": {},
   "outputs": [],
   "source": [
    "schema = StructType([\n",
    "    StructField(\"VP\", StructType([\n",
    "      StructField(\"desi\", StringType()),\n",
    "      StructField(\"dir\", StringType()),\n",
    "      StructField(\"oper\", IntegerType()),\n",
    "      StructField(\"veh\", IntegerType()),\n",
    "      StructField(\"tst\", TimestampType()),\n",
    "      StructField(\"tsi\", LongType()),\n",
    "      StructField(\"spd\", DoubleType()),\n",
    "      StructField(\"hdg\", IntegerType()),\n",
    "      StructField(\"lat\", DoubleType()),\n",
    "      StructField(\"long\", DoubleType()),\n",
    "      StructField(\"acc\", DoubleType()),\n",
    "      StructField(\"dl\", IntegerType()),\n",
    "      StructField(\"odo\", StringType()),\n",
    "      StructField(\"drst\", StringType()),\n",
    "      StructField(\"oday\", DateType()),\n",
    "      StructField(\"jrn\", IntegerType()),\n",
    "      StructField(\"line\", IntegerType()),\n",
    "      StructField(\"start\", StringType()),\n",
    "      StructField(\"loc\", StringType()),\n",
    "      StructField(\"stop\", LongType()),\n",
    "      StructField(\"route\", StringType()),\n",
    "      StructField(\"occu\", IntegerType())\n",
    "    ]))\n",
    "])"
   ]
  },
  {
   "cell_type": "markdown",
   "id": "397b0670-ce5e-4bbd-8c9d-403ecab5b927",
   "metadata": {},
   "source": [
    "# Initialize the stream"
   ]
  },
  {
   "cell_type": "code",
   "execution_count": 252,
   "id": "4fd14eab-fc5e-4491-96ed-3bd85d615858",
   "metadata": {},
   "outputs": [],
   "source": [
    "from pyspark import SparkContext\n",
    "from pyspark.streaming import StreamingContext"
   ]
  },
  {
   "cell_type": "markdown",
   "id": "b3454897-8ade-4e93-9fa2-1625d28e5591",
   "metadata": {},
   "source": [
    "We will read the data from the topic `vehicle-positions` in the Kafka cluster"
   ]
  },
  {
   "cell_type": "code",
   "execution_count": 253,
   "id": "689de19d-1a25-4ade-a106-7002b352a1ac",
   "metadata": {},
   "outputs": [],
   "source": [
    "kafka_source_df = (spark.readStream\n",
    "    .format(\"kafka\")\n",
    "    .option(\"kafka.bootstrap.servers\", \"broker:29092\")\n",
    "    .option(\"subscribe\", \"vehicle-positions\")\n",
    "    .option(\"startingOffsets\", \"earliest\")\n",
    "    .load()\n",
    "    .selectExpr(\"CAST(key AS STRING)\", \"CAST(value AS STRING)\"))"
   ]
  },
  {
   "cell_type": "code",
   "execution_count": 254,
   "id": "06399f1c-c1a0-41e8-beba-65ac66764f3c",
   "metadata": {},
   "outputs": [],
   "source": [
    "from pyspark.sql.functions import *\n"
   ]
  },
  {
   "cell_type": "code",
   "execution_count": 255,
   "id": "32823566-2fa6-4fe3-8870-523e97c7278d",
   "metadata": {},
   "outputs": [],
   "source": [
    "vehicle_position_df = (kafka_source_df\n",
    "    .select(from_json(col(\"value\"), schema).alias(\"json\")) \n",
    "    .select(\"json.VP.*\"))"
   ]
  },
  {
   "cell_type": "code",
   "execution_count": 256,
   "id": "f4ab8ac7-d923-4b1f-8402-7b5371911cfa",
   "metadata": {},
   "outputs": [
    {
     "name": "stdout",
     "output_type": "stream",
     "text": [
      "root\n",
      " |-- desi: string (nullable = true)\n",
      " |-- dir: string (nullable = true)\n",
      " |-- oper: integer (nullable = true)\n",
      " |-- veh: integer (nullable = true)\n",
      " |-- tst: timestamp (nullable = true)\n",
      " |-- tsi: long (nullable = true)\n",
      " |-- spd: double (nullable = true)\n",
      " |-- hdg: integer (nullable = true)\n",
      " |-- lat: double (nullable = true)\n",
      " |-- long: double (nullable = true)\n",
      " |-- acc: double (nullable = true)\n",
      " |-- dl: integer (nullable = true)\n",
      " |-- odo: string (nullable = true)\n",
      " |-- drst: string (nullable = true)\n",
      " |-- oday: date (nullable = true)\n",
      " |-- jrn: integer (nullable = true)\n",
      " |-- line: integer (nullable = true)\n",
      " |-- start: string (nullable = true)\n",
      " |-- loc: string (nullable = true)\n",
      " |-- stop: long (nullable = true)\n",
      " |-- route: string (nullable = true)\n",
      " |-- occu: integer (nullable = true)\n",
      "\n"
     ]
    }
   ],
   "source": [
    "vehicle_position_df.printSchema()"
   ]
  },
  {
   "cell_type": "markdown",
   "id": "36e7740b-1bba-4155-a77c-8bab9e4180d6",
   "metadata": {},
   "source": [
    "<h3>Record Sample</h3> \n",
    "\n",
    "<code>\n",
    "{\n",
    "  \"desi\": \"M1\",\n",
    "  \"dir\": \"1\",\n",
    "  \"oper\": 50,\n",
    "  \"veh\": 302,\n",
    "  \"tst\": \"2023-08-28T09:57:56Z\",\n",
    "  \"tsi\": 1693216676,\n",
    "  \"spd\": 11.86,\n",
    "  \"hdg\": 52,\n",
    "  \"lat\": 60.1721918,\n",
    "  \"long\": 24.94817722,\n",
    "  \"acc\": null,\n",
    "  \"dl\": null,\n",
    "  \"odo\": null,\n",
    "  \"drst\": null,\n",
    "  \"oday\": \"2023-08-28\",\n",
    "  \"start\": \"12:26\",\n",
    "  \"loc\": \"MAN\",\n",
    "  \"stop\": 1020603,\n",
    "  \"route\": \"31M1\",\n",
    "  \"occu\": 0,\n",
    "  \"seq\": 1\n",
    "}\n",
    "</code>"
   ]
  },
  {
   "cell_type": "markdown",
   "id": "3883102b-f38d-4727-beca-1961244d33e1",
   "metadata": {},
   "source": [
    "### Perform streaming transformations"
   ]
  },
  {
   "cell_type": "markdown",
   "id": "26d79aef-f054-40b5-979e-26aa38cf17a9",
   "metadata": {},
   "source": [
    "[window documentation](https://spark.apache.org/docs/latest/api/python/reference/pyspark.sql/api/pyspark.sql.functions.window.html#pyspark.sql.functions.window)<br>\n",
    "[withWatermark documentation](https://spark.apache.org/docs/latest/api/python/reference/pyspark.sql/api/pyspark.sql.DataFrame.withWatermark.html#pyspark.sql.DataFrame.withWatermark)"
   ]
  },
  {
   "cell_type": "code",
   "execution_count": 257,
   "id": "7f8ad5e9-0b0b-4847-91c4-0cc1b4b4aedc",
   "metadata": {},
   "outputs": [],
   "source": [
    "vehicle_position_window_df = (vehicle_position_df\n",
    "      .withWatermark(\"tst\", \"1 milliseconds\")\n",
    "      .groupBy(\n",
    "        window(col(\"tst\"), \"1 minutes\", \"1 minutes\"), #window(timeColumn, windowDuration, slideDuration) (tumbling windows: an input can belong only to one window)\n",
    "        col(\"route\")\n",
    "      ).count())"
   ]
  },
  {
   "cell_type": "code",
   "execution_count": 258,
   "id": "3828bc2b-1772-429e-a919-7da4bb75f71d",
   "metadata": {},
   "outputs": [
    {
     "name": "stdout",
     "output_type": "stream",
     "text": [
      "root\n",
      " |-- window: struct (nullable = false)\n",
      " |    |-- start: timestamp (nullable = true)\n",
      " |    |-- end: timestamp (nullable = true)\n",
      " |-- route: string (nullable = true)\n",
      " |-- count: long (nullable = false)\n",
      "\n"
     ]
    }
   ],
   "source": [
    "vehicle_position_window_df.printSchema()"
   ]
  },
  {
   "cell_type": "markdown",
   "id": "b34ce1da-1f75-4fc1-9b18-c885daa704c9",
   "metadata": {},
   "source": [
    "# Start the streaming query"
   ]
  },
  {
   "cell_type": "markdown",
   "id": "4906740b-5a78-4918-879b-2a57a3971c3e",
   "metadata": {},
   "source": [
    "## Append mode"
   ]
  },
  {
   "cell_type": "markdown",
   "id": "bfd8fd0f-eb0c-458d-b62e-5fb4ce008c50",
   "metadata": {},
   "source": [
    "We are using the sink **memory**, it support only two output modes: **append** and **complete**."
   ]
  },
  {
   "cell_type": "code",
   "execution_count": 259,
   "id": "d5377728-6667-4fcd-a4ae-2ffb8570b447",
   "metadata": {},
   "outputs": [],
   "source": [
    "query_append_trigger = (vehicle_position_window_df.writeStream\n",
    "    .format(\"memory\")\n",
    "    .trigger(processingTime = '6 seconds') \n",
    "    .outputMode(\"append\")\n",
    "    .queryName(\"query_append_trigger\")\n",
    "    .start())"
   ]
  },
  {
   "cell_type": "code",
   "execution_count": 262,
   "id": "2f20628f-7abd-4044-b653-3ce3622f483c",
   "metadata": {},
   "outputs": [
    {
     "name": "stdout",
     "output_type": "stream",
     "text": [
      "+------------------------------------------+-----+-----+\n",
      "|window                                    |route|count|\n",
      "+------------------------------------------+-----+-----+\n",
      "|{2023-10-31 11:19:00, 2023-10-31 11:20:00}|2113 |5    |\n",
      "|{2023-10-31 11:22:00, 2023-10-31 11:23:00}|2113 |6    |\n",
      "|{2023-10-31 13:40:00, 2023-10-31 13:41:00}|2113 |60   |\n",
      "|{2023-10-31 11:21:00, 2023-10-31 11:22:00}|2113 |180  |\n",
      "|{2023-10-31 11:14:00, 2023-10-31 11:15:00}|2113 |134  |\n",
      "|{2023-10-31 11:09:00, 2023-10-31 11:10:00}|2113 |50   |\n",
      "|{2023-10-31 11:13:00, 2023-10-31 11:14:00}|2113 |7    |\n",
      "|{2023-10-31 11:20:00, 2023-10-31 11:21:00}|2113 |180  |\n",
      "|{2023-10-31 13:42:00, 2023-10-31 13:43:00}|2113 |147  |\n",
      "|{2023-10-31 13:41:00, 2023-10-31 13:42:00}|2113 |120  |\n",
      "+------------------------------------------+-----+-----+\n",
      "\n"
     ]
    }
   ],
   "source": [
    "(spark.sql(\"select * from query_append_trigger\")\n",
    "    .filter(col('route') == '2113')\n",
    "    .show(n = 100, truncate = False))"
   ]
  },
  {
   "cell_type": "code",
   "execution_count": 263,
   "id": "54f459b7-2e80-4ca7-b896-151236f44382",
   "metadata": {},
   "outputs": [],
   "source": [
    "query_append_trigger.stop()"
   ]
  },
  {
   "cell_type": "markdown",
   "id": "b10c10e3-a06f-4049-b76d-853b55b36436",
   "metadata": {},
   "source": [
    "## Complete mode"
   ]
  },
  {
   "cell_type": "markdown",
   "id": "a75f8431-28b6-402f-8daf-dd6383fe047f",
   "metadata": {},
   "source": [
    "This Dataframe is identical to `vehicle_position_window_df`, but I have removed the .withWatermark because it is useless in complete mode"
   ]
  },
  {
   "cell_type": "code",
   "execution_count": 264,
   "id": "6f3d2526-2b8c-4c8f-bd14-96cb8d0c0457",
   "metadata": {},
   "outputs": [],
   "source": [
    "vehicle_position_window_no_wm_df = (vehicle_position_df\n",
    "      .groupBy(\n",
    "        window(col(\"tst\"), \"1 minutes\", \"1 minutes\"), #window(timeColumn, windowDuration, slideDuration) (tumbling windows: an input can belong only to one window)\n",
    "        col(\"route\")\n",
    "      ).count())"
   ]
  },
  {
   "cell_type": "code",
   "execution_count": 265,
   "id": "89e98d29-4549-404f-9979-6af12fd09bc5",
   "metadata": {},
   "outputs": [],
   "source": [
    "query_complete = (vehicle_position_window_no_wm_df.writeStream\n",
    "            .format(\"memory\")\n",
    "            .trigger(processingTime = '6 seconds') \n",
    "            .outputMode(\"complete\")\n",
    "            .queryName(\"query_complete\")\n",
    "            .start())"
   ]
  },
  {
   "cell_type": "code",
   "execution_count": 268,
   "id": "708df364-af90-40f7-bf04-2ab94e9d5e67",
   "metadata": {},
   "outputs": [
    {
     "name": "stdout",
     "output_type": "stream",
     "text": [
      "+------------------------------------------+-----+-----+\n",
      "|window                                    |route|count|\n",
      "+------------------------------------------+-----+-----+\n",
      "|{2023-10-31 11:19:00, 2023-10-31 11:20:00}|2113 |5    |\n",
      "|{2023-10-31 11:22:00, 2023-10-31 11:23:00}|2113 |6    |\n",
      "|{2023-10-31 13:43:00, 2023-10-31 13:44:00}|2113 |84   |\n",
      "|{2023-10-31 13:40:00, 2023-10-31 13:41:00}|2113 |60   |\n",
      "|{2023-10-31 11:21:00, 2023-10-31 11:22:00}|2113 |180  |\n",
      "|{2023-10-31 11:14:00, 2023-10-31 11:15:00}|2113 |134  |\n",
      "|{2023-10-31 11:09:00, 2023-10-31 11:10:00}|2113 |50   |\n",
      "|{2023-10-31 11:13:00, 2023-10-31 11:14:00}|2113 |7    |\n",
      "|{2023-10-31 11:20:00, 2023-10-31 11:21:00}|2113 |180  |\n",
      "|{2023-11-02 13:53:00, 2023-11-02 13:54:00}|2113 |44   |\n",
      "|{2023-10-31 13:42:00, 2023-10-31 13:43:00}|2113 |147  |\n",
      "|{2023-10-31 13:41:00, 2023-10-31 13:42:00}|2113 |120  |\n",
      "+------------------------------------------+-----+-----+\n",
      "\n"
     ]
    }
   ],
   "source": [
    "(spark.sql(\"select * from query_complete\")\n",
    "    .filter(col('route') == '2113')\n",
    "    .show(n = 100, truncate = False))"
   ]
  },
  {
   "cell_type": "code",
   "execution_count": 269,
   "id": "17da8d11-1d1e-4cbb-b402-54dac9265a36",
   "metadata": {},
   "outputs": [],
   "source": [
    "query_complete.stop()"
   ]
  },
  {
   "cell_type": "markdown",
   "id": "8d8d663e-6b1a-490e-816f-c44cbc262d78",
   "metadata": {},
   "source": [
    "<h3> Thoughts on Complete mode </h3>\n",
    "The complete mode never releases the intermediate state of the aggregation which means that the memory consumption will increase indefinitely for a query such this. "
   ]
  },
  {
   "cell_type": "markdown",
   "id": "8fbca8e6-5b9c-4b6f-9eae-7628d85591e6",
   "metadata": {},
   "source": [
    "### Thoughts on watermarking output mode and sink\n",
    "\n",
    "- The watermarking can only be used in **update** and **append** mode. \n",
    "- In **complete** mode the old aggregation state is never dropped and we cannot use watermarking.\n",
    "- Without the watermarking in the **append** mode the old aggregation state is never dropped.\n",
    "- The sink format **memory** should be used only for debugging purposes and with low volumes of data since the output is entirely stored in the driver's memory\n",
    "- The sink format **memory** does not support the **update** mode."
   ]
  },
  {
   "cell_type": "markdown",
   "id": "5d358cf8-9c86-412c-80b4-8813e7953db7",
   "metadata": {},
   "source": [
    "# Join Stream Stream"
   ]
  },
  {
   "cell_type": "code",
   "execution_count": 6,
   "id": "0b3f2deb-6026-4e13-93e3-52e7a879b0ff",
   "metadata": {},
   "outputs": [],
   "source": [
    "rate_source_df = (spark \n",
    "    .readStream \n",
    "    .format(\"rate\")\n",
    "    .load())"
   ]
  },
  {
   "cell_type": "markdown",
   "id": "298c97e0-a68e-407d-a276-97c5cdbbc174",
   "metadata": {},
   "source": [
    "The input source `rate` generates one row per second with a timestamp and an increasing value:\n",
    "<code>\n",
    "+-----------------------+-----+\n",
    "|timestamp              |value|\n",
    "+-----------------------+-----+\n",
    "|2023-10-31 14:16:43.267|0    |\n",
    "|2023-10-31 14:16:44.267|1    |\n",
    "|2023-10-31 14:16:45.267|2    |\n",
    "|2023-10-31 14:16:46.267|3    |\n",
    "|2023-10-31 14:16:47.267|4    |\n",
    "|2023-10-31 14:16:51.267|8    |\n",
    "|2023-10-31 14:16:48.267|5    |\n",
    "|2023-10-31 14:16:52.267|9    |\n",
    "|2023-10-31 14:16:49.267|6    |\n",
    "|2023-10-31 14:16:50.267|7    |\n",
    "+-----------------------+-----+\n",
    "</code>"
   ]
  },
  {
   "cell_type": "code",
   "execution_count": 11,
   "id": "e3c354c0-509f-4616-a885-01d544a039b5",
   "metadata": {},
   "outputs": [],
   "source": [
    "second_rate_source_df = (spark \n",
    "    .readStream \n",
    "    .format(\"rate\")\n",
    "    .load()\n",
    "    .withColumn(\"animals\", \n",
    "                when(col(\"value\") % 4 == 0, lit(\"Cat\"))\n",
    "                .when(col(\"value\") % 4 == 1, lit(\"Dog\"))\n",
    "                .when(col(\"value\") % 4 == 2, lit(\"Mouse\"))\n",
    "                .otherwise(lit(\"Horse\")))\n",
    "    )"
   ]
  },
  {
   "cell_type": "markdown",
   "id": "0ee59f1e-e497-4502-9dce-426e7cbdfac7",
   "metadata": {},
   "source": [
    "<code>\n",
    "+-----------------------+-----+-------+\n",
    "|timestamp              |value|animals|\n",
    "+-----------------------+-----+-------+\n",
    "|2023-11-02 09:51:49.535|0    |Cat    |\n",
    "|2023-11-02 09:51:50.535|1    |Dog    |\n",
    "|2023-11-02 09:51:51.535|2    |Mouse  |\n",
    "|2023-11-02 09:51:52.535|3    |Horse  |\n",
    "|2023-11-02 09:51:53.535|4    |Cat    |\n",
    "|2023-11-02 09:51:57.535|8    |Cat    |\n",
    "|2023-11-02 09:51:54.535|5    |Dog    |\n",
    "|2023-11-02 09:51:58.535|9    |Dog    |\n",
    "|2023-11-02 09:51:55.535|6    |Mouse  |\n",
    "|2023-11-02 09:51:56.535|7    |Horse  |\n",
    "+-----------------------+-----+-------+\n",
    "</code>"
   ]
  },
  {
   "cell_type": "markdown",
   "id": "62e58208-9f2e-4155-b3f6-6029864fc405",
   "metadata": {},
   "source": [
    "To allow the state cleaning when performing a join stream-stream we need to specify two conditions:\n",
    "- watermarking\n",
    "- range condition on the event time"
   ]
  },
  {
   "cell_type": "code",
   "execution_count": 12,
   "id": "077fbf9e-09b2-4b2e-9912-5dfae6424ded",
   "metadata": {},
   "outputs": [],
   "source": [
    "# Apply watermarks on event-time columns\n",
    "rate_source_wm_df = (rate_source_df\n",
    "    .withColumnRenamed(\"timestamp\", \"timestamp_rate_source\")\n",
    "    .withColumnRenamed(\"value\", \"value_rate_source\")\n",
    "    .withWatermark(\"timestamp_rate_source\", \"1 milliseconds\"))"
   ]
  },
  {
   "cell_type": "code",
   "execution_count": null,
   "id": "ea0a76aa-c7da-4d3d-b5dd-4cdfbd05ddd2",
   "metadata": {},
   "outputs": [],
   "source": [
    "query_rate_source_wm = (rate_source_wm_df.writeStream\n",
    "    .format(\"memory\")\n",
    "    .trigger(processingTime = '6 seconds') \n",
    "    .outputMode(\"append\")\n",
    "    .queryName(\"query_rate_source_wm\")\n",
    "    .start())"
   ]
  },
  {
   "cell_type": "code",
   "execution_count": null,
   "id": "42e1b651-5dd8-4a3f-822d-5708653f4ca6",
   "metadata": {},
   "outputs": [],
   "source": [
    "(spark.sql(\"select * from query_rate_source_wm\")\n",
    "    .show(n = 100, truncate = False))"
   ]
  },
  {
   "cell_type": "code",
   "execution_count": null,
   "id": "21b0a119-3412-498f-8aee-07fa26af354f",
   "metadata": {},
   "outputs": [],
   "source": [
    "query_rate_source_wm.stop()"
   ]
  },
  {
   "cell_type": "code",
   "execution_count": 185,
   "id": "3d017eb5-7d83-4249-8aed-c20f221d8930",
   "metadata": {},
   "outputs": [],
   "source": [
    "# Apply watermarks on event-time columns\n",
    "second_rate_source_wm_df = (second_rate_source_df\n",
    "    .withColumn(\"timestamp_second_source\", col(\"timestamp\") + expr(\"INTERVAL 2 seconds\")) #add 5 seconds \n",
    "    .withColumnRenamed(\"value\", \"value_second_source\")\n",
    "    .drop(\"timestamp\")                        \n",
    "    .withWatermark(\"timestamp_second_source\", \"10 milliseconds\"))"
   ]
  },
  {
   "cell_type": "code",
   "execution_count": 114,
   "id": "15c8fc74-f1cc-4b66-9aa3-aad6df8c4863",
   "metadata": {},
   "outputs": [],
   "source": [
    "second_rate_source_wm = (second_rate_source_wm_df.writeStream\n",
    "    .format(\"memory\")\n",
    "    .trigger(processingTime = '6 seconds') \n",
    "    .outputMode(\"append\")\n",
    "    .queryName(\"second_rate_source_wm\")\n",
    "    .start())"
   ]
  },
  {
   "cell_type": "code",
   "execution_count": 102,
   "id": "9c7e1cbb-bf81-4a33-97c7-21d863d0915e",
   "metadata": {},
   "outputs": [
    {
     "name": "stdout",
     "output_type": "stream",
     "text": [
      "+-----------------------+-------------------+-------+-----------------------------+\n",
      "|timestamp_second_source|value_second_source|animals|timestamp_second_source_plus5|\n",
      "+-----------------------+-------------------+-------+-----------------------------+\n",
      "|2023-11-02 11:53:13.108|0                  |Cat    |2023-11-02 11:53:33.108      |\n",
      "|2023-11-02 11:53:14.108|1                  |Dog    |2023-11-02 11:53:34.108      |\n",
      "|2023-11-02 11:53:15.108|2                  |Mouse  |2023-11-02 11:53:35.108      |\n",
      "|2023-11-02 11:53:16.108|3                  |Horse  |2023-11-02 11:53:36.108      |\n",
      "+-----------------------+-------------------+-------+-----------------------------+\n",
      "\n"
     ]
    }
   ],
   "source": [
    "(spark.sql(\"select * from second_rate_source_wm\")\n",
    "    .show(n = 100, truncate = False))"
   ]
  },
  {
   "cell_type": "code",
   "execution_count": 115,
   "id": "c4480394-1d8f-4537-936c-15591d3f0b71",
   "metadata": {},
   "outputs": [],
   "source": [
    "second_rate_source_wm.stop()"
   ]
  },
  {
   "cell_type": "markdown",
   "id": "1d9ae334-0328-46c8-b4b3-2d0a61fed349",
   "metadata": {},
   "source": [
    "## Inner Join"
   ]
  },
  {
   "cell_type": "code",
   "execution_count": 214,
   "id": "24dcbf3d-9360-4852-86a3-ee784ab433cd",
   "metadata": {},
   "outputs": [],
   "source": [
    "# Join with event-time constraints\n",
    "join_rate_sources_wm_df = second_rate_source_wm_df.join(\n",
    "  rate_source_wm_df, \n",
    "  expr(\"\"\"\n",
    "    value_rate_source = value_second_source AND\n",
    "    timestamp_second_source >= timestamp_rate_source AND\n",
    "    timestamp_second_source <= timestamp_rate_source + interval 3 seconds\n",
    "    \"\"\")\n",
    ")"
   ]
  },
  {
   "cell_type": "code",
   "execution_count": 215,
   "id": "6d9582a3-2d3f-42f1-976c-36184ad68111",
   "metadata": {},
   "outputs": [],
   "source": [
    "join_rate_sources_wm_query = (join_rate_sources_wm_df.writeStream\n",
    "    .format(\"memory\")\n",
    "    .trigger(processingTime = '6 seconds') \n",
    "    .outputMode(\"append\")\n",
    "    .queryName(\"join_rate_sources_wm_query\")\n",
    "    .start())"
   ]
  },
  {
   "cell_type": "code",
   "execution_count": 218,
   "id": "a548167f-9328-492b-8822-5abc33802990",
   "metadata": {},
   "outputs": [
    {
     "name": "stdout",
     "output_type": "stream",
     "text": [
      "+-------------------+-------+-----------------------+-----------------------+-----------------+\n",
      "|value_second_source|animals|timestamp_second_source|timestamp_rate_source  |value_rate_source|\n",
      "+-------------------+-------+-----------------------+-----------------------+-----------------+\n",
      "|0                  |Cat    |2023-11-02 13:35:11.268|2023-11-02 13:35:09.295|0                |\n",
      "|6                  |Mouse  |2023-11-02 13:35:17.268|2023-11-02 13:35:15.295|6                |\n",
      "|5                  |Dog    |2023-11-02 13:35:16.268|2023-11-02 13:35:14.295|5                |\n",
      "|1                  |Dog    |2023-11-02 13:35:12.268|2023-11-02 13:35:10.295|1                |\n",
      "|3                  |Horse  |2023-11-02 13:35:14.268|2023-11-02 13:35:12.295|3                |\n",
      "|2                  |Mouse  |2023-11-02 13:35:13.268|2023-11-02 13:35:11.295|2                |\n",
      "|4                  |Cat    |2023-11-02 13:35:15.268|2023-11-02 13:35:13.295|4                |\n",
      "+-------------------+-------+-----------------------+-----------------------+-----------------+\n",
      "\n"
     ]
    }
   ],
   "source": [
    "(spark.sql(\"select * from join_rate_sources_wm_query\")\n",
    "    .show(n = 100, truncate = False))"
   ]
  },
  {
   "cell_type": "code",
   "execution_count": 219,
   "id": "e0a3a622-d5bb-4d1d-ac7d-7665afef63ef",
   "metadata": {},
   "outputs": [],
   "source": [
    "join_rate_sources_wm_query.stop()"
   ]
  },
  {
   "cell_type": "code",
   "execution_count": null,
   "id": "4f8f562f-c18a-4957-8db1-6d6f509d955c",
   "metadata": {},
   "outputs": [],
   "source": [
    "join_rate_sources_wm_query.exception()"
   ]
  },
  {
   "cell_type": "code",
   "execution_count": null,
   "id": "4576a0c7-fd33-4aae-8697-bcc744fc31c3",
   "metadata": {},
   "outputs": [],
   "source": [
    "join_rate_sources_wm_query.lastProgress"
   ]
  },
  {
   "cell_type": "markdown",
   "id": "7848c880-15e0-4455-aa48-740e7fa08b5c",
   "metadata": {},
   "source": [
    "## Left outer join"
   ]
  },
  {
   "cell_type": "code",
   "execution_count": 237,
   "id": "2ea1ff15-3250-431b-9bec-94e24d56f83e",
   "metadata": {},
   "outputs": [],
   "source": [
    "rate_source_wm_filter_df = rate_source_wm_df.filter(col(\"value_rate_source\") % 3 == 0 )"
   ]
  },
  {
   "cell_type": "code",
   "execution_count": 238,
   "id": "c106d23b-dd4a-49c7-b4b1-187f2985a856",
   "metadata": {},
   "outputs": [],
   "source": [
    "# Join with event-time constraints\n",
    "join_rate_sources_wm_filter_df = second_rate_source_wm_df.join(\n",
    "  rate_source_wm_filter_df, \n",
    "  expr(\"\"\"\n",
    "    value_rate_source = value_second_source AND\n",
    "    timestamp_second_source >= timestamp_rate_source AND\n",
    "    timestamp_second_source <= timestamp_rate_source + interval 3 seconds\n",
    "    \"\"\"),\n",
    "    \"leftOuter\"\n",
    ")"
   ]
  },
  {
   "cell_type": "code",
   "execution_count": 239,
   "id": "8d2e5aab-8134-4fbf-90e1-431a66bdb7d3",
   "metadata": {},
   "outputs": [],
   "source": [
    "join_rate_sources_wm_filter_query = (join_rate_sources_wm_filter_df.writeStream\n",
    "    .format(\"memory\")\n",
    "    .trigger(processingTime = '6 seconds') \n",
    "    .outputMode(\"append\")\n",
    "    .queryName(\"join_rate_sources_wm_filter_query\")\n",
    "    .start())"
   ]
  },
  {
   "cell_type": "code",
   "execution_count": 244,
   "id": "03a8d293-009d-4cce-8338-0dabcceebbde",
   "metadata": {},
   "outputs": [
    {
     "name": "stdout",
     "output_type": "stream",
     "text": [
      "+-------------------+-------+-----------------------+-----------------------+-----------------+\n",
      "|value_second_source|animals|timestamp_second_source|timestamp_rate_source  |value_rate_source|\n",
      "+-------------------+-------+-----------------------+-----------------------+-----------------+\n",
      "|0                  |Cat    |2023-11-02 13:50:28.437|2023-11-02 13:50:26.471|0                |\n",
      "|6                  |Mouse  |2023-11-02 13:50:34.437|2023-11-02 13:50:32.471|6                |\n",
      "|3                  |Horse  |2023-11-02 13:50:31.437|2023-11-02 13:50:29.471|3                |\n",
      "|9                  |Dog    |2023-11-02 13:50:37.437|2023-11-02 13:50:35.471|9                |\n",
      "|1                  |Dog    |2023-11-02 13:50:29.437|null                   |null             |\n",
      "|12                 |Cat    |2023-11-02 13:50:40.437|2023-11-02 13:50:38.471|12               |\n",
      "|2                  |Mouse  |2023-11-02 13:50:30.437|null                   |null             |\n",
      "|4                  |Cat    |2023-11-02 13:50:32.437|null                   |null             |\n",
      "|7                  |Horse  |2023-11-02 13:50:35.437|null                   |null             |\n",
      "|5                  |Dog    |2023-11-02 13:50:33.437|null                   |null             |\n",
      "|10                 |Mouse  |2023-11-02 13:50:38.437|null                   |null             |\n",
      "|8                  |Cat    |2023-11-02 13:50:36.437|null                   |null             |\n",
      "|15                 |Horse  |2023-11-02 13:50:43.437|2023-11-02 13:50:41.471|15               |\n",
      "+-------------------+-------+-----------------------+-----------------------+-----------------+\n",
      "\n"
     ]
    }
   ],
   "source": [
    "(spark.sql(\"select * from join_rate_sources_wm_filter_query\")\n",
    "    .show(n = 100, truncate = False))"
   ]
  },
  {
   "cell_type": "code",
   "execution_count": 245,
   "id": "e21f37d9-35e0-422e-8adf-c3959335e842",
   "metadata": {},
   "outputs": [],
   "source": [
    "join_rate_sources_wm_filter_query.stop()"
   ]
  },
  {
   "cell_type": "markdown",
   "id": "cf70e063-c597-4611-ba65-08d324718247",
   "metadata": {},
   "source": [
    "# Join Stream-Static"
   ]
  },
  {
   "cell_type": "code",
   "execution_count": 270,
   "id": "d499d091-0545-432b-acdd-e4720cee4396",
   "metadata": {},
   "outputs": [],
   "source": [
    "operators_df = spark.read.csv(\"operators.csv\", header = True, inferSchema = True)"
   ]
  },
  {
   "cell_type": "code",
   "execution_count": 271,
   "id": "d96de450-cff1-4c44-912b-8db68b6ee4d3",
   "metadata": {},
   "outputs": [
    {
     "name": "stdout",
     "output_type": "stream",
     "text": [
      "+---+------------------------------------+-------------+----------------------+-----------------------+\n",
      "|id |operator_name                       |country      |city                  |address                |\n",
      "+---+------------------------------------+-------------+----------------------+-----------------------+\n",
      "|1  |Considine LLC                       |France       |Soisy-sous-Montmorency|4 Nelson Park          |\n",
      "|2  |Mraz LLC                            |Canada       |Rayside-Balfour       |36 Hallows Way         |\n",
      "|3  |Hudson, Stehr and Satterfield       |Japan        |Hirara                |78 Westport Trail      |\n",
      "|4  |Grant-Gorczany                      |Nepal        |Dadeldhurā            |739 Glacier Hill Avenue|\n",
      "|5  |Abshire Inc                         |Peru         |Pilpichaca            |05773 Veith Pass       |\n",
      "|6  |Bins-Schroeder                      |Thailand     |Nong Don              |5 Washington Place     |\n",
      "|7  |Muller, Glover and Daugherty        |Ukraine      |Chynadiyovo           |22491 Stang Street     |\n",
      "|8  |Kohler LLC                          |Poland       |Pogorzyce             |67098 Chinook Place    |\n",
      "|9  |Medhurst, Pagac and Toy             |Indonesia    |Ponggok               |86085 Old Gate Alley   |\n",
      "|10 |Mertz-Gutmann                       |Peru         |Marcabamba            |81849 Magdeline Hill   |\n",
      "|11 |Parisian Group                      |Thailand     |Thap Than             |57 2nd Terrace         |\n",
      "|12 |Pollich-Kuhlman                     |Sudan        |Al Manāqil            |7 Golf View Circle     |\n",
      "|13 |Kuhn Group                          |United States|Springfield           |74 Mariners Cove Alley |\n",
      "|14 |Swaniawski, Becker and Bergstrom    |Denmark      |København             |7511 Michigan Center   |\n",
      "|15 |Buckridge, Oberbrunner and Marquardt|Russia       |Vatutino              |93650 Oneill Lane      |\n",
      "|16 |Roberts, Barrows and Donnelly       |New Zealand  |Winton                |09 Alpine Drive        |\n",
      "|17 |Schoen Inc                          |Portugal     |Várzea                |96 Susan Lane          |\n",
      "|18 |Batz, Parisian and Abbott           |Mexico       |Azteca                |90445 Acker Plaza      |\n",
      "|19 |Fadel Group                         |United States|Greensboro            |03 Bluejay Avenue      |\n",
      "|20 |McDermott-Legros                    |United States|Tacoma                |82 Northport Way       |\n",
      "+---+------------------------------------+-------------+----------------------+-----------------------+\n",
      "only showing top 20 rows\n",
      "\n"
     ]
    }
   ],
   "source": [
    "operators_df.show(truncate = False)"
   ]
  },
  {
   "cell_type": "code",
   "execution_count": 272,
   "id": "e99d7fdf-2fec-4c34-bc37-2b04d74d2849",
   "metadata": {},
   "outputs": [
    {
     "name": "stdout",
     "output_type": "stream",
     "text": [
      "root\n",
      " |-- id: integer (nullable = true)\n",
      " |-- operator_name: string (nullable = true)\n",
      " |-- country: string (nullable = true)\n",
      " |-- city: string (nullable = true)\n",
      " |-- address: string (nullable = true)\n",
      "\n"
     ]
    }
   ],
   "source": [
    "operators_df.printSchema()"
   ]
  },
  {
   "cell_type": "code",
   "execution_count": 273,
   "id": "1984fa1c-e411-475e-8300-0df2151e5b47",
   "metadata": {},
   "outputs": [],
   "source": [
    "join_vehicle_operators_df = vehicle_position_df.join(operators_df, vehicle_position_df.oper == operators_df.id, \"left_outer\")"
   ]
  },
  {
   "cell_type": "code",
   "execution_count": 274,
   "id": "774b41b3-0a05-43f1-8c16-ceab564abdaa",
   "metadata": {},
   "outputs": [
    {
     "name": "stdout",
     "output_type": "stream",
     "text": [
      "root\n",
      " |-- desi: string (nullable = true)\n",
      " |-- dir: string (nullable = true)\n",
      " |-- oper: integer (nullable = true)\n",
      " |-- veh: integer (nullable = true)\n",
      " |-- tst: timestamp (nullable = true)\n",
      " |-- tsi: long (nullable = true)\n",
      " |-- spd: double (nullable = true)\n",
      " |-- hdg: integer (nullable = true)\n",
      " |-- lat: double (nullable = true)\n",
      " |-- long: double (nullable = true)\n",
      " |-- acc: double (nullable = true)\n",
      " |-- dl: integer (nullable = true)\n",
      " |-- odo: string (nullable = true)\n",
      " |-- drst: string (nullable = true)\n",
      " |-- oday: date (nullable = true)\n",
      " |-- jrn: integer (nullable = true)\n",
      " |-- line: integer (nullable = true)\n",
      " |-- start: string (nullable = true)\n",
      " |-- loc: string (nullable = true)\n",
      " |-- stop: long (nullable = true)\n",
      " |-- route: string (nullable = true)\n",
      " |-- occu: integer (nullable = true)\n",
      " |-- id: integer (nullable = true)\n",
      " |-- operator_name: string (nullable = true)\n",
      " |-- country: string (nullable = true)\n",
      " |-- city: string (nullable = true)\n",
      " |-- address: string (nullable = true)\n",
      "\n"
     ]
    }
   ],
   "source": [
    "join_vehicle_operators_df.printSchema()"
   ]
  },
  {
   "cell_type": "code",
   "execution_count": 275,
   "id": "e4cabb25-52d7-4f05-b466-37dc2faba47d",
   "metadata": {},
   "outputs": [],
   "source": [
    "query_join_vechicle_operators_append = (join_vehicle_operators_df.writeStream\n",
    "    .format(\"memory\")\n",
    "    .trigger(processingTime = '6 seconds') \n",
    "    .outputMode(\"append\")\n",
    "    .queryName(\"query_join_vechicle_operators_append\")\n",
    "    .start())"
   ]
  },
  {
   "cell_type": "code",
   "execution_count": 277,
   "id": "c761655b-b6ae-4f99-8cbd-ab4fe54ba57c",
   "metadata": {},
   "outputs": [
    {
     "name": "stdout",
     "output_type": "stream",
     "text": [
      "+-----------------------+-----+----+---------------+-------+----------+------------------+\n",
      "|tst                    |route|oper|operator_name  |country|city      |address           |\n",
      "+-----------------------+-----+----+---------------+-------+----------+------------------+\n",
      "|2023-10-31 11:09:04.481|2113 |12  |Pollich-Kuhlman|Sudan  |Al Manāqil|7 Golf View Circle|\n",
      "|2023-10-31 11:09:05.481|2113 |12  |Pollich-Kuhlman|Sudan  |Al Manāqil|7 Golf View Circle|\n",
      "|2023-10-31 11:09:18.509|2113 |12  |Pollich-Kuhlman|Sudan  |Al Manāqil|7 Golf View Circle|\n",
      "|2023-10-31 11:09:19.509|2113 |12  |Pollich-Kuhlman|Sudan  |Al Manāqil|7 Golf View Circle|\n",
      "|2023-10-31 11:09:20.51 |2113 |12  |Pollich-Kuhlman|Sudan  |Al Manāqil|7 Golf View Circle|\n",
      "|2023-10-31 11:09:21.509|2113 |12  |Pollich-Kuhlman|Sudan  |Al Manāqil|7 Golf View Circle|\n",
      "|2023-10-31 11:09:22.509|2113 |12  |Pollich-Kuhlman|Sudan  |Al Manāqil|7 Golf View Circle|\n",
      "|2023-10-31 11:09:23.481|2113 |12  |Pollich-Kuhlman|Sudan  |Al Manāqil|7 Golf View Circle|\n",
      "|2023-10-31 11:09:23.509|2113 |12  |Pollich-Kuhlman|Sudan  |Al Manāqil|7 Golf View Circle|\n",
      "|2023-10-31 11:09:26.509|2113 |12  |Pollich-Kuhlman|Sudan  |Al Manāqil|7 Golf View Circle|\n",
      "|2023-10-31 11:09:27.509|2113 |12  |Pollich-Kuhlman|Sudan  |Al Manāqil|7 Golf View Circle|\n",
      "|2023-10-31 11:14:21.509|2113 |12  |Pollich-Kuhlman|Sudan  |Al Manāqil|7 Golf View Circle|\n",
      "|2023-10-31 11:20:03.509|2113 |12  |Pollich-Kuhlman|Sudan  |Al Manāqil|7 Golf View Circle|\n",
      "|2023-10-31 11:20:04.509|2113 |12  |Pollich-Kuhlman|Sudan  |Al Manāqil|7 Golf View Circle|\n",
      "|2023-10-31 11:20:28.509|2113 |12  |Pollich-Kuhlman|Sudan  |Al Manāqil|7 Golf View Circle|\n",
      "|2023-10-31 11:20:29.894|2113 |12  |Pollich-Kuhlman|Sudan  |Al Manāqil|7 Golf View Circle|\n",
      "|2023-10-31 11:20:30.894|2113 |12  |Pollich-Kuhlman|Sudan  |Al Manāqil|7 Golf View Circle|\n",
      "|2023-10-31 11:20:31.894|2113 |12  |Pollich-Kuhlman|Sudan  |Al Manāqil|7 Golf View Circle|\n",
      "|2023-10-31 11:20:32.894|2113 |12  |Pollich-Kuhlman|Sudan  |Al Manāqil|7 Golf View Circle|\n",
      "|2023-10-31 11:20:33.894|2113 |12  |Pollich-Kuhlman|Sudan  |Al Manāqil|7 Golf View Circle|\n",
      "+-----------------------+-----+----+---------------+-------+----------+------------------+\n",
      "only showing top 20 rows\n",
      "\n"
     ]
    }
   ],
   "source": [
    "(spark.sql(\"select tst, route, oper, operator_name, country, city, address from query_join_vechicle_operators_append\")\n",
    "    .filter(col('route') == '2113')\n",
    "    .show(n = 20, truncate = False))"
   ]
  },
  {
   "cell_type": "code",
   "execution_count": 278,
   "id": "7c3794ef-3471-4b45-b77e-258481d0d07f",
   "metadata": {},
   "outputs": [],
   "source": [
    "query_join_vechicle_operators_append.stop()"
   ]
  },
  {
   "cell_type": "markdown",
   "id": "e8b6cdb1-3d59-4c13-bfc1-605033742dcf",
   "metadata": {},
   "source": [
    "## Aggregations after join"
   ]
  },
  {
   "cell_type": "code",
   "execution_count": 279,
   "id": "ad9000a6-4edd-4d85-9707-2978851b735d",
   "metadata": {},
   "outputs": [],
   "source": [
    "vehicle_position_operators_group_df = (join_vehicle_operators_df\n",
    "      .withWatermark(\"tst\", \"1 milliseconds\")\n",
    "      .groupBy(\n",
    "        window(col(\"tst\"), \"1 minutes\", \"1 minutes\"),\n",
    "        col(\"oper\"),\n",
    "        col(\"operator_name\") \n",
    "      ).count())"
   ]
  },
  {
   "cell_type": "code",
   "execution_count": 280,
   "id": "9493489a-6b3a-40ce-ba43-2213292250e6",
   "metadata": {},
   "outputs": [],
   "source": [
    "vehicle_position_operators_query_append = (vehicle_position_operators_group_df.writeStream\n",
    "        .format(\"memory\")\n",
    "        .trigger(processingTime = '6 seconds') \n",
    "        .outputMode(\"append\")\n",
    "        .queryName(\"vehicle_position_operators_append\")\n",
    "        .start())"
   ]
  },
  {
   "cell_type": "code",
   "execution_count": 283,
   "id": "645e1438-7d1a-4df2-8b43-70fe90c01e9d",
   "metadata": {},
   "outputs": [
    {
     "name": "stdout",
     "output_type": "stream",
     "text": [
      "+------------------------------------------+----+------------------------------+-----+\n",
      "|window                                    |oper|operator_name                 |count|\n",
      "+------------------------------------------+----+------------------------------+-----+\n",
      "|{2023-10-31 11:08:00, 2023-10-31 11:09:00}|22  |Mueller, Hoeger and Morissette|2    |\n",
      "|{2023-10-31 11:20:00, 2023-10-31 11:21:00}|22  |Mueller, Hoeger and Morissette|15622|\n",
      "|{2023-10-31 11:13:00, 2023-10-31 11:14:00}|22  |Mueller, Hoeger and Morissette|564  |\n",
      "|{2023-11-02 13:52:00, 2023-11-02 13:53:00}|22  |Mueller, Hoeger and Morissette|28   |\n",
      "|{2023-10-31 13:43:00, 2023-10-31 13:44:00}|22  |Mueller, Hoeger and Morissette|9618 |\n",
      "|{2023-10-31 11:22:00, 2023-10-31 11:23:00}|22  |Mueller, Hoeger and Morissette|596  |\n",
      "|{2023-10-31 13:42:00, 2023-10-31 13:43:00}|22  |Mueller, Hoeger and Morissette|20599|\n",
      "|{2023-10-31 13:41:00, 2023-10-31 13:42:00}|22  |Mueller, Hoeger and Morissette|20336|\n",
      "|{2023-10-31 11:19:00, 2023-10-31 11:20:00}|22  |Mueller, Hoeger and Morissette|379  |\n",
      "|{2023-10-31 11:21:00, 2023-10-31 11:22:00}|22  |Mueller, Hoeger and Morissette|15776|\n",
      "|{2023-10-31 11:14:00, 2023-10-31 11:15:00}|22  |Mueller, Hoeger and Morissette|11707|\n",
      "|{2023-10-31 13:40:00, 2023-10-31 13:41:00}|22  |Mueller, Hoeger and Morissette|10223|\n",
      "|{2023-10-31 11:09:00, 2023-10-31 11:10:00}|22  |Mueller, Hoeger and Morissette|6339 |\n",
      "+------------------------------------------+----+------------------------------+-----+\n",
      "\n"
     ]
    }
   ],
   "source": [
    "(spark.sql(\"select * from vehicle_position_operators_append\")\n",
    "    .filter(col('oper') == '22')\n",
    "    .show(truncate = False, n = 30))"
   ]
  },
  {
   "cell_type": "code",
   "execution_count": 284,
   "id": "aaf42cd7-15b0-4a96-af82-4f2400592ff0",
   "metadata": {},
   "outputs": [],
   "source": [
    "vehicle_position_operators_query_append.stop()"
   ]
  },
  {
   "cell_type": "markdown",
   "id": "d5cb17c8-9119-4708-affc-d26699b731e2",
   "metadata": {},
   "source": [
    "## Sorting"
   ]
  },
  {
   "cell_type": "code",
   "execution_count": 285,
   "id": "e96c84cc-ec7f-4b45-8af8-f8ea35537f86",
   "metadata": {},
   "outputs": [],
   "source": [
    "vehicle_position_operators_group_sort_df = (join_vehicle_operators_df\n",
    "      .groupBy(\n",
    "        window(col(\"tst\"), \"1 minutes\", \"1 minutes\"),\n",
    "        col(\"oper\"),\n",
    "        col(\"operator_name\") \n",
    "      ).count()\n",
    "      .orderBy(desc('window')))"
   ]
  },
  {
   "cell_type": "code",
   "execution_count": 286,
   "id": "9ad0f55c-e8a5-403b-8f88-4084fdd8a0ce",
   "metadata": {},
   "outputs": [],
   "source": [
    "vehicle_position_operators_query_complete = (vehicle_position_operators_group_sort_df.writeStream\n",
    "    .format(\"memory\")\n",
    "    .trigger(processingTime = '6 seconds') \n",
    "    .outputMode(\"complete\")\n",
    "    .queryName(\"vehicle_position_operators_complete\")\n",
    "    .start())"
   ]
  },
  {
   "cell_type": "code",
   "execution_count": 287,
   "id": "a3256e02-b6fc-4c18-bca6-c1b3e7c0eca9",
   "metadata": {},
   "outputs": [
    {
     "name": "stdout",
     "output_type": "stream",
     "text": [
      "+------------------------------------------+----+------------------------------+-----+\n",
      "|window                                    |oper|operator_name                 |count|\n",
      "+------------------------------------------+----+------------------------------+-----+\n",
      "|{2023-11-02 13:53:00, 2023-11-02 13:54:00}|22  |Mueller, Hoeger and Morissette|5223 |\n",
      "|{2023-11-02 13:52:00, 2023-11-02 13:53:00}|22  |Mueller, Hoeger and Morissette|28   |\n",
      "|{2023-10-31 13:43:00, 2023-10-31 13:44:00}|22  |Mueller, Hoeger and Morissette|9618 |\n",
      "|{2023-10-31 13:42:00, 2023-10-31 13:43:00}|22  |Mueller, Hoeger and Morissette|20599|\n",
      "|{2023-10-31 13:41:00, 2023-10-31 13:42:00}|22  |Mueller, Hoeger and Morissette|20336|\n",
      "|{2023-10-31 13:40:00, 2023-10-31 13:41:00}|22  |Mueller, Hoeger and Morissette|10223|\n",
      "|{2023-10-31 11:22:00, 2023-10-31 11:23:00}|22  |Mueller, Hoeger and Morissette|596  |\n",
      "|{2023-10-31 11:21:00, 2023-10-31 11:22:00}|22  |Mueller, Hoeger and Morissette|15776|\n",
      "|{2023-10-31 11:20:00, 2023-10-31 11:21:00}|22  |Mueller, Hoeger and Morissette|15622|\n",
      "|{2023-10-31 11:19:00, 2023-10-31 11:20:00}|22  |Mueller, Hoeger and Morissette|379  |\n",
      "|{2023-10-31 11:14:00, 2023-10-31 11:15:00}|22  |Mueller, Hoeger and Morissette|11707|\n",
      "|{2023-10-31 11:13:00, 2023-10-31 11:14:00}|22  |Mueller, Hoeger and Morissette|564  |\n",
      "|{2023-10-31 11:09:00, 2023-10-31 11:10:00}|22  |Mueller, Hoeger and Morissette|6339 |\n",
      "|{2023-10-31 11:08:00, 2023-10-31 11:09:00}|22  |Mueller, Hoeger and Morissette|2    |\n",
      "+------------------------------------------+----+------------------------------+-----+\n",
      "\n"
     ]
    }
   ],
   "source": [
    "(spark.sql(\"select * from vehicle_position_operators_complete\")\n",
    "    .filter(col('oper') == '22')\n",
    "    .show(truncate = False, n = 100))"
   ]
  },
  {
   "cell_type": "code",
   "execution_count": null,
   "id": "796a0464-6ab7-4374-a7f6-58e659edfda8",
   "metadata": {},
   "outputs": [],
   "source": [
    "vehicle_position_operators_query_complete.stop()"
   ]
  },
  {
   "cell_type": "markdown",
   "id": "9af38fbe-35bb-4a4d-975d-fc17d7f2fc61",
   "metadata": {},
   "source": [
    "<h3> Thoughts on sorting </h3>\n",
    "<b>Sorting operations are supported on streaming Datasets only after an aggregation and in Complete Output Mode</b>. <br>\n",
    "So we can only use the groupBy in Complete mode and not in Append mode."
   ]
  },
  {
   "cell_type": "markdown",
   "id": "7c9f8ed0-baa0-4dea-96a8-cbe7ec49a445",
   "metadata": {},
   "source": [
    "<h1>Query mamagement</h1>"
   ]
  },
  {
   "cell_type": "markdown",
   "id": "a330ce04-163a-40fe-9cfc-bed009906f39",
   "metadata": {},
   "source": [
    "[documentation](https://spark.apache.org/docs/3.4.1/api/python/reference/pyspark.ss/api/pyspark.sql.streaming.StreamingQuery.html)"
   ]
  },
  {
   "cell_type": "markdown",
   "id": "864c62fb-d4fd-43cb-afef-38b9d2fbdda4",
   "metadata": {},
   "source": [
    "<h3>Get the unique identifier of the running query</h3>"
   ]
  },
  {
   "cell_type": "code",
   "execution_count": 288,
   "id": "ab7d7d34-41ce-48b6-bb00-dcfe51fd96a8",
   "metadata": {},
   "outputs": [
    {
     "data": {
      "text/plain": [
       "'718b7907-b6a0-47bd-9c91-a07f39297a25'"
      ]
     },
     "execution_count": 288,
     "metadata": {},
     "output_type": "execute_result"
    }
   ],
   "source": [
    "vehicle_position_operators_query_complete.id"
   ]
  },
  {
   "cell_type": "markdown",
   "id": "9800a5ac-64cf-49a9-96dc-dc955234e90c",
   "metadata": {},
   "source": [
    "<h3>Get the run id of the query</h3>"
   ]
  },
  {
   "cell_type": "code",
   "execution_count": 289,
   "id": "6524d73b-e64b-4df7-a862-2412e2ec84f7",
   "metadata": {},
   "outputs": [
    {
     "data": {
      "text/plain": [
       "'e45cc28f-359d-4a56-a213-0c7e2d9a1465'"
      ]
     },
     "execution_count": 289,
     "metadata": {},
     "output_type": "execute_result"
    }
   ],
   "source": [
    "vehicle_position_operators_query_complete.runId"
   ]
  },
  {
   "cell_type": "markdown",
   "id": "4dc29755-b596-4878-86c9-cee13f790630",
   "metadata": {},
   "source": [
    "<h3>Get the name of the auto-generated or user-specified name</h3>"
   ]
  },
  {
   "cell_type": "code",
   "execution_count": 290,
   "id": "a97cd00c-c826-4bf3-836c-bcc7ea1f0a4d",
   "metadata": {},
   "outputs": [
    {
     "data": {
      "text/plain": [
       "'vehicle_position_operators_complete'"
      ]
     },
     "execution_count": 290,
     "metadata": {},
     "output_type": "execute_result"
    }
   ],
   "source": [
    "vehicle_position_operators_query_complete.name"
   ]
  },
  {
   "cell_type": "markdown",
   "id": "667cb359-0382-46fb-8400-bb7a4f946e10",
   "metadata": {},
   "source": [
    "<h3>Print detailed explanations of the query</h3>"
   ]
  },
  {
   "cell_type": "code",
   "execution_count": 291,
   "id": "2c9ad569-bcab-4c36-a400-a41f8692fe78",
   "metadata": {},
   "outputs": [
    {
     "name": "stdout",
     "output_type": "stream",
     "text": [
      "== Physical Plan ==\n",
      "WriteToDataSourceV2 MicroBatchWrite[epoch: 0, writer: org.apache.spark.sql.execution.streaming.sources.MemoryStreamingWrite@62a7e55c], org.apache.spark.sql.execution.datasources.v2.DataSourceV2Strategy$$Lambda$2247/0x0000000801cceb58@6094b0c3\n",
      "+- *(6) Sort [window#1002424 DESC NULLS LAST], true, 0\n",
      "   +- Exchange rangepartitioning(window#1002424 DESC NULLS LAST, 200), ENSURE_REQUIREMENTS, [plan_id=69893]\n",
      "      +- *(5) HashAggregate(keys=[window#1002424, oper#984008, operator_name#996269], functions=[count(1)])\n",
      "         +- StateStoreSave [window#1002424, oper#984008, operator_name#996269], state info [ checkpoint = file:/tmp/temporary-d6a1d74d-cd79-4991-a64e-9814a8fc0dc3/state, runId = e45cc28f-359d-4a56-a213-0c7e2d9a1465, opId = 0, ver = 0, numPartitions = 200], Complete, 0, 0, 2\n",
      "            +- *(4) HashAggregate(keys=[window#1002424, oper#984008, operator_name#996269], functions=[merge_count(1)])\n",
      "               +- StateStoreRestore [window#1002424, oper#984008, operator_name#996269], state info [ checkpoint = file:/tmp/temporary-d6a1d74d-cd79-4991-a64e-9814a8fc0dc3/state, runId = e45cc28f-359d-4a56-a213-0c7e2d9a1465, opId = 0, ver = 0, numPartitions = 200], 2\n",
      "                  +- *(3) HashAggregate(keys=[window#1002424, oper#984008, operator_name#996269], functions=[merge_count(1)])\n",
      "                     +- Exchange hashpartitioning(window#1002424, oper#984008, operator_name#996269, 200), ENSURE_REQUIREMENTS, [plan_id=69881]\n",
      "                        +- *(2) HashAggregate(keys=[window#1002424, oper#984008, operator_name#996269], functions=[partial_count(1)])\n",
      "                           +- *(2) Project [named_struct(start, knownnullable(precisetimestampconversion(((precisetimestampconversion(tst#984010, TimestampType, LongType) - CASE WHEN (((precisetimestampconversion(tst#984010, TimestampType, LongType) - 0) % 60000000) < 0) THEN (((precisetimestampconversion(tst#984010, TimestampType, LongType) - 0) % 60000000) + 60000000) ELSE ((precisetimestampconversion(tst#984010, TimestampType, LongType) - 0) % 60000000) END) - 0), LongType, TimestampType)), end, knownnullable(precisetimestampconversion((((precisetimestampconversion(tst#984010, TimestampType, LongType) - CASE WHEN (((precisetimestampconversion(tst#984010, TimestampType, LongType) - 0) % 60000000) < 0) THEN (((precisetimestampconversion(tst#984010, TimestampType, LongType) - 0) % 60000000) + 60000000) ELSE ((precisetimestampconversion(tst#984010, TimestampType, LongType) - 0) % 60000000) END) - 0) + 60000000), LongType, TimestampType))) AS window#1002424, oper#984008, operator_name#996269]\n",
      "                              +- *(2) BroadcastHashJoin [oper#984008], [id#996268], LeftOuter, BuildRight, false\n",
      "                                 :- *(2) Project [json#984003.VP.oper AS oper#984008, json#984003.VP.tst AS tst#984010]\n",
      "                                 :  +- Project [from_json(StructField(VP,StructType(StructField(desi,StringType,true),StructField(dir,StringType,true),StructField(oper,IntegerType,true),StructField(veh,IntegerType,true),StructField(tst,TimestampType,true),StructField(tsi,LongType,true),StructField(spd,DoubleType,true),StructField(hdg,IntegerType,true),StructField(lat,DoubleType,true),StructField(long,DoubleType,true),StructField(acc,DoubleType,true),StructField(dl,IntegerType,true),StructField(odo,StringType,true),StructField(drst,StringType,true),StructField(oday,DateType,true),StructField(jrn,IntegerType,true),StructField(line,IntegerType,true),StructField(start,StringType,true),StructField(loc,StringType,true),StructField(stop,LongType,true),StructField(route,StringType,true),StructField(occu,IntegerType,true)),true), cast(value#983986 as string), Some(Etc/UTC)) AS json#984003]\n",
      "                                 :     +- Filter (isnotnull(value#983986) AND isnotnull(from_json(StructField(VP,StructType(StructField(desi,StringType,true),StructField(dir,StringType,true),StructField(oper,IntegerType,true),StructField(veh,IntegerType,true),StructField(tst,TimestampType,true),StructField(tsi,LongType,true),StructField(spd,DoubleType,true),StructField(hdg,IntegerType,true),StructField(lat,DoubleType,true),StructField(long,DoubleType,true),StructField(acc,DoubleType,true),StructField(dl,IntegerType,true),StructField(odo,StringType,true),StructField(drst,StringType,true),StructField(oday,DateType,true),StructField(jrn,IntegerType,true),StructField(line,IntegerType,true),StructField(start,StringType,true),StructField(loc,StringType,true),StructField(stop,LongType,true),StructField(route,StringType,true),StructField(occu,IntegerType,true)),true), cast(value#983986 as string), Some(Etc/UTC)).VP.tst))\n",
      "                                 :        +- MicroBatchScan[key#983985, value#983986, topic#983987, partition#983988, offset#983989L, timestamp#983990, timestampType#983991] class org.apache.spark.sql.kafka010.KafkaSourceProvider$KafkaScan\n",
      "                                 +- BroadcastExchange HashedRelationBroadcastMode(List(cast(input[0, int, false] as bigint)),false), [plan_id=69875]\n",
      "                                    +- *(1) Filter isnotnull(id#996268)\n",
      "                                       +- FileScan csv [id#996268,operator_name#996269] Batched: false, DataFilters: [isnotnull(id#996268)], Format: CSV, Location: InMemoryFileIndex(1 paths)[file:/home/jovyan/operators.csv], PartitionFilters: [], PushedFilters: [IsNotNull(id)], ReadSchema: struct<id:int,operator_name:string>\n",
      "\n",
      "\n"
     ]
    }
   ],
   "source": [
    "vehicle_position_operators_query_complete.explain()"
   ]
  },
  {
   "cell_type": "markdown",
   "id": "5fc7bfed-2fd9-4998-8573-06d7e5febb67",
   "metadata": {},
   "source": [
    "<h3>Query recent progress</h3>"
   ]
  },
  {
   "cell_type": "code",
   "execution_count": 292,
   "id": "16525a07-8e4f-42ed-aeb4-5aad0141533a",
   "metadata": {},
   "outputs": [
    {
     "data": {
      "text/plain": [
       "[{'id': '718b7907-b6a0-47bd-9c91-a07f39297a25',\n",
       "  'runId': 'e45cc28f-359d-4a56-a213-0c7e2d9a1465',\n",
       "  'name': 'vehicle_position_operators_complete',\n",
       "  'timestamp': '2023-11-02T13:55:24.645Z',\n",
       "  'batchId': 0,\n",
       "  'numInputRows': 411015,\n",
       "  'inputRowsPerSecond': 0.0,\n",
       "  'processedRowsPerSecond': 48698.459715639816,\n",
       "  'durationMs': {'addBatch': 8331,\n",
       "   'commitOffsets': 23,\n",
       "   'getBatch': 1,\n",
       "   'latestOffset': 38,\n",
       "   'queryPlanning': 23,\n",
       "   'triggerExecution': 8440,\n",
       "   'walCommit': 23},\n",
       "  'stateOperators': [{'operatorName': 'stateStoreSave',\n",
       "    'numRowsTotal': 414,\n",
       "    'numRowsUpdated': 414,\n",
       "    'allUpdatesTimeMs': 2159,\n",
       "    'numRowsRemoved': 0,\n",
       "    'allRemovalsTimeMs': 0,\n",
       "    'commitTimeMs': 12985,\n",
       "    'memoryUsedBytes': 208768,\n",
       "    'numRowsDroppedByWatermark': 0,\n",
       "    'numShufflePartitions': 400,\n",
       "    'numStateStoreInstances': 400,\n",
       "    'customMetrics': {'loadedMapCacheHitCount': 0,\n",
       "     'loadedMapCacheMissCount': 0,\n",
       "     'stateOnCurrentVersionSizeBytes': 151168}}],\n",
       "  'sources': [{'description': 'KafkaV2[Subscribe[vehicle-positions]]',\n",
       "    'startOffset': None,\n",
       "    'endOffset': {'vehicle-positions': {'2': 69199,\n",
       "      '5': 69539,\n",
       "      '4': 68791,\n",
       "      '1': 65759,\n",
       "      '3': 69537,\n",
       "      '0': 68190}},\n",
       "    'latestOffset': {'vehicle-positions': {'2': 69199,\n",
       "      '5': 69539,\n",
       "      '4': 68791,\n",
       "      '1': 65759,\n",
       "      '3': 69537,\n",
       "      '0': 68190}},\n",
       "    'numInputRows': 411015,\n",
       "    'inputRowsPerSecond': 0.0,\n",
       "    'processedRowsPerSecond': 48698.459715639816,\n",
       "    'metrics': {'avgOffsetsBehindLatest': '0.0',\n",
       "     'maxOffsetsBehindLatest': '0',\n",
       "     'minOffsetsBehindLatest': '0'}}],\n",
       "  'sink': {'description': 'MemorySink', 'numOutputRows': 207}},\n",
       " {'id': '718b7907-b6a0-47bd-9c91-a07f39297a25',\n",
       "  'runId': 'e45cc28f-359d-4a56-a213-0c7e2d9a1465',\n",
       "  'name': 'vehicle_position_operators_complete',\n",
       "  'timestamp': '2023-11-02T13:55:48.000Z',\n",
       "  'batchId': 1,\n",
       "  'numInputRows': 0,\n",
       "  'inputRowsPerSecond': 0.0,\n",
       "  'processedRowsPerSecond': 0.0,\n",
       "  'durationMs': {'latestOffset': 3, 'triggerExecution': 3},\n",
       "  'stateOperators': [{'operatorName': 'stateStoreSave',\n",
       "    'numRowsTotal': 414,\n",
       "    'numRowsUpdated': 0,\n",
       "    'allUpdatesTimeMs': 2159,\n",
       "    'numRowsRemoved': 0,\n",
       "    'allRemovalsTimeMs': 0,\n",
       "    'commitTimeMs': 12985,\n",
       "    'memoryUsedBytes': 208768,\n",
       "    'numRowsDroppedByWatermark': 0,\n",
       "    'numShufflePartitions': 400,\n",
       "    'numStateStoreInstances': 400,\n",
       "    'customMetrics': {'loadedMapCacheHitCount': 0,\n",
       "     'loadedMapCacheMissCount': 0,\n",
       "     'stateOnCurrentVersionSizeBytes': 151168}}],\n",
       "  'sources': [{'description': 'KafkaV2[Subscribe[vehicle-positions]]',\n",
       "    'startOffset': {'vehicle-positions': {'2': 69199,\n",
       "      '5': 69539,\n",
       "      '4': 68791,\n",
       "      '1': 65759,\n",
       "      '3': 69537,\n",
       "      '0': 68190}},\n",
       "    'endOffset': {'vehicle-positions': {'2': 69199,\n",
       "      '5': 69539,\n",
       "      '4': 68791,\n",
       "      '1': 65759,\n",
       "      '3': 69537,\n",
       "      '0': 68190}},\n",
       "    'latestOffset': {'vehicle-positions': {'2': 69199,\n",
       "      '5': 69539,\n",
       "      '4': 68791,\n",
       "      '1': 65759,\n",
       "      '3': 69537,\n",
       "      '0': 68190}},\n",
       "    'numInputRows': 0,\n",
       "    'inputRowsPerSecond': 0.0,\n",
       "    'processedRowsPerSecond': 0.0,\n",
       "    'metrics': {'avgOffsetsBehindLatest': '0.0',\n",
       "     'maxOffsetsBehindLatest': '0',\n",
       "     'minOffsetsBehindLatest': '0'}}],\n",
       "  'sink': {'description': 'MemorySink', 'numOutputRows': 0}}]"
      ]
     },
     "execution_count": 292,
     "metadata": {},
     "output_type": "execute_result"
    }
   ],
   "source": [
    "vehicle_position_operators_query_complete.recentProgress"
   ]
  },
  {
   "cell_type": "markdown",
   "id": "9ab18b11-a1a4-405e-aec6-178cad0a93f4",
   "metadata": {},
   "source": [
    "<h3>Get the query last progress</h3>"
   ]
  },
  {
   "cell_type": "code",
   "execution_count": 293,
   "id": "1d31aa1f-cb3d-4d3b-a85c-1c163ca7e6cb",
   "metadata": {},
   "outputs": [
    {
     "data": {
      "text/plain": [
       "{'id': '718b7907-b6a0-47bd-9c91-a07f39297a25',\n",
       " 'runId': 'e45cc28f-359d-4a56-a213-0c7e2d9a1465',\n",
       " 'name': 'vehicle_position_operators_complete',\n",
       " 'timestamp': '2023-11-02T13:55:48.000Z',\n",
       " 'batchId': 1,\n",
       " 'numInputRows': 0,\n",
       " 'inputRowsPerSecond': 0.0,\n",
       " 'processedRowsPerSecond': 0.0,\n",
       " 'durationMs': {'latestOffset': 3, 'triggerExecution': 3},\n",
       " 'stateOperators': [{'operatorName': 'stateStoreSave',\n",
       "   'numRowsTotal': 414,\n",
       "   'numRowsUpdated': 0,\n",
       "   'allUpdatesTimeMs': 2159,\n",
       "   'numRowsRemoved': 0,\n",
       "   'allRemovalsTimeMs': 0,\n",
       "   'commitTimeMs': 12985,\n",
       "   'memoryUsedBytes': 208768,\n",
       "   'numRowsDroppedByWatermark': 0,\n",
       "   'numShufflePartitions': 400,\n",
       "   'numStateStoreInstances': 400,\n",
       "   'customMetrics': {'loadedMapCacheHitCount': 0,\n",
       "    'loadedMapCacheMissCount': 0,\n",
       "    'stateOnCurrentVersionSizeBytes': 151168}}],\n",
       " 'sources': [{'description': 'KafkaV2[Subscribe[vehicle-positions]]',\n",
       "   'startOffset': {'vehicle-positions': {'2': 69199,\n",
       "     '5': 69539,\n",
       "     '4': 68791,\n",
       "     '1': 65759,\n",
       "     '3': 69537,\n",
       "     '0': 68190}},\n",
       "   'endOffset': {'vehicle-positions': {'2': 69199,\n",
       "     '5': 69539,\n",
       "     '4': 68791,\n",
       "     '1': 65759,\n",
       "     '3': 69537,\n",
       "     '0': 68190}},\n",
       "   'latestOffset': {'vehicle-positions': {'2': 69199,\n",
       "     '5': 69539,\n",
       "     '4': 68791,\n",
       "     '1': 65759,\n",
       "     '3': 69537,\n",
       "     '0': 68190}},\n",
       "   'numInputRows': 0,\n",
       "   'inputRowsPerSecond': 0.0,\n",
       "   'processedRowsPerSecond': 0.0,\n",
       "   'metrics': {'avgOffsetsBehindLatest': '0.0',\n",
       "    'maxOffsetsBehindLatest': '0',\n",
       "    'minOffsetsBehindLatest': '0'}}],\n",
       " 'sink': {'description': 'MemorySink', 'numOutputRows': 0}}"
      ]
     },
     "execution_count": 293,
     "metadata": {},
     "output_type": "execute_result"
    }
   ],
   "source": [
    "vehicle_position_operators_query_complete.lastProgress"
   ]
  },
  {
   "cell_type": "markdown",
   "id": "80be6691-1f21-4e3d-a163-3ed3be7092ef",
   "metadata": {},
   "source": [
    "<h3>Get the list of currently active streaming queries</h3>"
   ]
  },
  {
   "cell_type": "code",
   "execution_count": 294,
   "id": "ec5fa112-4a80-4b9e-a8a3-9ffc6bc16592",
   "metadata": {},
   "outputs": [
    {
     "data": {
      "text/plain": [
       "[<pyspark.sql.streaming.query.StreamingQuery at 0xffff63ec6990>]"
      ]
     },
     "execution_count": 294,
     "metadata": {},
     "output_type": "execute_result"
    }
   ],
   "source": [
    "spark.streams.active"
   ]
  },
  {
   "cell_type": "markdown",
   "id": "ac05ab8f-e7c1-4b5f-930b-8ada574147be",
   "metadata": {},
   "source": [
    "<h3>Get the query object from the id</h3>"
   ]
  },
  {
   "cell_type": "code",
   "execution_count": 295,
   "id": "fc4144be-2c0f-4367-9f86-27070e09e603",
   "metadata": {},
   "outputs": [],
   "source": [
    "query = spark.streams.get(vehicle_position_operators_query_complete.id)"
   ]
  },
  {
   "cell_type": "code",
   "execution_count": 296,
   "id": "3c7696da-c5d2-44d8-a464-03f989ea7d96",
   "metadata": {},
   "outputs": [
    {
     "data": {
      "text/plain": [
       "'vehicle_position_operators_complete'"
      ]
     },
     "execution_count": 296,
     "metadata": {},
     "output_type": "execute_result"
    }
   ],
   "source": [
    "query.name"
   ]
  },
  {
   "cell_type": "markdown",
   "id": "9bd0d67d-abf3-4205-80a3-c8a2acbd4528",
   "metadata": {},
   "source": [
    "<h3>Query active</h3>"
   ]
  },
  {
   "cell_type": "code",
   "execution_count": 297,
   "id": "acea86f2-e4fc-42ce-ac29-61a86259e9ff",
   "metadata": {},
   "outputs": [
    {
     "data": {
      "text/plain": [
       "True"
      ]
     },
     "execution_count": 297,
     "metadata": {},
     "output_type": "execute_result"
    }
   ],
   "source": [
    "vehicle_position_operators_query_complete.isActive"
   ]
  },
  {
   "cell_type": "markdown",
   "id": "32d7c948-8f65-4540-93bc-72af1af5fcbe",
   "metadata": {},
   "source": [
    "<h3>Query status</h3>"
   ]
  },
  {
   "cell_type": "code",
   "execution_count": 298,
   "id": "1e299a46-3e1a-4e17-9384-64b75a763049",
   "metadata": {},
   "outputs": [
    {
     "data": {
      "text/plain": [
       "{'message': 'Waiting for next trigger',\n",
       " 'isDataAvailable': False,\n",
       " 'isTriggerActive': False}"
      ]
     },
     "execution_count": 298,
     "metadata": {},
     "output_type": "execute_result"
    }
   ],
   "source": [
    "vehicle_position_operators_query_complete.status"
   ]
  },
  {
   "cell_type": "markdown",
   "id": "36eaf5cc-c34d-4443-96e2-c4d835cd588b",
   "metadata": {},
   "source": [
    "<h3>Query exception (useful if the query has terminated with an exception)</h3>"
   ]
  },
  {
   "cell_type": "code",
   "execution_count": 299,
   "id": "6a6b09f9-1c5a-447a-86ec-762beb9444df",
   "metadata": {},
   "outputs": [],
   "source": [
    "vehicle_position_operators_query_complete.exception()"
   ]
  },
  {
   "cell_type": "markdown",
   "id": "8a4b1d8b-02ca-44b7-97f7-a38da9368bbd",
   "metadata": {},
   "source": [
    "<h3>Await query termination</h3>"
   ]
  },
  {
   "cell_type": "code",
   "execution_count": 300,
   "id": "548a6a9b-4e5b-4aa1-8e06-86d41704936e",
   "metadata": {},
   "outputs": [],
   "source": [
    "#query.awaitTermination([timeout])"
   ]
  },
  {
   "cell_type": "markdown",
   "id": "1b1411e7-1aab-4d54-bc6c-4c07b4372e90",
   "metadata": {},
   "source": [
    "<h3>Stop the query</h3>"
   ]
  },
  {
   "cell_type": "code",
   "execution_count": 301,
   "id": "003dbee4-1032-4f1d-a6ce-75c724153f11",
   "metadata": {},
   "outputs": [],
   "source": [
    "vehicle_position_operators_query_complete.stop()"
   ]
  },
  {
   "cell_type": "markdown",
   "id": "1ce9aa4e-b983-4694-b204-e6e763d4f8c1",
   "metadata": {},
   "source": [
    "<h1>Output Sinks</h1>"
   ]
  },
  {
   "cell_type": "markdown",
   "id": "76b09a66-2679-4bf3-8b2a-1702dcf785f0",
   "metadata": {},
   "source": [
    "<h2>CSV</h2>"
   ]
  },
  {
   "cell_type": "code",
   "execution_count": 302,
   "id": "653e672c-e365-4828-82ca-9cca574785d6",
   "metadata": {},
   "outputs": [],
   "source": [
    "vehicle_position_operators_filter_df = (join_vehicle_operators_df\n",
    "      .withWatermark(\"tst\", \"1 seconds\")\n",
    "      .filter(col('oper').isin('22','90','6','30','12','50'))                                  \n",
    "      .groupBy(\n",
    "        window(col(\"tst\"), \"1 minutes\", \"1 minutes\"),\n",
    "        col(\"oper\"),\n",
    "        col(\"operator_name\") \n",
    "      ).count())"
   ]
  },
  {
   "cell_type": "code",
   "execution_count": 303,
   "id": "d83a7f7a-ca0b-41c6-bfdb-4fce02108330",
   "metadata": {},
   "outputs": [],
   "source": [
    "vehicle_position_operators_filter_mod_df = (vehicle_position_operators_filter_df \n",
    "        .withColumn(\"window\",vehicle_position_operators_filter_df.window.cast('string'))\n",
    "        .coalesce(1)) # writes 1 file csv for each trigger"
   ]
  },
  {
   "cell_type": "code",
   "execution_count": 305,
   "id": "5d42840b-27d1-4d0f-8b26-e43e87976ddb",
   "metadata": {},
   "outputs": [],
   "source": [
    "vehicle_position_operators_filter_mod = (vehicle_position_operators_filter_mod_df.writeStream\n",
    "        .format(\"csv\")                               # can be \"orc\", \"json\", \"parquet\", etc.\n",
    "        .option(\"path\", \"csv\")\n",
    "        .option(\"header\",True)\n",
    "        .trigger(processingTime = '1 minutes') \n",
    "        .outputMode(\"append\")\n",
    "        .option(\"checkpointLocation\", \"checkpoint\")\n",
    "        .start())"
   ]
  },
  {
   "cell_type": "code",
   "execution_count": 306,
   "id": "3368bd6d-11a6-49bc-98a0-2ba0105ee9c5",
   "metadata": {},
   "outputs": [],
   "source": [
    "vehicle_position_operators_filter_mod.exception()"
   ]
  },
  {
   "cell_type": "code",
   "execution_count": 307,
   "id": "4c20adb8-a3ad-4311-b5e9-74de2361fe47",
   "metadata": {},
   "outputs": [
    {
     "data": {
      "text/plain": [
       "{'message': 'Waiting for next trigger',\n",
       " 'isDataAvailable': False,\n",
       " 'isTriggerActive': False}"
      ]
     },
     "execution_count": 307,
     "metadata": {},
     "output_type": "execute_result"
    }
   ],
   "source": [
    "vehicle_position_operators_filter_mod.status"
   ]
  },
  {
   "cell_type": "code",
   "execution_count": 308,
   "id": "3cdddd3e-4f41-4cf2-bd1a-750f253c6bc2",
   "metadata": {},
   "outputs": [
    {
     "data": {
      "text/plain": [
       "True"
      ]
     },
     "execution_count": 308,
     "metadata": {},
     "output_type": "execute_result"
    }
   ],
   "source": [
    "vehicle_position_operators_filter_mod.isActive"
   ]
  },
  {
   "cell_type": "code",
   "execution_count": 309,
   "id": "11ba960d-e94c-465a-8863-8c75f124ec3d",
   "metadata": {},
   "outputs": [],
   "source": [
    "vehicle_position_operators_filter_mod.stop()"
   ]
  },
  {
   "cell_type": "code",
   "execution_count": null,
   "id": "c47ef376-62ee-4645-81ff-a4b4e9078b9a",
   "metadata": {},
   "outputs": [],
   "source": [
    "# to delete folders\n",
    "#! rm -rf csv"
   ]
  },
  {
   "cell_type": "markdown",
   "id": "aa275670-2cbb-4b67-8c87-e3696fab8585",
   "metadata": {},
   "source": [
    "<h3>Thoughts on CSV sink</h3>\n",
    "<ul>\n",
    "    <li> It is not allowed to use the Complete mode so we cannot perform any sorting on the data. </li>\n",
    "    <li> It is necessary to cast the column window to string because timestamp columns are not allowed when the sink is of type CSV </li>\n",
    "    <li> It will be generated one CSV file for each trigger </li>\n",
    "</ul>"
   ]
  },
  {
   "cell_type": "markdown",
   "id": "8f0cf2e8-7854-4224-abbf-155ea3779736",
   "metadata": {},
   "source": [
    "<h2>Kafka Topic</h2>"
   ]
  },
  {
   "cell_type": "code",
   "execution_count": 310,
   "id": "9a37d561-d145-44b6-9b56-48acf363b82e",
   "metadata": {},
   "outputs": [],
   "source": [
    "vehicle_position_operators_kafka_df = (join_vehicle_operators_df\n",
    "      .withWatermark(\"tst\", \"1 seconds\")\n",
    "      #.filter(col('oper').isin('22','90','6','30','12','50'))                                  \n",
    "      .groupBy(\n",
    "        window(col(\"tst\"), \"1 minutes\", \"1 minutes\"),\n",
    "        col(\"oper\"),\n",
    "        col(\"operator_name\") \n",
    "      ).count()\n",
    "      .select(col(\"oper\").alias(\"key\"), to_json(struct(\"window\", \"count\", \"operator_name\")).alias(\"value\")))  "
   ]
  },
  {
   "cell_type": "code",
   "execution_count": 311,
   "id": "0aeff2ff-5731-41da-826d-3af08aedb7d6",
   "metadata": {},
   "outputs": [
    {
     "name": "stdout",
     "output_type": "stream",
     "text": [
      "root\n",
      " |-- key: integer (nullable = true)\n",
      " |-- value: string (nullable = true)\n",
      "\n"
     ]
    }
   ],
   "source": [
    "vehicle_position_operators_kafka_df.printSchema()"
   ]
  },
  {
   "cell_type": "code",
   "execution_count": 320,
   "id": "73bfdecf-acdd-41da-bfea-3cac6c230803",
   "metadata": {},
   "outputs": [
    {
     "ename": "IllegalArgumentException",
     "evalue": "Cannot start query with name vehicle_position_operators_kafka_query_memory as a query with that name is already active in this SparkSession",
     "output_type": "error",
     "traceback": [
      "\u001b[0;31m---------------------------------------------------------------------------\u001b[0m",
      "\u001b[0;31mIllegalArgumentException\u001b[0m                  Traceback (most recent call last)",
      "Cell \u001b[0;32mIn[320], line 8\u001b[0m\n\u001b[1;32m      1\u001b[0m \u001b[38;5;66;03m# Just to check the output\u001b[39;00m\n\u001b[1;32m      2\u001b[0m vehicle_position_operators_kafka_query_memory \u001b[38;5;241m=\u001b[39m (\u001b[43mvehicle_position_operators_kafka_df\u001b[49m\n\u001b[1;32m      3\u001b[0m \u001b[43m    \u001b[49m\u001b[38;5;241;43m.\u001b[39;49m\u001b[43mwriteStream\u001b[49m\n\u001b[1;32m      4\u001b[0m \u001b[43m    \u001b[49m\u001b[38;5;241;43m.\u001b[39;49m\u001b[43mformat\u001b[49m\u001b[43m(\u001b[49m\u001b[38;5;124;43m\"\u001b[39;49m\u001b[38;5;124;43mmemory\u001b[39;49m\u001b[38;5;124;43m\"\u001b[39;49m\u001b[43m)\u001b[49m\n\u001b[1;32m      5\u001b[0m \u001b[43m    \u001b[49m\u001b[38;5;241;43m.\u001b[39;49m\u001b[43mtrigger\u001b[49m\u001b[43m(\u001b[49m\u001b[43mprocessingTime\u001b[49m\u001b[43m \u001b[49m\u001b[38;5;241;43m=\u001b[39;49m\u001b[43m \u001b[49m\u001b[38;5;124;43m'\u001b[39;49m\u001b[38;5;124;43m1 minutes\u001b[39;49m\u001b[38;5;124;43m'\u001b[39;49m\u001b[43m)\u001b[49m\u001b[43m \u001b[49m\n\u001b[1;32m      6\u001b[0m \u001b[43m    \u001b[49m\u001b[38;5;241;43m.\u001b[39;49m\u001b[43moutputMode\u001b[49m\u001b[43m(\u001b[49m\u001b[38;5;124;43m\"\u001b[39;49m\u001b[38;5;124;43mappend\u001b[39;49m\u001b[38;5;124;43m\"\u001b[39;49m\u001b[43m)\u001b[49m\n\u001b[1;32m      7\u001b[0m \u001b[43m    \u001b[49m\u001b[38;5;241;43m.\u001b[39;49m\u001b[43mqueryName\u001b[49m\u001b[43m(\u001b[49m\u001b[38;5;124;43m\"\u001b[39;49m\u001b[38;5;124;43mvehicle_position_operators_kafka_query_memory\u001b[39;49m\u001b[38;5;124;43m\"\u001b[39;49m\u001b[43m)\u001b[49m\n\u001b[0;32m----> 8\u001b[0m \u001b[43m    \u001b[49m\u001b[38;5;241;43m.\u001b[39;49m\u001b[43mstart\u001b[49m\u001b[43m(\u001b[49m\u001b[43m)\u001b[49m)\n",
      "File \u001b[0;32m/usr/local/spark/python/pyspark/sql/streaming/readwriter.py:1385\u001b[0m, in \u001b[0;36mDataStreamWriter.start\u001b[0;34m(self, path, format, outputMode, partitionBy, queryName, **options)\u001b[0m\n\u001b[1;32m   1383\u001b[0m     \u001b[38;5;28mself\u001b[39m\u001b[38;5;241m.\u001b[39mqueryName(queryName)\n\u001b[1;32m   1384\u001b[0m \u001b[38;5;28;01mif\u001b[39;00m path \u001b[38;5;129;01mis\u001b[39;00m \u001b[38;5;28;01mNone\u001b[39;00m:\n\u001b[0;32m-> 1385\u001b[0m     \u001b[38;5;28;01mreturn\u001b[39;00m \u001b[38;5;28mself\u001b[39m\u001b[38;5;241m.\u001b[39m_sq(\u001b[38;5;28;43mself\u001b[39;49m\u001b[38;5;241;43m.\u001b[39;49m\u001b[43m_jwrite\u001b[49m\u001b[38;5;241;43m.\u001b[39;49m\u001b[43mstart\u001b[49m\u001b[43m(\u001b[49m\u001b[43m)\u001b[49m)\n\u001b[1;32m   1386\u001b[0m \u001b[38;5;28;01melse\u001b[39;00m:\n\u001b[1;32m   1387\u001b[0m     \u001b[38;5;28;01mreturn\u001b[39;00m \u001b[38;5;28mself\u001b[39m\u001b[38;5;241m.\u001b[39m_sq(\u001b[38;5;28mself\u001b[39m\u001b[38;5;241m.\u001b[39m_jwrite\u001b[38;5;241m.\u001b[39mstart(path))\n",
      "File \u001b[0;32m/usr/local/spark/python/lib/py4j-0.10.9.7-src.zip/py4j/java_gateway.py:1322\u001b[0m, in \u001b[0;36mJavaMember.__call__\u001b[0;34m(self, *args)\u001b[0m\n\u001b[1;32m   1316\u001b[0m command \u001b[38;5;241m=\u001b[39m proto\u001b[38;5;241m.\u001b[39mCALL_COMMAND_NAME \u001b[38;5;241m+\u001b[39m\\\n\u001b[1;32m   1317\u001b[0m     \u001b[38;5;28mself\u001b[39m\u001b[38;5;241m.\u001b[39mcommand_header \u001b[38;5;241m+\u001b[39m\\\n\u001b[1;32m   1318\u001b[0m     args_command \u001b[38;5;241m+\u001b[39m\\\n\u001b[1;32m   1319\u001b[0m     proto\u001b[38;5;241m.\u001b[39mEND_COMMAND_PART\n\u001b[1;32m   1321\u001b[0m answer \u001b[38;5;241m=\u001b[39m \u001b[38;5;28mself\u001b[39m\u001b[38;5;241m.\u001b[39mgateway_client\u001b[38;5;241m.\u001b[39msend_command(command)\n\u001b[0;32m-> 1322\u001b[0m return_value \u001b[38;5;241m=\u001b[39m \u001b[43mget_return_value\u001b[49m\u001b[43m(\u001b[49m\n\u001b[1;32m   1323\u001b[0m \u001b[43m    \u001b[49m\u001b[43manswer\u001b[49m\u001b[43m,\u001b[49m\u001b[43m \u001b[49m\u001b[38;5;28;43mself\u001b[39;49m\u001b[38;5;241;43m.\u001b[39;49m\u001b[43mgateway_client\u001b[49m\u001b[43m,\u001b[49m\u001b[43m \u001b[49m\u001b[38;5;28;43mself\u001b[39;49m\u001b[38;5;241;43m.\u001b[39;49m\u001b[43mtarget_id\u001b[49m\u001b[43m,\u001b[49m\u001b[43m \u001b[49m\u001b[38;5;28;43mself\u001b[39;49m\u001b[38;5;241;43m.\u001b[39;49m\u001b[43mname\u001b[49m\u001b[43m)\u001b[49m\n\u001b[1;32m   1325\u001b[0m \u001b[38;5;28;01mfor\u001b[39;00m temp_arg \u001b[38;5;129;01min\u001b[39;00m temp_args:\n\u001b[1;32m   1326\u001b[0m     \u001b[38;5;28;01mif\u001b[39;00m \u001b[38;5;28mhasattr\u001b[39m(temp_arg, \u001b[38;5;124m\"\u001b[39m\u001b[38;5;124m_detach\u001b[39m\u001b[38;5;124m\"\u001b[39m):\n",
      "File \u001b[0;32m/usr/local/spark/python/pyspark/errors/exceptions/captured.py:175\u001b[0m, in \u001b[0;36mcapture_sql_exception.<locals>.deco\u001b[0;34m(*a, **kw)\u001b[0m\n\u001b[1;32m    171\u001b[0m converted \u001b[38;5;241m=\u001b[39m convert_exception(e\u001b[38;5;241m.\u001b[39mjava_exception)\n\u001b[1;32m    172\u001b[0m \u001b[38;5;28;01mif\u001b[39;00m \u001b[38;5;129;01mnot\u001b[39;00m \u001b[38;5;28misinstance\u001b[39m(converted, UnknownException):\n\u001b[1;32m    173\u001b[0m     \u001b[38;5;66;03m# Hide where the exception came from that shows a non-Pythonic\u001b[39;00m\n\u001b[1;32m    174\u001b[0m     \u001b[38;5;66;03m# JVM exception message.\u001b[39;00m\n\u001b[0;32m--> 175\u001b[0m     \u001b[38;5;28;01mraise\u001b[39;00m converted \u001b[38;5;28;01mfrom\u001b[39;00m \u001b[38;5;28;01mNone\u001b[39;00m\n\u001b[1;32m    176\u001b[0m \u001b[38;5;28;01melse\u001b[39;00m:\n\u001b[1;32m    177\u001b[0m     \u001b[38;5;28;01mraise\u001b[39;00m\n",
      "\u001b[0;31mIllegalArgumentException\u001b[0m: Cannot start query with name vehicle_position_operators_kafka_query_memory as a query with that name is already active in this SparkSession"
     ]
    }
   ],
   "source": [
    "# Just to check the output\n",
    "vehicle_position_operators_kafka_query_memory = (vehicle_position_operators_kafka_df\n",
    "    .writeStream\n",
    "    .format(\"memory\")\n",
    "    .trigger(processingTime = '1 minutes') \n",
    "    .outputMode(\"append\")\n",
    "    .queryName(\"vehicle_position_operators_kafka_query_memory\")\n",
    "    .start())"
   ]
  },
  {
   "cell_type": "code",
   "execution_count": 321,
   "id": "5f280e25-0ccc-4a66-aed4-2567332b311a",
   "metadata": {},
   "outputs": [
    {
     "name": "stdout",
     "output_type": "stream",
     "text": [
      "+---+-------------------------------------------------------------------------------------------------------------------------------------------------+\n",
      "|key|value                                                                                                                                            |\n",
      "+---+-------------------------------------------------------------------------------------------------------------------------------------------------+\n",
      "|47 |{\"window\":{\"start\":\"2023-10-31T13:41:00.000Z\",\"end\":\"2023-10-31T13:42:00.000Z\"},\"count\":1140,\"operator_name\":\"Gerhold-Schultz\"}                  |\n",
      "|22 |{\"window\":{\"start\":\"2023-10-31T11:08:00.000Z\",\"end\":\"2023-10-31T11:09:00.000Z\"},\"count\":2,\"operator_name\":\"Mueller, Hoeger and Morissette\"}      |\n",
      "|60 |{\"window\":{\"start\":\"2023-10-31T11:09:00.000Z\",\"end\":\"2023-10-31T11:10:00.000Z\"},\"count\":9,\"operator_name\":\"Heathcote-Schinner\"}                  |\n",
      "|54 |{\"window\":{\"start\":\"2023-10-31T11:19:00.000Z\",\"end\":\"2023-10-31T11:20:00.000Z\"},\"count\":14,\"operator_name\":\"Morar Inc\"}                          |\n",
      "|30 |{\"window\":{\"start\":\"2023-10-31T11:09:00.000Z\",\"end\":\"2023-10-31T11:10:00.000Z\"},\"count\":501,\"operator_name\":\"Lakin, Breitenberg and Morissette\"} |\n",
      "|6  |{\"window\":{\"start\":\"2023-10-31T11:21:00.000Z\",\"end\":\"2023-10-31T11:22:00.000Z\"},\"count\":11948,\"operator_name\":\"Bins-Schroeder\"}                  |\n",
      "|36 |{\"window\":{\"start\":\"2023-10-31T13:42:00.000Z\",\"end\":\"2023-10-31T13:43:00.000Z\"},\"count\":420,\"operator_name\":\"Gibson-Lemke\"}                      |\n",
      "|40 |{\"window\":{\"start\":\"2023-10-31T11:19:00.000Z\",\"end\":\"2023-10-31T11:20:00.000Z\"},\"count\":145,\"operator_name\":\"Bogisich LLC\"}                      |\n",
      "|12 |{\"window\":{\"start\":\"2023-10-31T11:21:00.000Z\",\"end\":\"2023-10-31T11:22:00.000Z\"},\"count\":9934,\"operator_name\":\"Pollich-Kuhlman\"}                  |\n",
      "|36 |{\"window\":{\"start\":\"2023-10-31T13:40:00.000Z\",\"end\":\"2023-10-31T13:41:00.000Z\"},\"count\":209,\"operator_name\":\"Gibson-Lemke\"}                      |\n",
      "|50 |{\"window\":{\"start\":\"2023-10-31T13:41:00.000Z\",\"end\":\"2023-10-31T13:42:00.000Z\"},\"count\":2576,\"operator_name\":\"Lemke-Waters\"}                     |\n",
      "|90 |{\"window\":{\"start\":\"2023-10-31T11:18:00.000Z\",\"end\":\"2023-10-31T11:19:00.000Z\"},\"count\":13,\"operator_name\":\"Kuhlman and Sons\"}                   |\n",
      "|60 |{\"window\":{\"start\":\"2023-10-31T13:41:00.000Z\",\"end\":\"2023-10-31T13:42:00.000Z\"},\"count\":12,\"operator_name\":\"Heathcote-Schinner\"}                 |\n",
      "|54 |{\"window\":{\"start\":\"2023-10-31T13:40:00.000Z\",\"end\":\"2023-10-31T13:41:00.000Z\"},\"count\":150,\"operator_name\":\"Morar Inc\"}                         |\n",
      "|50 |{\"window\":{\"start\":\"2023-10-31T13:42:00.000Z\",\"end\":\"2023-10-31T13:43:00.000Z\"},\"count\":2727,\"operator_name\":\"Lemke-Waters\"}                     |\n",
      "|50 |{\"window\":{\"start\":\"2023-10-31T11:09:00.000Z\",\"end\":\"2023-10-31T11:10:00.000Z\"},\"count\":903,\"operator_name\":\"Lemke-Waters\"}                      |\n",
      "|64 |{\"window\":{\"start\":\"2023-10-31T11:13:00.000Z\",\"end\":\"2023-10-31T11:14:00.000Z\"},\"count\":6,\"operator_name\":\"McClure and Sons\"}                    |\n",
      "|6  |{\"window\":{\"start\":\"2023-10-31T11:14:00.000Z\",\"end\":\"2023-10-31T11:15:00.000Z\"},\"count\":8940,\"operator_name\":\"Bins-Schroeder\"}                   |\n",
      "|40 |{\"window\":{\"start\":\"2023-10-31T13:42:00.000Z\",\"end\":\"2023-10-31T13:43:00.000Z\"},\"count\":5816,\"operator_name\":\"Bogisich LLC\"}                     |\n",
      "|17 |{\"window\":{\"start\":\"2023-10-31T13:42:00.000Z\",\"end\":\"2023-10-31T13:43:00.000Z\"},\"count\":2764,\"operator_name\":\"Schoen Inc\"}                       |\n",
      "|47 |{\"window\":{\"start\":\"2023-10-31T13:40:00.000Z\",\"end\":\"2023-10-31T13:41:00.000Z\"},\"count\":567,\"operator_name\":\"Gerhold-Schultz\"}                   |\n",
      "|47 |{\"window\":{\"start\":\"2023-10-31T11:20:00.000Z\",\"end\":\"2023-10-31T11:21:00.000Z\"},\"count\":1320,\"operator_name\":\"Gerhold-Schultz\"}                  |\n",
      "|6  |{\"window\":{\"start\":\"2023-10-31T11:19:00.000Z\",\"end\":\"2023-10-31T11:20:00.000Z\"},\"count\":292,\"operator_name\":\"Bins-Schroeder\"}                    |\n",
      "|64 |{\"window\":{\"start\":\"2023-10-31T11:20:00.000Z\",\"end\":\"2023-10-31T11:21:00.000Z\"},\"count\":354,\"operator_name\":\"McClure and Sons\"}                  |\n",
      "|30 |{\"window\":{\"start\":\"2023-10-31T11:22:00.000Z\",\"end\":\"2023-10-31T11:23:00.000Z\"},\"count\":47,\"operator_name\":\"Lakin, Breitenberg and Morissette\"}  |\n",
      "|30 |{\"window\":{\"start\":\"2023-10-31T11:13:00.000Z\",\"end\":\"2023-10-31T11:14:00.000Z\"},\"count\":51,\"operator_name\":\"Lakin, Breitenberg and Morissette\"}  |\n",
      "|130|{\"window\":{\"start\":\"2023-10-31T11:19:00.000Z\",\"end\":\"2023-10-31T11:20:00.000Z\"},\"count\":14,\"operator_name\":\"Klein, Jakubowski and Hermiston\"}    |\n",
      "|64 |{\"window\":{\"start\":\"2023-10-31T11:22:00.000Z\",\"end\":\"2023-10-31T11:23:00.000Z\"},\"count\":13,\"operator_name\":\"McClure and Sons\"}                   |\n",
      "|54 |{\"window\":{\"start\":\"2023-10-31T11:21:00.000Z\",\"end\":\"2023-10-31T11:22:00.000Z\"},\"count\":540,\"operator_name\":\"Morar Inc\"}                         |\n",
      "|22 |{\"window\":{\"start\":\"2023-10-31T11:20:00.000Z\",\"end\":\"2023-10-31T11:21:00.000Z\"},\"count\":15622,\"operator_name\":\"Mueller, Hoeger and Morissette\"}  |\n",
      "|130|{\"window\":{\"start\":\"2023-10-31T13:40:00.000Z\",\"end\":\"2023-10-31T13:41:00.000Z\"},\"count\":166,\"operator_name\":\"Klein, Jakubowski and Hermiston\"}   |\n",
      "|130|{\"window\":{\"start\":\"2023-10-31T13:42:00.000Z\",\"end\":\"2023-10-31T13:43:00.000Z\"},\"count\":348,\"operator_name\":\"Klein, Jakubowski and Hermiston\"}   |\n",
      "|30 |{\"window\":{\"start\":\"2023-10-31T11:19:00.000Z\",\"end\":\"2023-10-31T11:20:00.000Z\"},\"count\":39,\"operator_name\":\"Lakin, Breitenberg and Morissette\"}  |\n",
      "|22 |{\"window\":{\"start\":\"2023-10-31T11:13:00.000Z\",\"end\":\"2023-10-31T11:14:00.000Z\"},\"count\":564,\"operator_name\":\"Mueller, Hoeger and Morissette\"}    |\n",
      "|59 |{\"window\":{\"start\":\"2023-10-31T11:21:00.000Z\",\"end\":\"2023-10-31T11:22:00.000Z\"},\"count\":180,\"operator_name\":\"Schuster Group\"}                    |\n",
      "|22 |{\"window\":{\"start\":\"2023-11-02T13:52:00.000Z\",\"end\":\"2023-11-02T13:53:00.000Z\"},\"count\":28,\"operator_name\":\"Mueller, Hoeger and Morissette\"}     |\n",
      "|60 |{\"window\":{\"start\":\"2023-10-31T13:40:00.000Z\",\"end\":\"2023-10-31T13:41:00.000Z\"},\"count\":8,\"operator_name\":\"Heathcote-Schinner\"}                  |\n",
      "|90 |{\"window\":{\"start\":\"2023-10-31T13:37:00.000Z\",\"end\":\"2023-10-31T13:38:00.000Z\"},\"count\":60,\"operator_name\":\"Kuhlman and Sons\"}                   |\n",
      "|40 |{\"window\":{\"start\":\"2023-10-31T11:22:00.000Z\",\"end\":\"2023-10-31T11:23:00.000Z\"},\"count\":205,\"operator_name\":\"Bogisich LLC\"}                      |\n",
      "|40 |{\"window\":{\"start\":\"2023-10-31T11:21:00.000Z\",\"end\":\"2023-10-31T11:22:00.000Z\"},\"count\":5640,\"operator_name\":\"Bogisich LLC\"}                     |\n",
      "|6  |{\"window\":{\"start\":\"2023-11-02T13:52:00.000Z\",\"end\":\"2023-11-02T13:53:00.000Z\"},\"count\":2,\"operator_name\":\"Bins-Schroeder\"}                      |\n",
      "|59 |{\"window\":{\"start\":\"2023-10-31T13:43:00.000Z\",\"end\":\"2023-10-31T13:44:00.000Z\"},\"count\":84,\"operator_name\":\"Schuster Group\"}                     |\n",
      "|47 |{\"window\":{\"start\":\"2023-10-31T13:43:00.000Z\",\"end\":\"2023-10-31T13:44:00.000Z\"},\"count\":531,\"operator_name\":\"Gerhold-Schultz\"}                   |\n",
      "|54 |{\"window\":{\"start\":\"2023-10-31T13:43:00.000Z\",\"end\":\"2023-10-31T13:44:00.000Z\"},\"count\":167,\"operator_name\":\"Morar Inc\"}                         |\n",
      "|17 |{\"window\":{\"start\":\"2023-10-31T11:20:00.000Z\",\"end\":\"2023-10-31T11:21:00.000Z\"},\"count\":1829,\"operator_name\":\"Schoen Inc\"}                       |\n",
      "|12 |{\"window\":{\"start\":\"2023-10-31T13:43:00.000Z\",\"end\":\"2023-10-31T13:44:00.000Z\"},\"count\":6237,\"operator_name\":\"Pollich-Kuhlman\"}                  |\n",
      "|12 |{\"window\":{\"start\":\"2023-10-31T13:42:00.000Z\",\"end\":\"2023-10-31T13:43:00.000Z\"},\"count\":13307,\"operator_name\":\"Pollich-Kuhlman\"}                 |\n",
      "|6  |{\"window\":{\"start\":\"2023-10-31T13:43:00.000Z\",\"end\":\"2023-10-31T13:44:00.000Z\"},\"count\":7388,\"operator_name\":\"Bins-Schroeder\"}                   |\n",
      "|59 |{\"window\":{\"start\":\"2023-10-31T11:22:00.000Z\",\"end\":\"2023-10-31T11:23:00.000Z\"},\"count\":7,\"operator_name\":\"Schuster Group\"}                      |\n",
      "|40 |{\"window\":{\"start\":\"2023-10-31T11:20:00.000Z\",\"end\":\"2023-10-31T11:21:00.000Z\"},\"count\":5640,\"operator_name\":\"Bogisich LLC\"}                     |\n",
      "|64 |{\"window\":{\"start\":\"2023-10-31T11:21:00.000Z\",\"end\":\"2023-10-31T11:22:00.000Z\"},\"count\":360,\"operator_name\":\"McClure and Sons\"}                  |\n",
      "|50 |{\"window\":{\"start\":\"2023-10-31T11:13:00.000Z\",\"end\":\"2023-10-31T11:14:00.000Z\"},\"count\":114,\"operator_name\":\"Lemke-Waters\"}                      |\n",
      "|21 |{\"window\":{\"start\":\"2023-10-31T13:42:00.000Z\",\"end\":\"2023-10-31T13:43:00.000Z\"},\"count\":130,\"operator_name\":\"Ledner-Boyer\"}                      |\n",
      "|130|{\"window\":{\"start\":\"2023-10-31T11:21:00.000Z\",\"end\":\"2023-10-31T11:22:00.000Z\"},\"count\":168,\"operator_name\":\"Klein, Jakubowski and Hermiston\"}   |\n",
      "|21 |{\"window\":{\"start\":\"2023-10-31T11:13:00.000Z\",\"end\":\"2023-10-31T11:14:00.000Z\"},\"count\":9,\"operator_name\":\"Ledner-Boyer\"}                        |\n",
      "|90 |{\"window\":{\"start\":\"2023-10-31T13:36:00.000Z\",\"end\":\"2023-10-31T13:37:00.000Z\"},\"count\":28,\"operator_name\":\"Kuhlman and Sons\"}                   |\n",
      "|130|{\"window\":{\"start\":\"2023-10-31T11:13:00.000Z\",\"end\":\"2023-10-31T11:14:00.000Z\"},\"count\":13,\"operator_name\":\"Klein, Jakubowski and Hermiston\"}    |\n",
      "|64 |{\"window\":{\"start\":\"2023-10-31T13:42:00.000Z\",\"end\":\"2023-10-31T13:43:00.000Z\"},\"count\":420,\"operator_name\":\"McClure and Sons\"}                  |\n",
      "|54 |{\"window\":{\"start\":\"2023-10-31T11:13:00.000Z\",\"end\":\"2023-10-31T11:14:00.000Z\"},\"count\":22,\"operator_name\":\"Morar Inc\"}                          |\n",
      "|22 |{\"window\":{\"start\":\"2023-10-31T13:43:00.000Z\",\"end\":\"2023-10-31T13:44:00.000Z\"},\"count\":9618,\"operator_name\":\"Mueller, Hoeger and Morissette\"}   |\n",
      "|54 |{\"window\":{\"start\":\"2023-10-31T11:20:00.000Z\",\"end\":\"2023-10-31T11:21:00.000Z\"},\"count\":540,\"operator_name\":\"Morar Inc\"}                         |\n",
      "|59 |{\"window\":{\"start\":\"2023-10-31T11:20:00.000Z\",\"end\":\"2023-10-31T11:21:00.000Z\"},\"count\":171,\"operator_name\":\"Schuster Group\"}                    |\n",
      "|54 |{\"window\":{\"start\":\"2023-10-31T11:22:00.000Z\",\"end\":\"2023-10-31T11:23:00.000Z\"},\"count\":19,\"operator_name\":\"Morar Inc\"}                          |\n",
      "|17 |{\"window\":{\"start\":\"2023-10-31T13:41:00.000Z\",\"end\":\"2023-10-31T13:42:00.000Z\"},\"count\":2764,\"operator_name\":\"Schoen Inc\"}                       |\n",
      "|21 |{\"window\":{\"start\":\"2023-10-31T11:09:00.000Z\",\"end\":\"2023-10-31T11:10:00.000Z\"},\"count\":100,\"operator_name\":\"Ledner-Boyer\"}                      |\n",
      "|6  |{\"window\":{\"start\":\"2023-10-31T11:22:00.000Z\",\"end\":\"2023-10-31T11:23:00.000Z\"},\"count\":430,\"operator_name\":\"Bins-Schroeder\"}                    |\n",
      "|21 |{\"window\":{\"start\":\"2023-10-31T13:41:00.000Z\",\"end\":\"2023-10-31T13:42:00.000Z\"},\"count\":169,\"operator_name\":\"Ledner-Boyer\"}                      |\n",
      "|40 |{\"window\":{\"start\":\"2023-10-31T11:09:00.000Z\",\"end\":\"2023-10-31T11:10:00.000Z\"},\"count\":2336,\"operator_name\":\"Bogisich LLC\"}                     |\n",
      "|36 |{\"window\":{\"start\":\"2023-10-31T11:21:00.000Z\",\"end\":\"2023-10-31T11:22:00.000Z\"},\"count\":412,\"operator_name\":\"Gibson-Lemke\"}                      |\n",
      "|12 |{\"window\":{\"start\":\"2023-10-31T11:14:00.000Z\",\"end\":\"2023-10-31T11:15:00.000Z\"},\"count\":7560,\"operator_name\":\"Pollich-Kuhlman\"}                  |\n",
      "|90 |{\"window\":{\"start\":\"2023-10-31T11:08:00.000Z\",\"end\":\"2023-10-31T11:09:00.000Z\"},\"count\":51,\"operator_name\":\"Kuhlman and Sons\"}                   |\n",
      "|40 |{\"window\":{\"start\":\"2023-10-31T11:14:00.000Z\",\"end\":\"2023-10-31T11:15:00.000Z\"},\"count\":4195,\"operator_name\":\"Bogisich LLC\"}                     |\n",
      "|12 |{\"window\":{\"start\":\"2023-10-31T11:13:00.000Z\",\"end\":\"2023-10-31T11:14:00.000Z\"},\"count\":392,\"operator_name\":\"Pollich-Kuhlman\"}                   |\n",
      "|59 |{\"window\":{\"start\":\"2023-10-31T11:19:00.000Z\",\"end\":\"2023-10-31T11:20:00.000Z\"},\"count\":5,\"operator_name\":\"Schuster Group\"}                      |\n",
      "|50 |{\"window\":{\"start\":\"2023-10-31T11:22:00.000Z\",\"end\":\"2023-10-31T11:23:00.000Z\"},\"count\":99,\"operator_name\":\"Lemke-Waters\"}                       |\n",
      "|30 |{\"window\":{\"start\":\"2023-10-31T13:42:00.000Z\",\"end\":\"2023-10-31T13:43:00.000Z\"},\"count\":1982,\"operator_name\":\"Lakin, Breitenberg and Morissette\"}|\n",
      "|64 |{\"window\":{\"start\":\"2023-10-31T11:14:00.000Z\",\"end\":\"2023-10-31T11:15:00.000Z\"},\"count\":133,\"operator_name\":\"McClure and Sons\"}                  |\n",
      "|90 |{\"window\":{\"start\":\"2023-11-02T13:52:00.000Z\",\"end\":\"2023-11-02T13:53:00.000Z\"},\"count\":22,\"operator_name\":\"Kuhlman and Sons\"}                   |\n",
      "|90 |{\"window\":{\"start\":\"2023-10-31T13:43:00.000Z\",\"end\":\"2023-10-31T13:44:00.000Z\"},\"count\":2471,\"operator_name\":\"Kuhlman and Sons\"}                 |\n",
      "|12 |{\"window\":{\"start\":\"2023-10-31T13:40:00.000Z\",\"end\":\"2023-10-31T13:41:00.000Z\"},\"count\":6715,\"operator_name\":\"Pollich-Kuhlman\"}                  |\n",
      "|22 |{\"window\":{\"start\":\"2023-10-31T11:22:00.000Z\",\"end\":\"2023-10-31T11:23:00.000Z\"},\"count\":596,\"operator_name\":\"Mueller, Hoeger and Morissette\"}    |\n",
      "|130|{\"window\":{\"start\":\"2023-10-31T11:08:00.000Z\",\"end\":\"2023-10-31T11:09:00.000Z\"},\"count\":3,\"operator_name\":\"Klein, Jakubowski and Hermiston\"}     |\n",
      "|90 |{\"window\":{\"start\":\"2023-10-31T11:19:00.000Z\",\"end\":\"2023-10-31T11:20:00.000Z\"},\"count\":149,\"operator_name\":\"Kuhlman and Sons\"}                  |\n",
      "|90 |{\"window\":{\"start\":\"2023-10-31T11:13:00.000Z\",\"end\":\"2023-10-31T11:14:00.000Z\"},\"count\":136,\"operator_name\":\"Kuhlman and Sons\"}                  |\n",
      "|17 |{\"window\":{\"start\":\"2023-10-31T11:08:00.000Z\",\"end\":\"2023-10-31T11:09:00.000Z\"},\"count\":10,\"operator_name\":\"Schoen Inc\"}                         |\n",
      "|47 |{\"window\":{\"start\":\"2023-10-31T11:09:00.000Z\",\"end\":\"2023-10-31T11:10:00.000Z\"},\"count\":498,\"operator_name\":\"Gerhold-Schultz\"}                   |\n",
      "|22 |{\"window\":{\"start\":\"2023-10-31T13:42:00.000Z\",\"end\":\"2023-10-31T13:43:00.000Z\"},\"count\":20599,\"operator_name\":\"Mueller, Hoeger and Morissette\"}  |\n",
      "|59 |{\"window\":{\"start\":\"2023-10-31T13:41:00.000Z\",\"end\":\"2023-10-31T13:42:00.000Z\"},\"count\":177,\"operator_name\":\"Schuster Group\"}                    |\n",
      "|6  |{\"window\":{\"start\":\"2023-10-31T13:41:00.000Z\",\"end\":\"2023-10-31T13:42:00.000Z\"},\"count\":15893,\"operator_name\":\"Bins-Schroeder\"}                  |\n",
      "|130|{\"window\":{\"start\":\"2023-10-31T11:09:00.000Z\",\"end\":\"2023-10-31T11:10:00.000Z\"},\"count\":72,\"operator_name\":\"Klein, Jakubowski and Hermiston\"}    |\n",
      "|40 |{\"window\":{\"start\":\"2023-10-31T11:13:00.000Z\",\"end\":\"2023-10-31T11:14:00.000Z\"},\"count\":201,\"operator_name\":\"Bogisich LLC\"}                      |\n",
      "|50 |{\"window\":{\"start\":\"2023-10-31T11:19:00.000Z\",\"end\":\"2023-10-31T11:20:00.000Z\"},\"count\":74,\"operator_name\":\"Lemke-Waters\"}                       |\n",
      "|36 |{\"window\":{\"start\":\"2023-10-31T11:20:00.000Z\",\"end\":\"2023-10-31T11:21:00.000Z\"},\"count\":442,\"operator_name\":\"Gibson-Lemke\"}                      |\n",
      "|17 |{\"window\":{\"start\":\"2023-10-31T11:19:00.000Z\",\"end\":\"2023-10-31T11:20:00.000Z\"},\"count\":51,\"operator_name\":\"Schoen Inc\"}                         |\n",
      "|12 |{\"window\":{\"start\":\"2023-10-31T11:19:00.000Z\",\"end\":\"2023-10-31T11:20:00.000Z\"},\"count\":261,\"operator_name\":\"Pollich-Kuhlman\"}                   |\n",
      "|12 |{\"window\":{\"start\":\"2023-10-31T11:09:00.000Z\",\"end\":\"2023-10-31T11:10:00.000Z\"},\"count\":4193,\"operator_name\":\"Pollich-Kuhlman\"}                  |\n",
      "|50 |{\"window\":{\"start\":\"2023-10-31T11:14:00.000Z\",\"end\":\"2023-10-31T11:15:00.000Z\"},\"count\":1669,\"operator_name\":\"Lemke-Waters\"}                     |\n",
      "|54 |{\"window\":{\"start\":\"2023-10-31T13:41:00.000Z\",\"end\":\"2023-10-31T13:42:00.000Z\"},\"count\":350,\"operator_name\":\"Morar Inc\"}                         |\n",
      "|60 |{\"window\":{\"start\":\"2023-10-31T13:43:00.000Z\",\"end\":\"2023-10-31T13:44:00.000Z\"},\"count\":9,\"operator_name\":\"Heathcote-Schinner\"}                  |\n",
      "|22 |{\"window\":{\"start\":\"2023-10-31T13:41:00.000Z\",\"end\":\"2023-10-31T13:42:00.000Z\"},\"count\":20336,\"operator_name\":\"Mueller, Hoeger and Morissette\"}  |\n",
      "+---+-------------------------------------------------------------------------------------------------------------------------------------------------+\n",
      "only showing top 100 rows\n",
      "\n"
     ]
    }
   ],
   "source": [
    "(spark.sql(\"select * from vehicle_position_operators_kafka_query_memory\")\n",
    "    #.filter(col('key') == 22)\n",
    "    .show(truncate = False, n = 100))"
   ]
  },
  {
   "cell_type": "code",
   "execution_count": null,
   "id": "38e8ad5f-ad25-4ce0-b6a0-1ffca92f36a7",
   "metadata": {},
   "outputs": [],
   "source": [
    "vehicle_position_operators_kafka_query_memory.stop()"
   ]
  },
  {
   "cell_type": "markdown",
   "id": "c78f9ef4-1d56-48c0-8e89-ae89e5ee6243",
   "metadata": {},
   "source": [
    "Before continuing we must create the topic `operators-counts` by executing this line on a terminal: \n",
    "<br>\n",
    "<br>\n",
    "`docker exec -it broker kafka-topics --create --bootstrap-server broker:9092 --partitions 1 --replication-factor 1 --topic operators-counts`"
   ]
  },
  {
   "cell_type": "code",
   "execution_count": null,
   "id": "bb126b3a-9a3c-4745-a7ae-42eab98627ce",
   "metadata": {},
   "outputs": [],
   "source": [
    "vehicle_position_operators_kafka_query_kafka = (vehicle_position_operators_kafka_df \n",
    "      .selectExpr(\"CAST(key AS STRING)\", \"CAST(value AS STRING)\") \n",
    "      .writeStream \n",
    "      .format(\"kafka\") \n",
    "      .option(\"kafka.bootstrap.servers\", \"broker:29092\") \n",
    "      .option(\"topic\", \"operators-counts\")\n",
    "      .option(\"checkpointLocation\", \"checkpoint-kafka\")\n",
    "      .start())"
   ]
  },
  {
   "cell_type": "code",
   "execution_count": null,
   "id": "93947e73-556e-4c69-8c21-32ece9f335be",
   "metadata": {},
   "outputs": [],
   "source": [
    "vehicle_position_operators_kafka_query_kafka.status"
   ]
  },
  {
   "cell_type": "markdown",
   "id": "d717b2bb-ec50-4bd2-948c-bd831e9723d1",
   "metadata": {},
   "source": [
    "To check if the data are being written to the topic `operators-count` in the Kafka cluster we can start a simple consumer by executing on a terminal:\n",
    "<br>\n",
    "<br>\n",
    "`docker exec -it broker kafka-console-consumer --bootstrap-server broker:9092 --from-beginning --topic operators-counts --property print.key=true`"
   ]
  },
  {
   "cell_type": "markdown",
   "id": "511e2b09-edf3-44fc-a6d9-c578a4c5c9f1",
   "metadata": {},
   "source": [
    "If everything went fine you should see something like this:\n",
    "<br>\n",
    "<br>\n",
    "<code>\n",
    "130\t{\"window\":{\"start\":\"2023-08-30T10:15:00.000Z\",\"end\":\"2023-08-30T10:16:00.000Z\"},\"count\":60,\"operator_name\":\"Klein, Jakubowski and Hermiston\"}\n",
    "60\t{\"window\":{\"start\":\"2023-08-30T10:28:00.000Z\",\"end\":\"2023-08-30T10:29:00.000Z\"},\"count\":13,\"operator_name\":\"Heathcote-Schinner\"}\n",
    "50\t{\"window\":{\"start\":\"2023-08-30T10:24:00.000Z\",\"end\":\"2023-08-30T10:25:00.000Z\"},\"count\":2062,\"operator_name\":\"Lemke-Waters\"}\n",
    "30\t{\"window\":{\"start\":\"2023-08-30T10:19:00.000Z\",\"end\":\"2023-08-30T10:20:00.000Z\"},\"count\":1380,\"operator_name\":\"Lakin, Breitenberg and Morissette\"}\n",
    "59\t{\"window\":{\"start\":\"2023-08-30T10:23:00.000Z\",\"end\":\"2023-08-30T10:24:00.000Z\"},\"count\":240,\"operator_name\":\"Schuster Group\"}\n",
    "12\t{\"window\":{\"start\":\"2023-08-30T10:25:00.000Z\",\"end\":\"2023-08-30T10:26:00.000Z\"},\"count\":10595,\"operator_name\":\"Pollich-Kuhlman\"}\n",
    "40\t{\"window\":{\"start\":\"2023-08-30T10:16:00.000Z\",\"end\":\"2023-08-30T10:17:00.000Z\"},\"count\":4432,\"operator_name\":\"Bogisich LLC\"}\n",
    "54\t{\"window\":{\"start\":\"2023-08-30T10:29:00.000Z\",\"end\":\"2023-08-30T10:30:00.000Z\"},\"count\":540,\"operator_name\":\"Morar Inc\"}\n",
    "21\t{\"window\":{\"start\":\"2023-08-30T10:27:00.000Z\",\"end\":\"2023-08-30T10:28:00.000Z\"},\"count\":240,\"operator_name\":\"Ledner-Boyer\"}\n",
    "60\t{\"window\":{\"start\":\"2023-08-30T10:20:00.000Z\",\"end\":\"2023-08-30T10:21:00.000Z\"},\"count\":6,\"operator_name\":\"Heathcote-Schinner\"}\n",
    "</code>\n"
   ]
  },
  {
   "cell_type": "code",
   "execution_count": null,
   "id": "2b6aebd3-08c3-44f8-9c99-4696d1c87566",
   "metadata": {},
   "outputs": [],
   "source": [
    "vehicle_position_operators_kafka_query_kafka.stop()"
   ]
  },
  {
   "cell_type": "code",
   "execution_count": null,
   "id": "09926351-8d49-42c7-a493-12be1c826463",
   "metadata": {},
   "outputs": [],
   "source": []
  }
 ],
 "metadata": {
  "kernelspec": {
   "display_name": "Python 3 (ipykernel)",
   "language": "python",
   "name": "python3"
  },
  "language_info": {
   "codemirror_mode": {
    "name": "ipython",
    "version": 3
   },
   "file_extension": ".py",
   "mimetype": "text/x-python",
   "name": "python",
   "nbconvert_exporter": "python",
   "pygments_lexer": "ipython3",
   "version": "3.11.4"
  }
 },
 "nbformat": 4,
 "nbformat_minor": 5
}
