{
 "cells": [
  {
   "cell_type": "markdown",
   "id": "44948af3-c373-42b2-a087-76815574cefd",
   "metadata": {},
   "source": [
    "# Download the libraries"
   ]
  },
  {
   "cell_type": "code",
   "execution_count": null,
   "id": "607b5075-4c36-4467-87fb-545a4a57ca18",
   "metadata": {},
   "outputs": [],
   "source": [
    "! rm -rf jars\n",
    "!mkdir jars\n",
    "!wget -q -P jars https://repo1.maven.org/maven2/org/apache/spark/spark-sql-kafka-0-10_2.12/3.4.1/spark-sql-kafka-0-10_2.12-3.4.1.jar\n",
    "!wget -q -P jars https://repo1.maven.org/maven2/org/apache/kafka/kafka-clients/3.5.1/kafka-clients-3.5.1.jar\n",
    "!wget -q -P jars https://repo1.maven.org/maven2/org/apache/spark/spark-token-provider-kafka-0-10_2.12/3.4.1/spark-token-provider-kafka-0-10_2.12-3.4.1.jar\n",
    "!wget -q -P jars https://repo1.maven.org/maven2/org/scala-lang/scala-library/2.12.18/scala-library-2.12.18.jar\n",
    "!wget -q -P jars https://repo1.maven.org/maven2/org/apache/commons/commons-pool2/2.11.1/commons-pool2-2.11.1.jar"
   ]
  },
  {
   "cell_type": "markdown",
   "id": "bdb860b0-309f-45bc-8322-44b45cce6a4a",
   "metadata": {},
   "source": [
    "# Set up SparkSession"
   ]
  },
  {
   "cell_type": "code",
   "execution_count": 3,
   "id": "55ad2104-8d35-4c5b-bbbb-b0889488ecbb",
   "metadata": {},
   "outputs": [],
   "source": [
    "import os\n",
    "from pyspark.sql import SparkSession"
   ]
  },
  {
   "cell_type": "code",
   "execution_count": 4,
   "id": "7d768247-b703-498f-a03b-e304fc822535",
   "metadata": {},
   "outputs": [
    {
     "data": {
      "text/html": [
       "\n",
       "            <div>\n",
       "                <p><b>SparkSession - in-memory</b></p>\n",
       "                \n",
       "        <div>\n",
       "            <p><b>SparkContext</b></p>\n",
       "\n",
       "            <p><a href=\"http://jupiter-pyspark:4040\">Spark UI</a></p>\n",
       "\n",
       "            <dl>\n",
       "              <dt>Version</dt>\n",
       "                <dd><code>v3.4.1</code></dd>\n",
       "              <dt>Master</dt>\n",
       "                <dd><code>local[*]</code></dd>\n",
       "              <dt>AppName</dt>\n",
       "                <dd><code>Spark Structured Streaming example with Kafka</code></dd>\n",
       "            </dl>\n",
       "        </div>\n",
       "        \n",
       "            </div>\n",
       "        "
      ],
      "text/plain": [
       "<pyspark.sql.session.SparkSession at 0xffff9c73e750>"
      ]
     },
     "execution_count": 4,
     "metadata": {},
     "output_type": "execute_result"
    }
   ],
   "source": [
    "base_dir = os.getcwd() + '/jars'\n",
    "\n",
    "spark = (SparkSession.builder\n",
    "    .master('local[*]')\n",
    "    .appName('Spark Structured Streaming example with Kafka')\n",
    "    .config(\"spark.jars\", \n",
    "            base_dir + '/kafka-clients-3.5.1.jar' + \",\" + \n",
    "            base_dir +'/spark-sql-kafka-0-10_2.12-3.4.1.jar' + \",\" + \n",
    "            base_dir + '/spark-token-provider-kafka-0-10_2.12-3.4.1.jar' + \",\" + \n",
    "            base_dir + '/scala-library-2.12.18.jar' + \",\" + \n",
    "            base_dir + '/commons-pool2-2.11.1.jar')\n",
    "    .getOrCreate())\n",
    "\n",
    "spark"
   ]
  },
  {
   "cell_type": "markdown",
   "id": "09b4a7c6-7391-4eb2-9597-2eac9975b788",
   "metadata": {},
   "source": [
    "# Define the schema for our data"
   ]
  },
  {
   "cell_type": "code",
   "execution_count": 5,
   "id": "74832419-96d2-4ee6-8208-a7a6ff04084d",
   "metadata": {},
   "outputs": [],
   "source": [
    "from pyspark.sql.types import *"
   ]
  },
  {
   "cell_type": "code",
   "execution_count": 6,
   "id": "b373b13f-6b71-43e1-bff5-904daa6bf258",
   "metadata": {},
   "outputs": [],
   "source": [
    "schema = StructType([\n",
    "    StructField(\"VP\", StructType([\n",
    "      StructField(\"desi\", StringType()),\n",
    "      StructField(\"dir\", StringType()),\n",
    "      StructField(\"oper\", IntegerType()),\n",
    "      StructField(\"veh\", IntegerType()),\n",
    "      StructField(\"tst\", TimestampType()),\n",
    "      StructField(\"tsi\", LongType()),\n",
    "      StructField(\"spd\", DoubleType()),\n",
    "      StructField(\"hdg\", IntegerType()),\n",
    "      StructField(\"lat\", DoubleType()),\n",
    "      StructField(\"long\", DoubleType()),\n",
    "      StructField(\"acc\", DoubleType()),\n",
    "      StructField(\"dl\", IntegerType()),\n",
    "      StructField(\"odo\", StringType()),\n",
    "      StructField(\"drst\", StringType()),\n",
    "      StructField(\"oday\", DateType()),\n",
    "      StructField(\"jrn\", IntegerType()),\n",
    "      StructField(\"line\", IntegerType()),\n",
    "      StructField(\"start\", StringType()),\n",
    "      StructField(\"loc\", StringType()),\n",
    "      StructField(\"stop\", LongType()),\n",
    "      StructField(\"route\", StringType()),\n",
    "      StructField(\"occu\", IntegerType())\n",
    "    ]))\n",
    "])"
   ]
  },
  {
   "cell_type": "markdown",
   "id": "397b0670-ce5e-4bbd-8c9d-403ecab5b927",
   "metadata": {},
   "source": [
    "# Initialize the stream"
   ]
  },
  {
   "cell_type": "code",
   "execution_count": 7,
   "id": "4fd14eab-fc5e-4491-96ed-3bd85d615858",
   "metadata": {},
   "outputs": [],
   "source": [
    "from pyspark import SparkContext\n",
    "from pyspark.streaming import StreamingContext"
   ]
  },
  {
   "cell_type": "markdown",
   "id": "b3454897-8ade-4e93-9fa2-1625d28e5591",
   "metadata": {},
   "source": [
    "We will read the data from the topic `vehicle-positions` in the Kafka cluster"
   ]
  },
  {
   "cell_type": "code",
   "execution_count": 8,
   "id": "689de19d-1a25-4ade-a106-7002b352a1ac",
   "metadata": {},
   "outputs": [],
   "source": [
    "kafka_source_df = (spark.readStream\n",
    "    .format(\"kafka\")\n",
    "    .option(\"kafka.bootstrap.servers\", \"broker:29092\")\n",
    "    .option(\"subscribe\", \"vehicle-positions\")\n",
    "    .option(\"startingOffsets\", \"earliest\")\n",
    "    .load()\n",
    "    .selectExpr(\"CAST(key AS STRING)\", \"CAST(value AS STRING)\"))"
   ]
  },
  {
   "cell_type": "code",
   "execution_count": 9,
   "id": "06399f1c-c1a0-41e8-beba-65ac66764f3c",
   "metadata": {},
   "outputs": [],
   "source": [
    "from pyspark.sql.functions import *\n"
   ]
  },
  {
   "cell_type": "code",
   "execution_count": 10,
   "id": "32823566-2fa6-4fe3-8870-523e97c7278d",
   "metadata": {},
   "outputs": [],
   "source": [
    "vehicle_position_df = (kafka_source_df\n",
    "    .select(from_json(col(\"value\"), schema).alias(\"json\")) \n",
    "    .select(\"json.VP.*\"))"
   ]
  },
  {
   "cell_type": "code",
   "execution_count": 11,
   "id": "f4ab8ac7-d923-4b1f-8402-7b5371911cfa",
   "metadata": {},
   "outputs": [
    {
     "name": "stdout",
     "output_type": "stream",
     "text": [
      "root\n",
      " |-- desi: string (nullable = true)\n",
      " |-- dir: string (nullable = true)\n",
      " |-- oper: integer (nullable = true)\n",
      " |-- veh: integer (nullable = true)\n",
      " |-- tst: timestamp (nullable = true)\n",
      " |-- tsi: long (nullable = true)\n",
      " |-- spd: double (nullable = true)\n",
      " |-- hdg: integer (nullable = true)\n",
      " |-- lat: double (nullable = true)\n",
      " |-- long: double (nullable = true)\n",
      " |-- acc: double (nullable = true)\n",
      " |-- dl: integer (nullable = true)\n",
      " |-- odo: string (nullable = true)\n",
      " |-- drst: string (nullable = true)\n",
      " |-- oday: date (nullable = true)\n",
      " |-- jrn: integer (nullable = true)\n",
      " |-- line: integer (nullable = true)\n",
      " |-- start: string (nullable = true)\n",
      " |-- loc: string (nullable = true)\n",
      " |-- stop: long (nullable = true)\n",
      " |-- route: string (nullable = true)\n",
      " |-- occu: integer (nullable = true)\n",
      "\n"
     ]
    }
   ],
   "source": [
    "vehicle_position_df.printSchema()"
   ]
  },
  {
   "cell_type": "markdown",
   "id": "36e7740b-1bba-4155-a77c-8bab9e4180d6",
   "metadata": {},
   "source": [
    "<h3>Record Sample</h3> \n",
    "\n",
    "<code>\n",
    "{\n",
    "  \"desi\": \"M1\",\n",
    "  \"dir\": \"1\",\n",
    "  \"oper\": 50,\n",
    "  \"veh\": 302,\n",
    "  \"tst\": \"2023-08-28T09:57:56Z\",\n",
    "  \"tsi\": 1693216676,\n",
    "  \"spd\": 11.86,\n",
    "  \"hdg\": 52,\n",
    "  \"lat\": 60.1721918,\n",
    "  \"long\": 24.94817722,\n",
    "  \"acc\": null,\n",
    "  \"dl\": null,\n",
    "  \"odo\": null,\n",
    "  \"drst\": null,\n",
    "  \"oday\": \"2023-08-28\",\n",
    "  \"start\": \"12:26\",\n",
    "  \"loc\": \"MAN\",\n",
    "  \"stop\": 1020603,\n",
    "  \"route\": \"31M1\",\n",
    "  \"occu\": 0,\n",
    "  \"seq\": 1\n",
    "}\n",
    "</code>"
   ]
  },
  {
   "cell_type": "markdown",
   "id": "3883102b-f38d-4727-beca-1961244d33e1",
   "metadata": {},
   "source": [
    "### Perform streaming transformations"
   ]
  },
  {
   "cell_type": "markdown",
   "id": "26d79aef-f054-40b5-979e-26aa38cf17a9",
   "metadata": {},
   "source": [
    "[window documentation](https://spark.apache.org/docs/latest/api/python/reference/pyspark.sql/api/pyspark.sql.functions.window.html#pyspark.sql.functions.window)<br>\n",
    "[withWatermark documentation](https://spark.apache.org/docs/latest/api/python/reference/pyspark.sql/api/pyspark.sql.DataFrame.withWatermark.html#pyspark.sql.DataFrame.withWatermark)"
   ]
  },
  {
   "cell_type": "code",
   "execution_count": null,
   "id": "7f8ad5e9-0b0b-4847-91c4-0cc1b4b4aedc",
   "metadata": {},
   "outputs": [],
   "source": [
    "vehicle_position_window_df = (vehicle_position_df\n",
    "      .withWatermark(\"tst\", \"10 seconds\")\n",
    "      .groupBy(\n",
    "        window(col(\"tst\"), \"1 minutes\", \"1 minutes\"), #window(timeColumn, windowDuration, slideDuration) (tumbling windows: an input can belong only to one window)\n",
    "        col(\"route\")\n",
    "      ).count())"
   ]
  },
  {
   "cell_type": "code",
   "execution_count": null,
   "id": "3828bc2b-1772-429e-a919-7da4bb75f71d",
   "metadata": {},
   "outputs": [],
   "source": [
    "vehicle_position_window_df.printSchema()"
   ]
  },
  {
   "cell_type": "markdown",
   "id": "b34ce1da-1f75-4fc1-9b18-c885daa704c9",
   "metadata": {},
   "source": [
    "# Start the streaming query"
   ]
  },
  {
   "cell_type": "markdown",
   "id": "3acc51ac-7ece-4b27-91b7-bde3b2c34cf5",
   "metadata": {},
   "source": [
    "## Append mode (no trigger)"
   ]
  },
  {
   "cell_type": "code",
   "execution_count": null,
   "id": "f0c391bd-bff9-428d-8601-fcd55721ceff",
   "metadata": {},
   "outputs": [],
   "source": [
    "query_append = (vehicle_position_window_df.writeStream\n",
    "    .format(\"memory\")\n",
    "    .outputMode(\"update\")\n",
    "    .queryName(\"query_append\")\n",
    "    .start())"
   ]
  },
  {
   "cell_type": "code",
   "execution_count": null,
   "id": "5b1e7388-dabc-4902-9a6e-523602004fe2",
   "metadata": {},
   "outputs": [],
   "source": [
    "(spark.sql(\"select * from query_append\")\n",
    "    .filter(col('route') == '2113')\n",
    "    .show(n = 100, truncate = False))"
   ]
  },
  {
   "cell_type": "code",
   "execution_count": null,
   "id": "9f9b684f-d09b-45a5-a742-84745dc278c4",
   "metadata": {},
   "outputs": [],
   "source": [
    "query_append.stop()"
   ]
  },
  {
   "cell_type": "markdown",
   "id": "4906740b-5a78-4918-879b-2a57a3971c3e",
   "metadata": {},
   "source": [
    "## Append mode (with trigger)"
   ]
  },
  {
   "cell_type": "code",
   "execution_count": null,
   "id": "d5377728-6667-4fcd-a4ae-2ffb8570b447",
   "metadata": {},
   "outputs": [],
   "source": [
    "query_append_trigger = (vehicle_position_window_df.writeStream\n",
    "    .format(\"memory\")\n",
    "    .trigger(processingTime = '1 minutes') \n",
    "    .outputMode(\"update\")\n",
    "    .queryName(\"query_append_trigger\")\n",
    "    .start())"
   ]
  },
  {
   "cell_type": "code",
   "execution_count": null,
   "id": "2f20628f-7abd-4044-b653-3ce3622f483c",
   "metadata": {},
   "outputs": [],
   "source": [
    "(spark.sql(\"select * from query_append_trigger\")\n",
    "    .filter(col('route') == '2113')\n",
    "    .show(n = 100, truncate = False))"
   ]
  },
  {
   "cell_type": "markdown",
   "id": "0469b35a-cce1-417d-b8fc-8cfec48859a3",
   "metadata": {},
   "source": [
    "<h3> Thoughts on Append mode with trigger and without trigger </h3>\n",
    "If we don't specify the trigger, Structured Streaming will write multiple times the same window, updating its value each time. <br>\n",
    "As the data continue to come the later count increase in value for the same window.\n",
    "<br>\n",
    "<br>\n",
    "Instead by setting the trigger at 1 minute we can make sure that the rows are written to the output only one time. <br>\n",
    "In fact Structured Streaming waits for the late data to arrive up until the watermark interval (10 seconds), and then when window < watermark, writes the row to the sink and drops the intermadiate state.\n",
    "<br>\n",
    "<br>\n",
    "To conclude: the append mode without the trigger should not be used in fact the documentation states theat the <b>append mode</b> is supported for only those queries where rows added to the Result Table are never going to change."
   ]
  },
  {
   "cell_type": "markdown",
   "id": "b10c10e3-a06f-4049-b76d-853b55b36436",
   "metadata": {},
   "source": [
    "## Complete mode"
   ]
  },
  {
   "cell_type": "code",
   "execution_count": null,
   "id": "89e98d29-4549-404f-9979-6af12fd09bc5",
   "metadata": {},
   "outputs": [],
   "source": [
    "query_complete = (vehicle_position_window_df.writeStream\n",
    "            .format(\"memory\")\n",
    "            .outputMode(\"complete\")\n",
    "            .queryName(\"query_complete\")\n",
    "            .start())"
   ]
  },
  {
   "cell_type": "code",
   "execution_count": 2,
   "id": "708df364-af90-40f7-bf04-2ab94e9d5e67",
   "metadata": {},
   "outputs": [
    {
     "ename": "NameError",
     "evalue": "name 'spark' is not defined",
     "output_type": "error",
     "traceback": [
      "\u001b[0;31m---------------------------------------------------------------------------\u001b[0m",
      "\u001b[0;31mNameError\u001b[0m                                 Traceback (most recent call last)",
      "Cell \u001b[0;32mIn[2], line 1\u001b[0m\n\u001b[0;32m----> 1\u001b[0m (\u001b[43mspark\u001b[49m\u001b[38;5;241m.\u001b[39msql(\u001b[38;5;124m\"\u001b[39m\u001b[38;5;124mselect * from query_complete \u001b[39m\u001b[38;5;124m\"\u001b[39m)\n\u001b[1;32m      2\u001b[0m     \u001b[38;5;241m.\u001b[39mfilter(col(\u001b[38;5;124m'\u001b[39m\u001b[38;5;124mroute\u001b[39m\u001b[38;5;124m'\u001b[39m) \u001b[38;5;241m==\u001b[39m \u001b[38;5;124m'\u001b[39m\u001b[38;5;124m2113\u001b[39m\u001b[38;5;124m'\u001b[39m)\n\u001b[1;32m      3\u001b[0m     \u001b[38;5;241m.\u001b[39mshow(n \u001b[38;5;241m=\u001b[39m \u001b[38;5;241m100\u001b[39m, truncate \u001b[38;5;241m=\u001b[39m \u001b[38;5;28;01mFalse\u001b[39;00m))\n",
      "\u001b[0;31mNameError\u001b[0m: name 'spark' is not defined"
     ]
    }
   ],
   "source": [
    "(spark.sql(\"select * from query_complete \")\n",
    "    .filter(col('route') == '2113')\n",
    "    .show(n = 100, truncate = False))"
   ]
  },
  {
   "cell_type": "code",
   "execution_count": null,
   "id": "17da8d11-1d1e-4cbb-b402-54dac9265a36",
   "metadata": {},
   "outputs": [],
   "source": [
    "query_complete.stop()"
   ]
  },
  {
   "cell_type": "markdown",
   "id": "8d8d663e-6b1a-490e-816f-c44cbc262d78",
   "metadata": {},
   "source": [
    "<h3> Thoughts on Complete mode </h3>\n",
    "The complete mode never releases the intermediate state of the aggregation which means that the memory consumption will increase indefinitely for a query such this. "
   ]
  },
  {
   "cell_type": "markdown",
   "id": "8fbca8e6-5b9c-4b6f-9eae-7628d85591e6",
   "metadata": {},
   "source": [
    "### Thoughts on watermarking output mode and sink\n",
    "\n",
    "- The watermarking can only be used in **update** and **append** mode. \n",
    "- In **complete** mode the old aggregation state is never dropped and we cannot use watermarking.\n",
    "- Without the watermarking in the **append** mode the old aggregation state is never dropped.\n",
    "- The sink format **memory** should be used only for debugging purposes and with low volumes of data since the output is entirely stored in the driver's memory\n",
    "- The sink format **memory** does not support the **update** mode."
   ]
  },
  {
   "cell_type": "markdown",
   "id": "cf70e063-c597-4611-ba65-08d324718247",
   "metadata": {},
   "source": [
    "# Join Stream-Static"
   ]
  },
  {
   "cell_type": "code",
   "execution_count": 12,
   "id": "d499d091-0545-432b-acdd-e4720cee4396",
   "metadata": {},
   "outputs": [],
   "source": [
    "operators_df = spark.read.csv(\"operators.csv\", header = True, inferSchema = True)"
   ]
  },
  {
   "cell_type": "code",
   "execution_count": null,
   "id": "d96de450-cff1-4c44-912b-8db68b6ee4d3",
   "metadata": {},
   "outputs": [],
   "source": [
    "operators_df.show(truncate = False)"
   ]
  },
  {
   "cell_type": "code",
   "execution_count": 15,
   "id": "e99d7fdf-2fec-4c34-bc37-2b04d74d2849",
   "metadata": {},
   "outputs": [
    {
     "name": "stdout",
     "output_type": "stream",
     "text": [
      "root\n",
      " |-- id: integer (nullable = true)\n",
      " |-- operator_name: string (nullable = true)\n",
      " |-- country: string (nullable = true)\n",
      " |-- city: string (nullable = true)\n",
      " |-- address: string (nullable = true)\n",
      "\n"
     ]
    }
   ],
   "source": [
    "operators_df.printSchema()"
   ]
  },
  {
   "cell_type": "code",
   "execution_count": 16,
   "id": "1984fa1c-e411-475e-8300-0df2151e5b47",
   "metadata": {},
   "outputs": [],
   "source": [
    "join_vehicle_operators_df = vehicle_position_df.join(operators_df, vehicle_position_df.oper == operators_df.id, \"left_outer\")"
   ]
  },
  {
   "cell_type": "code",
   "execution_count": null,
   "id": "774b41b3-0a05-43f1-8c16-ceab564abdaa",
   "metadata": {},
   "outputs": [],
   "source": [
    "join_vehicle_operators_df.printSchema()"
   ]
  },
  {
   "cell_type": "markdown",
   "id": "e8b6cdb1-3d59-4c13-bfc1-605033742dcf",
   "metadata": {},
   "source": [
    "## Append mode"
   ]
  },
  {
   "cell_type": "code",
   "execution_count": null,
   "id": "ad9000a6-4edd-4d85-9707-2978851b735d",
   "metadata": {},
   "outputs": [],
   "source": [
    "vehicle_position_operators_group_df = (join_vehicle_operators_df\n",
    "      .withWatermark(\"tst\", \"10 seconds\")\n",
    "      .groupBy(\n",
    "        window(col(\"tst\"), \"1 minutes\", \"1 minutes\"),\n",
    "        col(\"oper\"),\n",
    "        col(\"operator_name\") \n",
    "      ).count())"
   ]
  },
  {
   "cell_type": "code",
   "execution_count": null,
   "id": "9493489a-6b3a-40ce-ba43-2213292250e6",
   "metadata": {},
   "outputs": [],
   "source": [
    "vehicle_position_operators_query_append = (vehicle_position_operators_group_df.writeStream\n",
    "        .format(\"memory\")\n",
    "        .trigger(processingTime = '1 minutes') \n",
    "        .outputMode(\"append\")\n",
    "        .queryName(\"vehicle_position_operators_append\")\n",
    "        .start())"
   ]
  },
  {
   "cell_type": "code",
   "execution_count": null,
   "id": "645e1438-7d1a-4df2-8b43-70fe90c01e9d",
   "metadata": {},
   "outputs": [],
   "source": [
    "(spark.sql(\"select * from vehicle_position_operators_append\")\n",
    "    .filter(col('oper') == '22')\n",
    "    .show(truncate = False, n = 30))"
   ]
  },
  {
   "cell_type": "code",
   "execution_count": null,
   "id": "aaf42cd7-15b0-4a96-af82-4f2400592ff0",
   "metadata": {},
   "outputs": [],
   "source": [
    "vehicle_position_operators_query_append.stop()"
   ]
  },
  {
   "cell_type": "markdown",
   "id": "d5cb17c8-9119-4708-affc-d26699b731e2",
   "metadata": {},
   "source": [
    "## Complete mode"
   ]
  },
  {
   "cell_type": "code",
   "execution_count": null,
   "id": "e96c84cc-ec7f-4b45-8af8-f8ea35537f86",
   "metadata": {},
   "outputs": [],
   "source": [
    "vehicle_position_operators_group_sort_df = (join_vehicle_operators_df\n",
    "      .groupBy(\n",
    "        window(col(\"tst\"), \"1 minutes\", \"1 minutes\"),\n",
    "        col(\"oper\"),\n",
    "        col(\"operator_name\") \n",
    "      ).count()\n",
    "      .orderBy(desc('window')))"
   ]
  },
  {
   "cell_type": "code",
   "execution_count": null,
   "id": "9ad0f55c-e8a5-403b-8f88-4084fdd8a0ce",
   "metadata": {},
   "outputs": [],
   "source": [
    "vehicle_position_operators_query_complete = (vehicle_position_operators_group_sort_df.writeStream\n",
    "    .format(\"memory\")\n",
    "    .trigger(processingTime = '1 minutes') \n",
    "    .outputMode(\"complete\")\n",
    "    .queryName(\"vehicle_position_operators_complete\")\n",
    "    .start())"
   ]
  },
  {
   "cell_type": "code",
   "execution_count": null,
   "id": "a3256e02-b6fc-4c18-bca6-c1b3e7c0eca9",
   "metadata": {},
   "outputs": [],
   "source": [
    "(spark.sql(\"select * from vehicle_position_operators_complete\")\n",
    "    .filter(col('oper') == '22')\n",
    "    .show(truncate = False, n = 100))"
   ]
  },
  {
   "cell_type": "code",
   "execution_count": null,
   "id": "796a0464-6ab7-4374-a7f6-58e659edfda8",
   "metadata": {},
   "outputs": [],
   "source": [
    "vehicle_position_operators_query_complete.stop()"
   ]
  },
  {
   "cell_type": "markdown",
   "id": "9af38fbe-35bb-4a4d-975d-fc17d7f2fc61",
   "metadata": {},
   "source": [
    "<h3> Thoughts on sorting </h3>\n",
    "<b>Sorting operations are supported on streaming Datasets only after an aggregation and in Complete Output Mode</b>. <br>\n",
    "So we can only use the groupBy in Complete mode and not in Append mode."
   ]
  },
  {
   "cell_type": "markdown",
   "id": "7c9f8ed0-baa0-4dea-96a8-cbe7ec49a445",
   "metadata": {},
   "source": [
    "<h1>Query mamagement</h1>"
   ]
  },
  {
   "cell_type": "markdown",
   "id": "a330ce04-163a-40fe-9cfc-bed009906f39",
   "metadata": {},
   "source": [
    "[documentation](https://spark.apache.org/docs/3.4.1/api/python/reference/pyspark.ss/api/pyspark.sql.streaming.StreamingQuery.html)"
   ]
  },
  {
   "cell_type": "markdown",
   "id": "864c62fb-d4fd-43cb-afef-38b9d2fbdda4",
   "metadata": {},
   "source": [
    "<h3>Get the unique identifier of the running query</h3>"
   ]
  },
  {
   "cell_type": "code",
   "execution_count": null,
   "id": "ab7d7d34-41ce-48b6-bb00-dcfe51fd96a8",
   "metadata": {},
   "outputs": [],
   "source": [
    "vehicle_position_operators_query_complete.id"
   ]
  },
  {
   "cell_type": "markdown",
   "id": "9800a5ac-64cf-49a9-96dc-dc955234e90c",
   "metadata": {},
   "source": [
    "<h3>Get the run id of the query</h3>"
   ]
  },
  {
   "cell_type": "code",
   "execution_count": null,
   "id": "6524d73b-e64b-4df7-a862-2412e2ec84f7",
   "metadata": {},
   "outputs": [],
   "source": [
    "vehicle_position_operators_query_complete.runId"
   ]
  },
  {
   "cell_type": "markdown",
   "id": "4dc29755-b596-4878-86c9-cee13f790630",
   "metadata": {},
   "source": [
    "<h3>Get the name of the auto-generated or user-specified name</h3>"
   ]
  },
  {
   "cell_type": "code",
   "execution_count": null,
   "id": "a97cd00c-c826-4bf3-836c-bcc7ea1f0a4d",
   "metadata": {},
   "outputs": [],
   "source": [
    "vehicle_position_operators_query_complete.name"
   ]
  },
  {
   "cell_type": "markdown",
   "id": "667cb359-0382-46fb-8400-bb7a4f946e10",
   "metadata": {},
   "source": [
    "<h3>Print detailed explanations of the query</h3>"
   ]
  },
  {
   "cell_type": "code",
   "execution_count": null,
   "id": "2c9ad569-bcab-4c36-a400-a41f8692fe78",
   "metadata": {},
   "outputs": [],
   "source": [
    "vehicle_position_operators_query_complete.explain()"
   ]
  },
  {
   "cell_type": "markdown",
   "id": "5fc7bfed-2fd9-4998-8573-06d7e5febb67",
   "metadata": {},
   "source": [
    "<h3>Query recent progress</h3>"
   ]
  },
  {
   "cell_type": "code",
   "execution_count": null,
   "id": "16525a07-8e4f-42ed-aeb4-5aad0141533a",
   "metadata": {},
   "outputs": [],
   "source": [
    "vehicle_position_operators_query_complete.recentProgress"
   ]
  },
  {
   "cell_type": "markdown",
   "id": "9ab18b11-a1a4-405e-aec6-178cad0a93f4",
   "metadata": {},
   "source": [
    "<h3>Get the query last progress</h3>"
   ]
  },
  {
   "cell_type": "code",
   "execution_count": null,
   "id": "1d31aa1f-cb3d-4d3b-a85c-1c163ca7e6cb",
   "metadata": {},
   "outputs": [],
   "source": [
    "vehicle_position_operators_query_complete.lastProgress"
   ]
  },
  {
   "cell_type": "markdown",
   "id": "80be6691-1f21-4e3d-a163-3ed3be7092ef",
   "metadata": {},
   "source": [
    "<h3>Get the list of currently active streaming queries</h3>"
   ]
  },
  {
   "cell_type": "code",
   "execution_count": 236,
   "id": "ec5fa112-4a80-4b9e-a8a3-9ffc6bc16592",
   "metadata": {},
   "outputs": [
    {
     "data": {
      "text/plain": [
       "[<pyspark.sql.streaming.query.StreamingQuery at 0xffff71583510>]"
      ]
     },
     "execution_count": 236,
     "metadata": {},
     "output_type": "execute_result"
    }
   ],
   "source": [
    "spark.streams.active"
   ]
  },
  {
   "cell_type": "markdown",
   "id": "ac05ab8f-e7c1-4b5f-930b-8ada574147be",
   "metadata": {},
   "source": [
    "<h3>Get the query object from the id</h3>"
   ]
  },
  {
   "cell_type": "code",
   "execution_count": null,
   "id": "fc4144be-2c0f-4367-9f86-27070e09e603",
   "metadata": {},
   "outputs": [],
   "source": [
    "query = spark.streams.get(vehicle_position_operators_query_complete.id)"
   ]
  },
  {
   "cell_type": "code",
   "execution_count": 1,
   "id": "3c7696da-c5d2-44d8-a464-03f989ea7d96",
   "metadata": {},
   "outputs": [
    {
     "ename": "NameError",
     "evalue": "name 'query' is not defined",
     "output_type": "error",
     "traceback": [
      "\u001b[0;31m---------------------------------------------------------------------------\u001b[0m",
      "\u001b[0;31mNameError\u001b[0m                                 Traceback (most recent call last)",
      "Cell \u001b[0;32mIn[1], line 1\u001b[0m\n\u001b[0;32m----> 1\u001b[0m \u001b[43mquery\u001b[49m\u001b[38;5;241m.\u001b[39mname\n",
      "\u001b[0;31mNameError\u001b[0m: name 'query' is not defined"
     ]
    }
   ],
   "source": [
    "query.name"
   ]
  },
  {
   "cell_type": "markdown",
   "id": "9bd0d67d-abf3-4205-80a3-c8a2acbd4528",
   "metadata": {},
   "source": [
    "<h3>Query active</h3>"
   ]
  },
  {
   "cell_type": "code",
   "execution_count": 185,
   "id": "acea86f2-e4fc-42ce-ac29-61a86259e9ff",
   "metadata": {},
   "outputs": [
    {
     "data": {
      "text/plain": [
       "False"
      ]
     },
     "execution_count": 185,
     "metadata": {},
     "output_type": "execute_result"
    }
   ],
   "source": [
    "vehicle_position_operators_query_complete.isActive"
   ]
  },
  {
   "cell_type": "markdown",
   "id": "32d7c948-8f65-4540-93bc-72af1af5fcbe",
   "metadata": {},
   "source": [
    "<h3>Query status</h3>"
   ]
  },
  {
   "cell_type": "code",
   "execution_count": 183,
   "id": "1e299a46-3e1a-4e17-9384-64b75a763049",
   "metadata": {},
   "outputs": [
    {
     "data": {
      "text/plain": [
       "{'message': 'Stopped', 'isDataAvailable': False, 'isTriggerActive': False}"
      ]
     },
     "execution_count": 183,
     "metadata": {},
     "output_type": "execute_result"
    }
   ],
   "source": [
    "vehicle_position_operators_query_complete.status"
   ]
  },
  {
   "cell_type": "markdown",
   "id": "36eaf5cc-c34d-4443-96e2-c4d835cd588b",
   "metadata": {},
   "source": [
    "<h3>Query exception (useful if the query has terminated with an exception)</h3>"
   ]
  },
  {
   "cell_type": "code",
   "execution_count": 181,
   "id": "6a6b09f9-1c5a-447a-86ec-762beb9444df",
   "metadata": {},
   "outputs": [],
   "source": [
    "vehicle_position_operators_query_complete.exception()"
   ]
  },
  {
   "cell_type": "markdown",
   "id": "8a4b1d8b-02ca-44b7-97f7-a38da9368bbd",
   "metadata": {},
   "source": [
    "<h3>Await query termination</h3>"
   ]
  },
  {
   "cell_type": "code",
   "execution_count": null,
   "id": "548a6a9b-4e5b-4aa1-8e06-86d41704936e",
   "metadata": {},
   "outputs": [],
   "source": [
    "#query.awaitTermination([timeout])"
   ]
  },
  {
   "cell_type": "markdown",
   "id": "1b1411e7-1aab-4d54-bc6c-4c07b4372e90",
   "metadata": {},
   "source": [
    "<h3>Stop the query</h3>"
   ]
  },
  {
   "cell_type": "code",
   "execution_count": 161,
   "id": "003dbee4-1032-4f1d-a6ce-75c724153f11",
   "metadata": {},
   "outputs": [],
   "source": [
    "vehicle_position_operators_query_complete.stop()"
   ]
  },
  {
   "cell_type": "markdown",
   "id": "1ce9aa4e-b983-4694-b204-e6e763d4f8c1",
   "metadata": {},
   "source": [
    "<h1>Output Sinks</h1>"
   ]
  },
  {
   "cell_type": "markdown",
   "id": "76b09a66-2679-4bf3-8b2a-1702dcf785f0",
   "metadata": {},
   "source": [
    "<h2>CSV</h2>"
   ]
  },
  {
   "cell_type": "code",
   "execution_count": 18,
   "id": "653e672c-e365-4828-82ca-9cca574785d6",
   "metadata": {},
   "outputs": [],
   "source": [
    "vehicle_position_operators_filter_df = (join_vehicle_operators_df\n",
    "      .withWatermark(\"tst\", \"1 seconds\")\n",
    "      .filter(col('oper').isin('22','90','6','30','12','50'))                                  \n",
    "      .groupBy(\n",
    "        window(col(\"tst\"), \"1 minutes\", \"1 minutes\"),\n",
    "        col(\"oper\"),\n",
    "        col(\"operator_name\") \n",
    "      ).count())"
   ]
  },
  {
   "cell_type": "code",
   "execution_count": 276,
   "id": "d83a7f7a-ca0b-41c6-bfdb-4fce02108330",
   "metadata": {},
   "outputs": [],
   "source": [
    "vehicle_position_operators_filter_mod_df = (vehicle_position_operators_filter_df \n",
    "        .withColumn(\"window\",vehicle_position_operators_filter_df.window.cast('string'))\n",
    "        .coalesce(1)) # writes 1 file csv for each trigger"
   ]
  },
  {
   "cell_type": "code",
   "execution_count": 277,
   "id": "5d42840b-27d1-4d0f-8b26-e43e87976ddb",
   "metadata": {},
   "outputs": [],
   "source": [
    "vehicle_position_operators_filter_mod = (vehicle_position_operators_filter_mod_df.writeStream\n",
    "        .format(\"csv\")                               # can be \"orc\", \"json\", \"parquet\", etc.\n",
    "        .option(\"path\", \"csv\")\n",
    "        .option(\"header\",True)\n",
    "        .trigger(processingTime = '1 minutes') \n",
    "        .outputMode(\"append\")\n",
    "        .option(\"checkpointLocation\", \"checkpoint\")\n",
    "        .start())"
   ]
  },
  {
   "cell_type": "code",
   "execution_count": 253,
   "id": "3368bd6d-11a6-49bc-98a0-2ba0105ee9c5",
   "metadata": {},
   "outputs": [],
   "source": [
    "vehicle_position_operators_filter_mod.exception()"
   ]
  },
  {
   "cell_type": "code",
   "execution_count": 279,
   "id": "4c20adb8-a3ad-4311-b5e9-74de2361fe47",
   "metadata": {},
   "outputs": [
    {
     "data": {
      "text/plain": [
       "{'message': 'Waiting for next trigger',\n",
       " 'isDataAvailable': True,\n",
       " 'isTriggerActive': False}"
      ]
     },
     "execution_count": 279,
     "metadata": {},
     "output_type": "execute_result"
    }
   ],
   "source": [
    "vehicle_position_operators_filter_mod.status"
   ]
  },
  {
   "cell_type": "code",
   "execution_count": 255,
   "id": "3cdddd3e-4f41-4cf2-bd1a-750f253c6bc2",
   "metadata": {},
   "outputs": [
    {
     "data": {
      "text/plain": [
       "True"
      ]
     },
     "execution_count": 255,
     "metadata": {},
     "output_type": "execute_result"
    }
   ],
   "source": [
    "vehicle_position_operators_filter_mod.isActive"
   ]
  },
  {
   "cell_type": "code",
   "execution_count": 274,
   "id": "11ba960d-e94c-465a-8863-8c75f124ec3d",
   "metadata": {},
   "outputs": [],
   "source": [
    "vehicle_position_operators_filter_mod.stop()"
   ]
  },
  {
   "cell_type": "code",
   "execution_count": 265,
   "id": "c47ef376-62ee-4645-81ff-a4b4e9078b9a",
   "metadata": {},
   "outputs": [],
   "source": [
    "# to delete folders\n",
    "! rm -rf csv"
   ]
  },
  {
   "cell_type": "markdown",
   "id": "aa275670-2cbb-4b67-8c87-e3696fab8585",
   "metadata": {},
   "source": [
    "<h3>Thoughts on CSV sink</h3>\n",
    "<ul>\n",
    "    <li> It is not allowed to use the Complete mode so we cannot perform any sorting on the data. </li>\n",
    "    <li> It is necessary to cast the column window to string because timestamp columns are not allowed when the sink is of type CSV </li>\n",
    "    <li> It will be generated one CSV file for each trigger </li>\n",
    "</ul>"
   ]
  },
  {
   "cell_type": "markdown",
   "id": "8f0cf2e8-7854-4224-abbf-155ea3779736",
   "metadata": {},
   "source": [
    "<h2>Kafka Topic</h2>"
   ]
  },
  {
   "cell_type": "code",
   "execution_count": 41,
   "id": "9a37d561-d145-44b6-9b56-48acf363b82e",
   "metadata": {},
   "outputs": [],
   "source": [
    "vehicle_position_operators_kafka_df = (join_vehicle_operators_df\n",
    "      .withWatermark(\"tst\", \"1 seconds\")\n",
    "      #.filter(col('oper').isin('22','90','6','30','12','50'))                                  \n",
    "      .groupBy(\n",
    "        window(col(\"tst\"), \"1 minutes\", \"1 minutes\"),\n",
    "        col(\"oper\"),\n",
    "        col(\"operator_name\") \n",
    "      ).count()\n",
    "      .select(col(\"oper\").alias(\"key\"), to_json(struct(\"window\", \"count\", \"operator_name\")).alias(\"value\")))  "
   ]
  },
  {
   "cell_type": "code",
   "execution_count": 42,
   "id": "0aeff2ff-5731-41da-826d-3af08aedb7d6",
   "metadata": {},
   "outputs": [
    {
     "name": "stdout",
     "output_type": "stream",
     "text": [
      "root\n",
      " |-- key: integer (nullable = true)\n",
      " |-- value: string (nullable = true)\n",
      "\n"
     ]
    }
   ],
   "source": [
    "vehicle_position_operators_kafka_df.printSchema()"
   ]
  },
  {
   "cell_type": "code",
   "execution_count": 43,
   "id": "73bfdecf-acdd-41da-bfea-3cac6c230803",
   "metadata": {},
   "outputs": [],
   "source": [
    "# Just to check the output\n",
    "vehicle_position_operators_kafka_query_memory = (vehicle_position_operators_kafka_df\n",
    "    .writeStream\n",
    "    .format(\"memory\")\n",
    "    .trigger(processingTime = '1 minutes') \n",
    "    .outputMode(\"append\")\n",
    "    .queryName(\"vehicle_position_operators_kafka_query_memory\")\n",
    "    .start())"
   ]
  },
  {
   "cell_type": "code",
   "execution_count": 45,
   "id": "5f280e25-0ccc-4a66-aed4-2567332b311a",
   "metadata": {},
   "outputs": [
    {
     "name": "stdout",
     "output_type": "stream",
     "text": [
      "+---+-----------------------------------------------------------------------------------------------------------------------------------------------+\n",
      "|key|value                                                                                                                                          |\n",
      "+---+-----------------------------------------------------------------------------------------------------------------------------------------------+\n",
      "|22 |{\"window\":{\"start\":\"2023-08-28T09:53:00.000Z\",\"end\":\"2023-08-28T09:54:00.000Z\"},\"count\":4734,\"operator_name\":\"Mueller, Hoeger and Morissette\"} |\n",
      "|22 |{\"window\":{\"start\":\"2023-08-29T14:45:00.000Z\",\"end\":\"2023-08-29T14:46:00.000Z\"},\"count\":8160,\"operator_name\":\"Mueller, Hoeger and Morissette\"} |\n",
      "|22 |{\"window\":{\"start\":\"2023-08-29T14:48:00.000Z\",\"end\":\"2023-08-29T14:49:00.000Z\"},\"count\":9497,\"operator_name\":\"Mueller, Hoeger and Morissette\"} |\n",
      "|22 |{\"window\":{\"start\":\"2023-08-28T09:57:00.000Z\",\"end\":\"2023-08-28T09:58:00.000Z\"},\"count\":5989,\"operator_name\":\"Mueller, Hoeger and Morissette\"} |\n",
      "|22 |{\"window\":{\"start\":\"2023-08-29T09:41:00.000Z\",\"end\":\"2023-08-29T09:42:00.000Z\"},\"count\":12201,\"operator_name\":\"Mueller, Hoeger and Morissette\"}|\n",
      "|22 |{\"window\":{\"start\":\"2023-08-29T14:40:00.000Z\",\"end\":\"2023-08-29T14:41:00.000Z\"},\"count\":15010,\"operator_name\":\"Mueller, Hoeger and Morissette\"}|\n",
      "|22 |{\"window\":{\"start\":\"2023-08-28T07:22:00.000Z\",\"end\":\"2023-08-28T07:23:00.000Z\"},\"count\":47,\"operator_name\":\"Mueller, Hoeger and Morissette\"}   |\n",
      "|22 |{\"window\":{\"start\":\"2023-08-28T07:25:00.000Z\",\"end\":\"2023-08-28T07:26:00.000Z\"},\"count\":42,\"operator_name\":\"Mueller, Hoeger and Morissette\"}   |\n",
      "|22 |{\"window\":{\"start\":\"2023-08-29T14:50:00.000Z\",\"end\":\"2023-08-29T14:51:00.000Z\"},\"count\":18424,\"operator_name\":\"Mueller, Hoeger and Morissette\"}|\n",
      "|22 |{\"window\":{\"start\":\"2023-08-28T07:23:00.000Z\",\"end\":\"2023-08-28T07:24:00.000Z\"},\"count\":62,\"operator_name\":\"Mueller, Hoeger and Morissette\"}   |\n",
      "|22 |{\"window\":{\"start\":\"2023-08-28T07:31:00.000Z\",\"end\":\"2023-08-28T07:32:00.000Z\"},\"count\":20,\"operator_name\":\"Mueller, Hoeger and Morissette\"}   |\n",
      "|22 |{\"window\":{\"start\":\"2023-08-29T08:07:00.000Z\",\"end\":\"2023-08-29T08:08:00.000Z\"},\"count\":12110,\"operator_name\":\"Mueller, Hoeger and Morissette\"}|\n",
      "|22 |{\"window\":{\"start\":\"2023-08-29T09:40:00.000Z\",\"end\":\"2023-08-29T09:41:00.000Z\"},\"count\":15457,\"operator_name\":\"Mueller, Hoeger and Morissette\"}|\n",
      "|22 |{\"window\":{\"start\":\"2023-08-28T07:37:00.000Z\",\"end\":\"2023-08-28T07:38:00.000Z\"},\"count\":6428,\"operator_name\":\"Mueller, Hoeger and Morissette\"} |\n",
      "|22 |{\"window\":{\"start\":\"2023-08-29T09:39:00.000Z\",\"end\":\"2023-08-29T09:40:00.000Z\"},\"count\":12638,\"operator_name\":\"Mueller, Hoeger and Morissette\"}|\n",
      "|22 |{\"window\":{\"start\":\"2023-08-29T14:39:00.000Z\",\"end\":\"2023-08-29T14:40:00.000Z\"},\"count\":54,\"operator_name\":\"Mueller, Hoeger and Morissette\"}   |\n",
      "|22 |{\"window\":{\"start\":\"2023-08-28T07:24:00.000Z\",\"end\":\"2023-08-28T07:25:00.000Z\"},\"count\":60,\"operator_name\":\"Mueller, Hoeger and Morissette\"}   |\n",
      "|22 |{\"window\":{\"start\":\"2023-08-28T07:32:00.000Z\",\"end\":\"2023-08-28T07:33:00.000Z\"},\"count\":60,\"operator_name\":\"Mueller, Hoeger and Morissette\"}   |\n",
      "|22 |{\"window\":{\"start\":\"2023-08-28T09:54:00.000Z\",\"end\":\"2023-08-28T09:55:00.000Z\"},\"count\":1330,\"operator_name\":\"Mueller, Hoeger and Morissette\"} |\n",
      "|22 |{\"window\":{\"start\":\"2023-08-29T14:46:00.000Z\",\"end\":\"2023-08-29T14:47:00.000Z\"},\"count\":17314,\"operator_name\":\"Mueller, Hoeger and Morissette\"}|\n",
      "|22 |{\"window\":{\"start\":\"2023-08-29T14:41:00.000Z\",\"end\":\"2023-08-29T14:42:00.000Z\"},\"count\":16454,\"operator_name\":\"Mueller, Hoeger and Morissette\"}|\n",
      "|22 |{\"window\":{\"start\":\"2023-08-29T08:02:00.000Z\",\"end\":\"2023-08-29T08:03:00.000Z\"},\"count\":9932,\"operator_name\":\"Mueller, Hoeger and Morissette\"} |\n",
      "|22 |{\"window\":{\"start\":\"2023-08-29T08:08:00.000Z\",\"end\":\"2023-08-29T08:09:00.000Z\"},\"count\":10117,\"operator_name\":\"Mueller, Hoeger and Morissette\"}|\n",
      "|22 |{\"window\":{\"start\":\"2023-08-29T07:46:00.000Z\",\"end\":\"2023-08-29T07:47:00.000Z\"},\"count\":2591,\"operator_name\":\"Mueller, Hoeger and Morissette\"} |\n",
      "|22 |{\"window\":{\"start\":\"2023-08-28T08:24:00.000Z\",\"end\":\"2023-08-28T08:25:00.000Z\"},\"count\":9084,\"operator_name\":\"Mueller, Hoeger and Morissette\"} |\n",
      "|22 |{\"window\":{\"start\":\"2023-08-29T14:49:00.000Z\",\"end\":\"2023-08-29T14:50:00.000Z\"},\"count\":18400,\"operator_name\":\"Mueller, Hoeger and Morissette\"}|\n",
      "|22 |{\"window\":{\"start\":\"2023-08-29T09:38:00.000Z\",\"end\":\"2023-08-29T09:39:00.000Z\"},\"count\":2,\"operator_name\":\"Mueller, Hoeger and Morissette\"}    |\n",
      "|22 |{\"window\":{\"start\":\"2023-08-28T07:38:00.000Z\",\"end\":\"2023-08-28T07:39:00.000Z\"},\"count\":1243,\"operator_name\":\"Mueller, Hoeger and Morissette\"} |\n",
      "|22 |{\"window\":{\"start\":\"2023-08-28T07:33:00.000Z\",\"end\":\"2023-08-28T07:34:00.000Z\"},\"count\":60,\"operator_name\":\"Mueller, Hoeger and Morissette\"}   |\n",
      "|22 |{\"window\":{\"start\":\"2023-08-28T08:23:00.000Z\",\"end\":\"2023-08-28T08:24:00.000Z\"},\"count\":2254,\"operator_name\":\"Mueller, Hoeger and Morissette\"} |\n",
      "|22 |{\"window\":{\"start\":\"2023-08-28T07:34:00.000Z\",\"end\":\"2023-08-28T07:35:00.000Z\"},\"count\":57,\"operator_name\":\"Mueller, Hoeger and Morissette\"}   |\n",
      "|22 |{\"window\":{\"start\":\"2023-08-29T08:01:00.000Z\",\"end\":\"2023-08-29T08:02:00.000Z\"},\"count\":894,\"operator_name\":\"Mueller, Hoeger and Morissette\"}  |\n",
      "|22 |{\"window\":{\"start\":\"2023-08-29T14:51:00.000Z\",\"end\":\"2023-08-29T14:52:00.000Z\"},\"count\":18332,\"operator_name\":\"Mueller, Hoeger and Morissette\"}|\n",
      "+---+-----------------------------------------------------------------------------------------------------------------------------------------------+\n",
      "\n"
     ]
    }
   ],
   "source": [
    "(spark.sql(\"select * from vehicle_position_operators_kafka_query_memory\")\n",
    "    .filter(col('key') == 22)\n",
    "    .show(truncate = False, n = 100))"
   ]
  },
  {
   "cell_type": "code",
   "execution_count": 46,
   "id": "38e8ad5f-ad25-4ce0-b6a0-1ffca92f36a7",
   "metadata": {},
   "outputs": [],
   "source": [
    "vehicle_position_operators_kafka_query_memory.stop()"
   ]
  },
  {
   "cell_type": "markdown",
   "id": "c78f9ef4-1d56-48c0-8e89-ae89e5ee6243",
   "metadata": {},
   "source": [
    "Before continuing create the topic operators-counts by executing this code on a terminal: \n",
    "<br>\n",
    "<br>\n",
    "`! docker exec -it broker kafka-topics --create --bootstrap-server broker:9092 --partitions 1 --replication-factor 1 --topic operators-counts`"
   ]
  },
  {
   "cell_type": "code",
   "execution_count": 48,
   "id": "bb126b3a-9a3c-4745-a7ae-42eab98627ce",
   "metadata": {},
   "outputs": [
    {
     "ename": "AnalysisException",
     "evalue": "checkpointLocation must be specified either through option(\"checkpointLocation\", ...) or SparkSession.conf.set(\"spark.sql.streaming.checkpointLocation\", ...).",
     "output_type": "error",
     "traceback": [
      "\u001b[0;31m---------------------------------------------------------------------------\u001b[0m",
      "\u001b[0;31mAnalysisException\u001b[0m                         Traceback (most recent call last)",
      "Cell \u001b[0;32mIn[48], line 7\u001b[0m\n\u001b[1;32m      1\u001b[0m vehicle_position_operators_kafka_query_kafka \u001b[38;5;241m=\u001b[39m (\u001b[43mvehicle_position_operators_kafka_df\u001b[49m\u001b[43m \u001b[49m\n\u001b[1;32m      2\u001b[0m \u001b[43m      \u001b[49m\u001b[38;5;241;43m.\u001b[39;49m\u001b[43mselectExpr\u001b[49m\u001b[43m(\u001b[49m\u001b[38;5;124;43m\"\u001b[39;49m\u001b[38;5;124;43mCAST(key AS STRING)\u001b[39;49m\u001b[38;5;124;43m\"\u001b[39;49m\u001b[43m,\u001b[49m\u001b[43m \u001b[49m\u001b[38;5;124;43m\"\u001b[39;49m\u001b[38;5;124;43mCAST(value AS STRING)\u001b[39;49m\u001b[38;5;124;43m\"\u001b[39;49m\u001b[43m)\u001b[49m\u001b[43m \u001b[49m\n\u001b[1;32m      3\u001b[0m \u001b[43m      \u001b[49m\u001b[38;5;241;43m.\u001b[39;49m\u001b[43mwriteStream\u001b[49m\u001b[43m \u001b[49m\n\u001b[1;32m      4\u001b[0m \u001b[43m      \u001b[49m\u001b[38;5;241;43m.\u001b[39;49m\u001b[43mformat\u001b[49m\u001b[43m(\u001b[49m\u001b[38;5;124;43m\"\u001b[39;49m\u001b[38;5;124;43mkafka\u001b[39;49m\u001b[38;5;124;43m\"\u001b[39;49m\u001b[43m)\u001b[49m\u001b[43m \u001b[49m\n\u001b[1;32m      5\u001b[0m \u001b[43m      \u001b[49m\u001b[38;5;241;43m.\u001b[39;49m\u001b[43moption\u001b[49m\u001b[43m(\u001b[49m\u001b[38;5;124;43m\"\u001b[39;49m\u001b[38;5;124;43mkafka.bootstrap.servers\u001b[39;49m\u001b[38;5;124;43m\"\u001b[39;49m\u001b[43m,\u001b[49m\u001b[43m \u001b[49m\u001b[38;5;124;43m\"\u001b[39;49m\u001b[38;5;124;43mbroker:29092\u001b[39;49m\u001b[38;5;124;43m\"\u001b[39;49m\u001b[43m)\u001b[49m\u001b[43m \u001b[49m\n\u001b[1;32m      6\u001b[0m \u001b[43m      \u001b[49m\u001b[38;5;241;43m.\u001b[39;49m\u001b[43moption\u001b[49m\u001b[43m(\u001b[49m\u001b[38;5;124;43m\"\u001b[39;49m\u001b[38;5;124;43mtopic\u001b[39;49m\u001b[38;5;124;43m\"\u001b[39;49m\u001b[43m,\u001b[49m\u001b[43m \u001b[49m\u001b[38;5;124;43m\"\u001b[39;49m\u001b[38;5;124;43mtopic1\u001b[39;49m\u001b[38;5;124;43m\"\u001b[39;49m\u001b[43m)\u001b[49m\u001b[43m \u001b[49m\n\u001b[0;32m----> 7\u001b[0m \u001b[43m      \u001b[49m\u001b[38;5;241;43m.\u001b[39;49m\u001b[43mstart\u001b[49m\u001b[43m(\u001b[49m\u001b[43m)\u001b[49m)\n",
      "File \u001b[0;32m/usr/local/spark/python/pyspark/sql/streaming/readwriter.py:1385\u001b[0m, in \u001b[0;36mDataStreamWriter.start\u001b[0;34m(self, path, format, outputMode, partitionBy, queryName, **options)\u001b[0m\n\u001b[1;32m   1383\u001b[0m     \u001b[38;5;28mself\u001b[39m\u001b[38;5;241m.\u001b[39mqueryName(queryName)\n\u001b[1;32m   1384\u001b[0m \u001b[38;5;28;01mif\u001b[39;00m path \u001b[38;5;129;01mis\u001b[39;00m \u001b[38;5;28;01mNone\u001b[39;00m:\n\u001b[0;32m-> 1385\u001b[0m     \u001b[38;5;28;01mreturn\u001b[39;00m \u001b[38;5;28mself\u001b[39m\u001b[38;5;241m.\u001b[39m_sq(\u001b[38;5;28;43mself\u001b[39;49m\u001b[38;5;241;43m.\u001b[39;49m\u001b[43m_jwrite\u001b[49m\u001b[38;5;241;43m.\u001b[39;49m\u001b[43mstart\u001b[49m\u001b[43m(\u001b[49m\u001b[43m)\u001b[49m)\n\u001b[1;32m   1386\u001b[0m \u001b[38;5;28;01melse\u001b[39;00m:\n\u001b[1;32m   1387\u001b[0m     \u001b[38;5;28;01mreturn\u001b[39;00m \u001b[38;5;28mself\u001b[39m\u001b[38;5;241m.\u001b[39m_sq(\u001b[38;5;28mself\u001b[39m\u001b[38;5;241m.\u001b[39m_jwrite\u001b[38;5;241m.\u001b[39mstart(path))\n",
      "File \u001b[0;32m/usr/local/spark/python/lib/py4j-0.10.9.7-src.zip/py4j/java_gateway.py:1322\u001b[0m, in \u001b[0;36mJavaMember.__call__\u001b[0;34m(self, *args)\u001b[0m\n\u001b[1;32m   1316\u001b[0m command \u001b[38;5;241m=\u001b[39m proto\u001b[38;5;241m.\u001b[39mCALL_COMMAND_NAME \u001b[38;5;241m+\u001b[39m\\\n\u001b[1;32m   1317\u001b[0m     \u001b[38;5;28mself\u001b[39m\u001b[38;5;241m.\u001b[39mcommand_header \u001b[38;5;241m+\u001b[39m\\\n\u001b[1;32m   1318\u001b[0m     args_command \u001b[38;5;241m+\u001b[39m\\\n\u001b[1;32m   1319\u001b[0m     proto\u001b[38;5;241m.\u001b[39mEND_COMMAND_PART\n\u001b[1;32m   1321\u001b[0m answer \u001b[38;5;241m=\u001b[39m \u001b[38;5;28mself\u001b[39m\u001b[38;5;241m.\u001b[39mgateway_client\u001b[38;5;241m.\u001b[39msend_command(command)\n\u001b[0;32m-> 1322\u001b[0m return_value \u001b[38;5;241m=\u001b[39m \u001b[43mget_return_value\u001b[49m\u001b[43m(\u001b[49m\n\u001b[1;32m   1323\u001b[0m \u001b[43m    \u001b[49m\u001b[43manswer\u001b[49m\u001b[43m,\u001b[49m\u001b[43m \u001b[49m\u001b[38;5;28;43mself\u001b[39;49m\u001b[38;5;241;43m.\u001b[39;49m\u001b[43mgateway_client\u001b[49m\u001b[43m,\u001b[49m\u001b[43m \u001b[49m\u001b[38;5;28;43mself\u001b[39;49m\u001b[38;5;241;43m.\u001b[39;49m\u001b[43mtarget_id\u001b[49m\u001b[43m,\u001b[49m\u001b[43m \u001b[49m\u001b[38;5;28;43mself\u001b[39;49m\u001b[38;5;241;43m.\u001b[39;49m\u001b[43mname\u001b[49m\u001b[43m)\u001b[49m\n\u001b[1;32m   1325\u001b[0m \u001b[38;5;28;01mfor\u001b[39;00m temp_arg \u001b[38;5;129;01min\u001b[39;00m temp_args:\n\u001b[1;32m   1326\u001b[0m     \u001b[38;5;28;01mif\u001b[39;00m \u001b[38;5;28mhasattr\u001b[39m(temp_arg, \u001b[38;5;124m\"\u001b[39m\u001b[38;5;124m_detach\u001b[39m\u001b[38;5;124m\"\u001b[39m):\n",
      "File \u001b[0;32m/usr/local/spark/python/pyspark/errors/exceptions/captured.py:175\u001b[0m, in \u001b[0;36mcapture_sql_exception.<locals>.deco\u001b[0;34m(*a, **kw)\u001b[0m\n\u001b[1;32m    171\u001b[0m converted \u001b[38;5;241m=\u001b[39m convert_exception(e\u001b[38;5;241m.\u001b[39mjava_exception)\n\u001b[1;32m    172\u001b[0m \u001b[38;5;28;01mif\u001b[39;00m \u001b[38;5;129;01mnot\u001b[39;00m \u001b[38;5;28misinstance\u001b[39m(converted, UnknownException):\n\u001b[1;32m    173\u001b[0m     \u001b[38;5;66;03m# Hide where the exception came from that shows a non-Pythonic\u001b[39;00m\n\u001b[1;32m    174\u001b[0m     \u001b[38;5;66;03m# JVM exception message.\u001b[39;00m\n\u001b[0;32m--> 175\u001b[0m     \u001b[38;5;28;01mraise\u001b[39;00m converted \u001b[38;5;28;01mfrom\u001b[39;00m \u001b[38;5;28;01mNone\u001b[39;00m\n\u001b[1;32m    176\u001b[0m \u001b[38;5;28;01melse\u001b[39;00m:\n\u001b[1;32m    177\u001b[0m     \u001b[38;5;28;01mraise\u001b[39;00m\n",
      "\u001b[0;31mAnalysisException\u001b[0m: checkpointLocation must be specified either through option(\"checkpointLocation\", ...) or SparkSession.conf.set(\"spark.sql.streaming.checkpointLocation\", ...)."
     ]
    }
   ],
   "source": [
    "vehicle_position_operators_kafka_query_kafka = (vehicle_position_operators_kafka_df \n",
    "      .selectExpr(\"CAST(key AS STRING)\", \"CAST(value AS STRING)\") \n",
    "      .writeStream \n",
    "      .format(\"kafka\") \n",
    "      .option(\"kafka.bootstrap.servers\", \"broker:29092\") \n",
    "      .option(\"topic\", \"topic1\") \n",
    "      .start())"
   ]
  },
  {
   "cell_type": "code",
   "execution_count": null,
   "id": "2b6aebd3-08c3-44f8-9c99-4696d1c87566",
   "metadata": {},
   "outputs": [],
   "source": [
    "vehicle_position_operators_kafka_query_kafka.stop()"
   ]
  }
 ],
 "metadata": {
  "kernelspec": {
   "display_name": "Python 3 (ipykernel)",
   "language": "python",
   "name": "python3"
  },
  "language_info": {
   "codemirror_mode": {
    "name": "ipython",
    "version": 3
   },
   "file_extension": ".py",
   "mimetype": "text/x-python",
   "name": "python",
   "nbconvert_exporter": "python",
   "pygments_lexer": "ipython3",
   "version": "3.11.4"
  }
 },
 "nbformat": 4,
 "nbformat_minor": 5
}
