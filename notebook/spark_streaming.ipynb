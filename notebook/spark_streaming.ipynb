{
 "cells": [
  {
   "cell_type": "markdown",
   "id": "44948af3-c373-42b2-a087-76815574cefd",
   "metadata": {},
   "source": [
    "# Download the libraries"
   ]
  },
  {
   "cell_type": "code",
   "execution_count": null,
   "id": "607b5075-4c36-4467-87fb-545a4a57ca18",
   "metadata": {},
   "outputs": [],
   "source": [
    "! rm -rf jars\n",
    "!mkdir jars\n",
    "!wget -q -P jars https://repo1.maven.org/maven2/org/apache/spark/spark-sql-kafka-0-10_2.12/3.4.1/spark-sql-kafka-0-10_2.12-3.4.1.jar\n",
    "!wget -q -P jars https://repo1.maven.org/maven2/org/apache/kafka/kafka-clients/3.5.1/kafka-clients-3.5.1.jar\n",
    "!wget -q -P jars https://repo1.maven.org/maven2/org/apache/spark/spark-token-provider-kafka-0-10_2.12/3.4.1/spark-token-provider-kafka-0-10_2.12-3.4.1.jar\n",
    "!wget -q -P jars https://repo1.maven.org/maven2/org/scala-lang/scala-library/2.12.18/scala-library-2.12.18.jar\n",
    "!wget -q -P jars https://repo1.maven.org/maven2/org/apache/commons/commons-pool2/2.11.1/commons-pool2-2.11.1.jar"
   ]
  },
  {
   "cell_type": "markdown",
   "id": "bdb860b0-309f-45bc-8322-44b45cce6a4a",
   "metadata": {},
   "source": [
    "# Set up SparkSession"
   ]
  },
  {
   "cell_type": "code",
   "execution_count": null,
   "id": "55ad2104-8d35-4c5b-bbbb-b0889488ecbb",
   "metadata": {},
   "outputs": [],
   "source": [
    "import os\n",
    "from pyspark.sql import SparkSession"
   ]
  },
  {
   "cell_type": "code",
   "execution_count": null,
   "id": "7d768247-b703-498f-a03b-e304fc822535",
   "metadata": {},
   "outputs": [],
   "source": [
    "base_dir = os.getcwd() + '/jars'\n",
    "\n",
    "spark = (SparkSession.builder\n",
    "    .master('local[*]')\n",
    "    .appName('Spark Structured Streaming example with Kafka')\n",
    "    .config(\"spark.jars\", \n",
    "            base_dir + '/kafka-clients-3.5.1.jar' + \",\" + \n",
    "            base_dir +'/spark-sql-kafka-0-10_2.12-3.4.1.jar' + \",\" + \n",
    "            base_dir + '/spark-token-provider-kafka-0-10_2.12-3.4.1.jar' + \",\" + \n",
    "            base_dir + '/scala-library-2.12.18.jar' + \",\" + \n",
    "            base_dir + '/commons-pool2-2.11.1.jar')\n",
    "    .getOrCreate())\n",
    "\n",
    "spark"
   ]
  },
  {
   "cell_type": "markdown",
   "id": "09b4a7c6-7391-4eb2-9597-2eac9975b788",
   "metadata": {},
   "source": [
    "# Define the schema for our data"
   ]
  },
  {
   "cell_type": "code",
   "execution_count": null,
   "id": "74832419-96d2-4ee6-8208-a7a6ff04084d",
   "metadata": {},
   "outputs": [],
   "source": [
    "from pyspark.sql.types import *"
   ]
  },
  {
   "cell_type": "code",
   "execution_count": null,
   "id": "b373b13f-6b71-43e1-bff5-904daa6bf258",
   "metadata": {},
   "outputs": [],
   "source": [
    "schema = StructType([\n",
    "    StructField(\"VP\", StructType([\n",
    "      StructField(\"desi\", StringType()),\n",
    "      StructField(\"dir\", StringType()),\n",
    "      StructField(\"oper\", IntegerType()),\n",
    "      StructField(\"veh\", IntegerType()),\n",
    "      StructField(\"tst\", TimestampType()),\n",
    "      StructField(\"tsi\", LongType()),\n",
    "      StructField(\"spd\", DoubleType()),\n",
    "      StructField(\"hdg\", IntegerType()),\n",
    "      StructField(\"lat\", DoubleType()),\n",
    "      StructField(\"long\", DoubleType()),\n",
    "      StructField(\"acc\", DoubleType()),\n",
    "      StructField(\"dl\", IntegerType()),\n",
    "      StructField(\"odo\", StringType()),\n",
    "      StructField(\"drst\", StringType()),\n",
    "      StructField(\"oday\", DateType()),\n",
    "      StructField(\"jrn\", IntegerType()),\n",
    "      StructField(\"line\", IntegerType()),\n",
    "      StructField(\"start\", StringType()),\n",
    "      StructField(\"loc\", StringType()),\n",
    "      StructField(\"stop\", LongType()),\n",
    "      StructField(\"route\", StringType()),\n",
    "      StructField(\"occu\", IntegerType())\n",
    "    ]))\n",
    "])"
   ]
  },
  {
   "cell_type": "markdown",
   "id": "397b0670-ce5e-4bbd-8c9d-403ecab5b927",
   "metadata": {},
   "source": [
    "# Initialize the stream"
   ]
  },
  {
   "cell_type": "code",
   "execution_count": null,
   "id": "4fd14eab-fc5e-4491-96ed-3bd85d615858",
   "metadata": {},
   "outputs": [],
   "source": [
    "from pyspark import SparkContext\n",
    "from pyspark.streaming import StreamingContext"
   ]
  },
  {
   "cell_type": "markdown",
   "id": "b3454897-8ade-4e93-9fa2-1625d28e5591",
   "metadata": {},
   "source": [
    "We will read the data from the topic `vehicle-positions` in the Kafka cluster"
   ]
  },
  {
   "cell_type": "code",
   "execution_count": null,
   "id": "689de19d-1a25-4ade-a106-7002b352a1ac",
   "metadata": {},
   "outputs": [],
   "source": [
    "kafka_source_df = (spark.readStream\n",
    "    .format(\"kafka\")\n",
    "    .option(\"kafka.bootstrap.servers\", \"broker:29092\")\n",
    "    .option(\"subscribe\", \"vehicle-positions\")\n",
    "    .option(\"startingOffsets\", \"earliest\")\n",
    "    .load()\n",
    "    .selectExpr(\"CAST(key AS STRING)\", \"CAST(value AS STRING)\"))"
   ]
  },
  {
   "cell_type": "code",
   "execution_count": null,
   "id": "06399f1c-c1a0-41e8-beba-65ac66764f3c",
   "metadata": {},
   "outputs": [],
   "source": [
    "from pyspark.sql.functions import *\n"
   ]
  },
  {
   "cell_type": "code",
   "execution_count": null,
   "id": "32823566-2fa6-4fe3-8870-523e97c7278d",
   "metadata": {},
   "outputs": [],
   "source": [
    "vehicle_position_df = (kafka_source_df\n",
    "    .select(from_json(col(\"value\"), schema).alias(\"json\")) \n",
    "    .select(\"json.VP.*\"))"
   ]
  },
  {
   "cell_type": "code",
   "execution_count": null,
   "id": "f4ab8ac7-d923-4b1f-8402-7b5371911cfa",
   "metadata": {},
   "outputs": [],
   "source": [
    "vehicle_position_df.printSchema()"
   ]
  },
  {
   "cell_type": "markdown",
   "id": "36e7740b-1bba-4155-a77c-8bab9e4180d6",
   "metadata": {},
   "source": [
    "<h3>Record Sample</h3> \n",
    "\n",
    "<code>\n",
    "{\n",
    "  \"desi\": \"M1\",\n",
    "  \"dir\": \"1\",\n",
    "  \"oper\": 50,\n",
    "  \"veh\": 302,\n",
    "  \"tst\": \"2023-08-28T09:57:56Z\",\n",
    "  \"tsi\": 1693216676,\n",
    "  \"spd\": 11.86,\n",
    "  \"hdg\": 52,\n",
    "  \"lat\": 60.1721918,\n",
    "  \"long\": 24.94817722,\n",
    "  \"acc\": null,\n",
    "  \"dl\": null,\n",
    "  \"odo\": null,\n",
    "  \"drst\": null,\n",
    "  \"oday\": \"2023-08-28\",\n",
    "  \"start\": \"12:26\",\n",
    "  \"loc\": \"MAN\",\n",
    "  \"stop\": 1020603,\n",
    "  \"route\": \"31M1\",\n",
    "  \"occu\": 0,\n",
    "  \"seq\": 1\n",
    "}\n",
    "</code>"
   ]
  },
  {
   "cell_type": "markdown",
   "id": "3883102b-f38d-4727-beca-1961244d33e1",
   "metadata": {},
   "source": [
    "### Perform streaming transformations"
   ]
  },
  {
   "cell_type": "markdown",
   "id": "26d79aef-f054-40b5-979e-26aa38cf17a9",
   "metadata": {},
   "source": [
    "[window documentation](https://spark.apache.org/docs/latest/api/python/reference/pyspark.sql/api/pyspark.sql.functions.window.html#pyspark.sql.functions.window)<br>\n",
    "[withWatermark documentation](https://spark.apache.org/docs/latest/api/python/reference/pyspark.sql/api/pyspark.sql.DataFrame.withWatermark.html#pyspark.sql.DataFrame.withWatermark)"
   ]
  },
  {
   "cell_type": "code",
   "execution_count": null,
   "id": "7f8ad5e9-0b0b-4847-91c4-0cc1b4b4aedc",
   "metadata": {},
   "outputs": [],
   "source": [
    "vehicle_position_window_df = (vehicle_position_df\n",
    "      .withWatermark(\"tst\", \"1 milliseconds\")\n",
    "      .groupBy(\n",
    "        window(col(\"tst\"), \"1 minutes\", \"1 minutes\"), #window(timeColumn, windowDuration, slideDuration) (tumbling windows: an input can belong only to one window)\n",
    "        col(\"route\")\n",
    "      ).count())"
   ]
  },
  {
   "cell_type": "code",
   "execution_count": null,
   "id": "3828bc2b-1772-429e-a919-7da4bb75f71d",
   "metadata": {},
   "outputs": [],
   "source": [
    "vehicle_position_window_df.printSchema()"
   ]
  },
  {
   "cell_type": "markdown",
   "id": "b34ce1da-1f75-4fc1-9b18-c885daa704c9",
   "metadata": {},
   "source": [
    "# Start the streaming query"
   ]
  },
  {
   "cell_type": "markdown",
   "id": "4906740b-5a78-4918-879b-2a57a3971c3e",
   "metadata": {},
   "source": [
    "## Append mode"
   ]
  },
  {
   "cell_type": "markdown",
   "id": "bfd8fd0f-eb0c-458d-b62e-5fb4ce008c50",
   "metadata": {},
   "source": [
    "We are using the sink **memory**, it support only two output modes: **append** and **complete**."
   ]
  },
  {
   "cell_type": "code",
   "execution_count": null,
   "id": "d5377728-6667-4fcd-a4ae-2ffb8570b447",
   "metadata": {},
   "outputs": [],
   "source": [
    "query_append_trigger = (vehicle_position_window_df.writeStream\n",
    "    .format(\"memory\")\n",
    "    .trigger(processingTime = '6 seconds') \n",
    "    .outputMode(\"append\")\n",
    "    .queryName(\"query_append_trigger\")\n",
    "    .start())"
   ]
  },
  {
   "cell_type": "code",
   "execution_count": null,
   "id": "2f20628f-7abd-4044-b653-3ce3622f483c",
   "metadata": {},
   "outputs": [],
   "source": [
    "(spark.sql(\"select * from query_append_trigger\")\n",
    "    .filter(col('route') == '2113')\n",
    "    .show(n = 100, truncate = False))"
   ]
  },
  {
   "cell_type": "code",
   "execution_count": null,
   "id": "54f459b7-2e80-4ca7-b896-151236f44382",
   "metadata": {},
   "outputs": [],
   "source": [
    "query_append_trigger.stop()"
   ]
  },
  {
   "cell_type": "markdown",
   "id": "b10c10e3-a06f-4049-b76d-853b55b36436",
   "metadata": {},
   "source": [
    "## Complete mode"
   ]
  },
  {
   "cell_type": "markdown",
   "id": "a75f8431-28b6-402f-8daf-dd6383fe047f",
   "metadata": {},
   "source": [
    "This Dataframe is identical to `vehicle_position_window_df`, but I have removed the .withWatermark because it is useless in complete mode"
   ]
  },
  {
   "cell_type": "code",
   "execution_count": null,
   "id": "6f3d2526-2b8c-4c8f-bd14-96cb8d0c0457",
   "metadata": {},
   "outputs": [],
   "source": [
    "vehicle_position_window_no_wm_df = (vehicle_position_df\n",
    "      .groupBy(\n",
    "        window(col(\"tst\"), \"1 minutes\", \"1 minutes\"), #window(timeColumn, windowDuration, slideDuration) (tumbling windows: an input can belong only to one window)\n",
    "        col(\"route\")\n",
    "      ).count())"
   ]
  },
  {
   "cell_type": "code",
   "execution_count": null,
   "id": "89e98d29-4549-404f-9979-6af12fd09bc5",
   "metadata": {},
   "outputs": [],
   "source": [
    "query_complete = (vehicle_position_window_no_wm_df.writeStream\n",
    "            .format(\"memory\")\n",
    "            .trigger(processingTime = '6 seconds') \n",
    "            .outputMode(\"complete\")\n",
    "            .queryName(\"query_complete\")\n",
    "            .start())"
   ]
  },
  {
   "cell_type": "code",
   "execution_count": null,
   "id": "708df364-af90-40f7-bf04-2ab94e9d5e67",
   "metadata": {},
   "outputs": [],
   "source": [
    "(spark.sql(\"select * from query_complete\")\n",
    "    .filter(col('route') == '2113')\n",
    "    .show(n = 100, truncate = False))"
   ]
  },
  {
   "cell_type": "code",
   "execution_count": null,
   "id": "17da8d11-1d1e-4cbb-b402-54dac9265a36",
   "metadata": {},
   "outputs": [],
   "source": [
    "query_complete.stop()"
   ]
  },
  {
   "cell_type": "markdown",
   "id": "8d8d663e-6b1a-490e-816f-c44cbc262d78",
   "metadata": {},
   "source": [
    "<h3> Thoughts on Complete mode </h3>\n",
    "The complete mode never releases the intermediate state of the aggregation which means that the memory consumption will increase indefinitely for a query such this. "
   ]
  },
  {
   "cell_type": "markdown",
   "id": "8fbca8e6-5b9c-4b6f-9eae-7628d85591e6",
   "metadata": {},
   "source": [
    "### Thoughts on watermarking output mode and sink\n",
    "\n",
    "- The watermarking can only be used in **update** and **append** mode. \n",
    "- In **complete** mode the old aggregation state is never dropped and we cannot use watermarking.\n",
    "- Without the watermarking in the **append** mode the old aggregation state is never dropped.\n",
    "- The sink format **memory** should be used only for debugging purposes and with low volumes of data since the output is entirely stored in the driver's memory\n",
    "- The sink format **memory** does not support the **update** mode."
   ]
  },
  {
   "cell_type": "markdown",
   "id": "5d358cf8-9c86-412c-80b4-8813e7953db7",
   "metadata": {},
   "source": [
    "# Join Stream Stream"
   ]
  },
  {
   "cell_type": "code",
   "execution_count": null,
   "id": "0b3f2deb-6026-4e13-93e3-52e7a879b0ff",
   "metadata": {},
   "outputs": [],
   "source": [
    "rate_source_df = (spark \n",
    "    .readStream \n",
    "    .format(\"rate\")\n",
    "    .load())"
   ]
  },
  {
   "cell_type": "markdown",
   "id": "298c97e0-a68e-407d-a276-97c5cdbbc174",
   "metadata": {},
   "source": [
    "The input source `rate` generates one row per second with a timestamp and an increasing value:\n",
    "<code>\n",
    "+-----------------------+-----+\n",
    "|timestamp              |value|\n",
    "+-----------------------+-----+\n",
    "|2023-10-31 14:16:43.267|0    |\n",
    "|2023-10-31 14:16:44.267|1    |\n",
    "|2023-10-31 14:16:45.267|2    |\n",
    "|2023-10-31 14:16:46.267|3    |\n",
    "|2023-10-31 14:16:47.267|4    |\n",
    "|2023-10-31 14:16:51.267|8    |\n",
    "|2023-10-31 14:16:48.267|5    |\n",
    "|2023-10-31 14:16:52.267|9    |\n",
    "|2023-10-31 14:16:49.267|6    |\n",
    "|2023-10-31 14:16:50.267|7    |\n",
    "+-----------------------+-----+\n",
    "</code>"
   ]
  },
  {
   "cell_type": "code",
   "execution_count": null,
   "id": "e3c354c0-509f-4616-a885-01d544a039b5",
   "metadata": {},
   "outputs": [],
   "source": [
    "second_rate_source_df = (spark \n",
    "    .readStream \n",
    "    .format(\"rate\")\n",
    "    .load()\n",
    "    .withColumn(\"animals\", \n",
    "                when(col(\"value\") % 4 == 0, lit(\"Cat\"))\n",
    "                .when(col(\"value\") % 4 == 1, lit(\"Dog\"))\n",
    "                .when(col(\"value\") % 4 == 2, lit(\"Mouse\"))\n",
    "                .otherwise(lit(\"Horse\")))\n",
    "    )"
   ]
  },
  {
   "cell_type": "markdown",
   "id": "0ee59f1e-e497-4502-9dce-426e7cbdfac7",
   "metadata": {},
   "source": [
    "<code>\n",
    "+-----------------------+-----+-------+\n",
    "|timestamp              |value|animals|\n",
    "+-----------------------+-----+-------+\n",
    "|2023-11-02 09:51:49.535|0    |Cat    |\n",
    "|2023-11-02 09:51:50.535|1    |Dog    |\n",
    "|2023-11-02 09:51:51.535|2    |Mouse  |\n",
    "|2023-11-02 09:51:52.535|3    |Horse  |\n",
    "|2023-11-02 09:51:53.535|4    |Cat    |\n",
    "|2023-11-02 09:51:57.535|8    |Cat    |\n",
    "|2023-11-02 09:51:54.535|5    |Dog    |\n",
    "|2023-11-02 09:51:58.535|9    |Dog    |\n",
    "|2023-11-02 09:51:55.535|6    |Mouse  |\n",
    "|2023-11-02 09:51:56.535|7    |Horse  |\n",
    "+-----------------------+-----+-------+\n",
    "</code>"
   ]
  },
  {
   "cell_type": "markdown",
   "id": "62e58208-9f2e-4155-b3f6-6029864fc405",
   "metadata": {},
   "source": [
    "To allow the state cleaning when performing a join stream-stream we need to specify two conditions:\n",
    "- watermarking\n",
    "- range condition on the event time"
   ]
  },
  {
   "cell_type": "code",
   "execution_count": null,
   "id": "077fbf9e-09b2-4b2e-9912-5dfae6424ded",
   "metadata": {},
   "outputs": [],
   "source": [
    "# Apply watermarks on event-time columns\n",
    "rate_source_wm_df = (rate_source_df\n",
    "    .withColumnRenamed(\"timestamp\", \"timestamp_rate_source\")\n",
    "    .withColumnRenamed(\"value\", \"value_rate_source\")\n",
    "    .withWatermark(\"timestamp_rate_source\", \"1 milliseconds\"))"
   ]
  },
  {
   "cell_type": "code",
   "execution_count": null,
   "id": "ea0a76aa-c7da-4d3d-b5dd-4cdfbd05ddd2",
   "metadata": {},
   "outputs": [],
   "source": [
    "query_rate_source_wm = (rate_source_wm_df.writeStream\n",
    "    .format(\"memory\")\n",
    "    .trigger(processingTime = '6 seconds') \n",
    "    .outputMode(\"append\")\n",
    "    .queryName(\"query_rate_source_wm\")\n",
    "    .start())"
   ]
  },
  {
   "cell_type": "code",
   "execution_count": null,
   "id": "42e1b651-5dd8-4a3f-822d-5708653f4ca6",
   "metadata": {},
   "outputs": [],
   "source": [
    "(spark.sql(\"select * from query_rate_source_wm\")\n",
    "    .show(n = 100, truncate = False))"
   ]
  },
  {
   "cell_type": "code",
   "execution_count": null,
   "id": "21b0a119-3412-498f-8aee-07fa26af354f",
   "metadata": {},
   "outputs": [],
   "source": [
    "query_rate_source_wm.stop()"
   ]
  },
  {
   "cell_type": "code",
   "execution_count": null,
   "id": "3d017eb5-7d83-4249-8aed-c20f221d8930",
   "metadata": {},
   "outputs": [],
   "source": [
    "# Apply watermarks on event-time columns\n",
    "second_rate_source_wm_df = (second_rate_source_df\n",
    "    .withColumn(\"timestamp_second_source\", col(\"timestamp\") + expr(\"INTERVAL 2 seconds\")) #add 5 seconds \n",
    "    .withColumnRenamed(\"value\", \"value_second_source\")\n",
    "    .drop(\"timestamp\")                        \n",
    "    .withWatermark(\"timestamp_second_source\", \"10 milliseconds\"))"
   ]
  },
  {
   "cell_type": "code",
   "execution_count": null,
   "id": "15c8fc74-f1cc-4b66-9aa3-aad6df8c4863",
   "metadata": {},
   "outputs": [],
   "source": [
    "second_rate_source_wm = (second_rate_source_wm_df.writeStream\n",
    "    .format(\"memory\")\n",
    "    .trigger(processingTime = '6 seconds') \n",
    "    .outputMode(\"append\")\n",
    "    .queryName(\"second_rate_source_wm\")\n",
    "    .start())"
   ]
  },
  {
   "cell_type": "code",
   "execution_count": null,
   "id": "9c7e1cbb-bf81-4a33-97c7-21d863d0915e",
   "metadata": {},
   "outputs": [],
   "source": [
    "(spark.sql(\"select * from second_rate_source_wm\")\n",
    "    .show(n = 100, truncate = False))"
   ]
  },
  {
   "cell_type": "code",
   "execution_count": null,
   "id": "c4480394-1d8f-4537-936c-15591d3f0b71",
   "metadata": {},
   "outputs": [],
   "source": [
    "second_rate_source_wm.stop()"
   ]
  },
  {
   "cell_type": "markdown",
   "id": "1d9ae334-0328-46c8-b4b3-2d0a61fed349",
   "metadata": {},
   "source": [
    "## Inner Join"
   ]
  },
  {
   "cell_type": "code",
   "execution_count": null,
   "id": "24dcbf3d-9360-4852-86a3-ee784ab433cd",
   "metadata": {},
   "outputs": [],
   "source": [
    "# Join with event-time constraints\n",
    "join_rate_sources_wm_df = second_rate_source_wm_df.join(\n",
    "  rate_source_wm_df, \n",
    "  expr(\"\"\"\n",
    "    value_rate_source = value_second_source AND\n",
    "    timestamp_second_source >= timestamp_rate_source AND\n",
    "    timestamp_second_source <= timestamp_rate_source + interval 3 seconds\n",
    "    \"\"\")\n",
    ")"
   ]
  },
  {
   "cell_type": "code",
   "execution_count": null,
   "id": "6d9582a3-2d3f-42f1-976c-36184ad68111",
   "metadata": {},
   "outputs": [],
   "source": [
    "join_rate_sources_wm_query = (join_rate_sources_wm_df.writeStream\n",
    "    .format(\"memory\")\n",
    "    .trigger(processingTime = '6 seconds') \n",
    "    .outputMode(\"append\")\n",
    "    .queryName(\"join_rate_sources_wm_query\")\n",
    "    .start())"
   ]
  },
  {
   "cell_type": "code",
   "execution_count": null,
   "id": "a548167f-9328-492b-8822-5abc33802990",
   "metadata": {},
   "outputs": [],
   "source": [
    "(spark.sql(\"select * from join_rate_sources_wm_query\")\n",
    "    .show(n = 100, truncate = False))"
   ]
  },
  {
   "cell_type": "code",
   "execution_count": null,
   "id": "e0a3a622-d5bb-4d1d-ac7d-7665afef63ef",
   "metadata": {},
   "outputs": [],
   "source": [
    "join_rate_sources_wm_query.stop()"
   ]
  },
  {
   "cell_type": "code",
   "execution_count": null,
   "id": "4f8f562f-c18a-4957-8db1-6d6f509d955c",
   "metadata": {},
   "outputs": [],
   "source": [
    "join_rate_sources_wm_query.exception()"
   ]
  },
  {
   "cell_type": "code",
   "execution_count": null,
   "id": "4576a0c7-fd33-4aae-8697-bcc744fc31c3",
   "metadata": {},
   "outputs": [],
   "source": [
    "join_rate_sources_wm_query.lastProgress"
   ]
  },
  {
   "cell_type": "markdown",
   "id": "7848c880-15e0-4455-aa48-740e7fa08b5c",
   "metadata": {},
   "source": [
    "## Left outer join"
   ]
  },
  {
   "cell_type": "code",
   "execution_count": null,
   "id": "2ea1ff15-3250-431b-9bec-94e24d56f83e",
   "metadata": {},
   "outputs": [],
   "source": [
    "rate_source_wm_filter_df = rate_source_wm_df.filter(col(\"value_rate_source\") % 3 == 0 )"
   ]
  },
  {
   "cell_type": "code",
   "execution_count": null,
   "id": "c106d23b-dd4a-49c7-b4b1-187f2985a856",
   "metadata": {},
   "outputs": [],
   "source": [
    "# Join with event-time constraints\n",
    "join_rate_sources_wm_filter_df = second_rate_source_wm_df.join(\n",
    "  rate_source_wm_filter_df, \n",
    "  expr(\"\"\"\n",
    "    value_rate_source = value_second_source AND\n",
    "    timestamp_second_source >= timestamp_rate_source AND\n",
    "    timestamp_second_source <= timestamp_rate_source + interval 3 seconds\n",
    "    \"\"\"),\n",
    "    \"leftOuter\"\n",
    ")"
   ]
  },
  {
   "cell_type": "code",
   "execution_count": null,
   "id": "8d2e5aab-8134-4fbf-90e1-431a66bdb7d3",
   "metadata": {},
   "outputs": [],
   "source": [
    "join_rate_sources_wm_filter_query = (join_rate_sources_wm_filter_df.writeStream\n",
    "    .format(\"memory\")\n",
    "    .trigger(processingTime = '6 seconds') \n",
    "    .outputMode(\"append\")\n",
    "    .queryName(\"join_rate_sources_wm_filter_query\")\n",
    "    .start())"
   ]
  },
  {
   "cell_type": "code",
   "execution_count": null,
   "id": "03a8d293-009d-4cce-8338-0dabcceebbde",
   "metadata": {},
   "outputs": [],
   "source": [
    "(spark.sql(\"select * from join_rate_sources_wm_filter_query\")\n",
    "    .show(n = 100, truncate = False))"
   ]
  },
  {
   "cell_type": "code",
   "execution_count": null,
   "id": "e21f37d9-35e0-422e-8adf-c3959335e842",
   "metadata": {},
   "outputs": [],
   "source": [
    "join_rate_sources_wm_filter_query.stop()"
   ]
  },
  {
   "cell_type": "markdown",
   "id": "cf70e063-c597-4611-ba65-08d324718247",
   "metadata": {},
   "source": [
    "# Join Stream-Static"
   ]
  },
  {
   "cell_type": "code",
   "execution_count": null,
   "id": "d499d091-0545-432b-acdd-e4720cee4396",
   "metadata": {},
   "outputs": [],
   "source": [
    "operators_df = spark.read.csv(\"operators.csv\", header = True, inferSchema = True)"
   ]
  },
  {
   "cell_type": "code",
   "execution_count": null,
   "id": "d96de450-cff1-4c44-912b-8db68b6ee4d3",
   "metadata": {},
   "outputs": [],
   "source": [
    "operators_df.show(truncate = False)"
   ]
  },
  {
   "cell_type": "code",
   "execution_count": null,
   "id": "e99d7fdf-2fec-4c34-bc37-2b04d74d2849",
   "metadata": {},
   "outputs": [],
   "source": [
    "operators_df.printSchema()"
   ]
  },
  {
   "cell_type": "code",
   "execution_count": null,
   "id": "1984fa1c-e411-475e-8300-0df2151e5b47",
   "metadata": {},
   "outputs": [],
   "source": [
    "join_vehicle_operators_df = vehicle_position_df.join(operators_df, vehicle_position_df.oper == operators_df.id, \"left_outer\")"
   ]
  },
  {
   "cell_type": "code",
   "execution_count": null,
   "id": "774b41b3-0a05-43f1-8c16-ceab564abdaa",
   "metadata": {},
   "outputs": [],
   "source": [
    "join_vehicle_operators_df.printSchema()"
   ]
  },
  {
   "cell_type": "code",
   "execution_count": null,
   "id": "e4cabb25-52d7-4f05-b466-37dc2faba47d",
   "metadata": {},
   "outputs": [],
   "source": [
    "query_join_vechicle_operators_append = (join_vehicle_operators_df.writeStream\n",
    "    .format(\"memory\")\n",
    "    .trigger(processingTime = '6 seconds') \n",
    "    .outputMode(\"append\")\n",
    "    .queryName(\"query_join_vechicle_operators_append\")\n",
    "    .start())"
   ]
  },
  {
   "cell_type": "code",
   "execution_count": null,
   "id": "c761655b-b6ae-4f99-8cbd-ab4fe54ba57c",
   "metadata": {},
   "outputs": [],
   "source": [
    "(spark.sql(\"select tst, route, oper, operator_name, country, city, address from query_join_vechicle_operators_append\")\n",
    "    .filter(col('route') == '2113')\n",
    "    .show(n = 20, truncate = False))"
   ]
  },
  {
   "cell_type": "code",
   "execution_count": null,
   "id": "7c3794ef-3471-4b45-b77e-258481d0d07f",
   "metadata": {},
   "outputs": [],
   "source": [
    "query_join_vechicle_operators_append.stop()"
   ]
  },
  {
   "cell_type": "markdown",
   "id": "e8b6cdb1-3d59-4c13-bfc1-605033742dcf",
   "metadata": {},
   "source": [
    "## Aggregations after join"
   ]
  },
  {
   "cell_type": "code",
   "execution_count": null,
   "id": "ad9000a6-4edd-4d85-9707-2978851b735d",
   "metadata": {},
   "outputs": [],
   "source": [
    "vehicle_position_operators_group_df = (join_vehicle_operators_df\n",
    "      .withWatermark(\"tst\", \"1 milliseconds\")\n",
    "      .groupBy(\n",
    "        window(col(\"tst\"), \"1 minutes\", \"1 minutes\"),\n",
    "        col(\"oper\"),\n",
    "        col(\"operator_name\") \n",
    "      ).count())"
   ]
  },
  {
   "cell_type": "code",
   "execution_count": null,
   "id": "9493489a-6b3a-40ce-ba43-2213292250e6",
   "metadata": {},
   "outputs": [],
   "source": [
    "vehicle_position_operators_query_append = (vehicle_position_operators_group_df.writeStream\n",
    "        .format(\"memory\")\n",
    "        .trigger(processingTime = '6 seconds') \n",
    "        .outputMode(\"append\")\n",
    "        .queryName(\"vehicle_position_operators_append\")\n",
    "        .start())"
   ]
  },
  {
   "cell_type": "code",
   "execution_count": null,
   "id": "645e1438-7d1a-4df2-8b43-70fe90c01e9d",
   "metadata": {},
   "outputs": [],
   "source": [
    "(spark.sql(\"select * from vehicle_position_operators_append\")\n",
    "    .filter(col('oper') == '22')\n",
    "    .show(truncate = False, n = 30))"
   ]
  },
  {
   "cell_type": "code",
   "execution_count": null,
   "id": "aaf42cd7-15b0-4a96-af82-4f2400592ff0",
   "metadata": {},
   "outputs": [],
   "source": [
    "vehicle_position_operators_query_append.stop()"
   ]
  },
  {
   "cell_type": "markdown",
   "id": "d5cb17c8-9119-4708-affc-d26699b731e2",
   "metadata": {},
   "source": [
    "## Sorting"
   ]
  },
  {
   "cell_type": "code",
   "execution_count": null,
   "id": "e96c84cc-ec7f-4b45-8af8-f8ea35537f86",
   "metadata": {},
   "outputs": [],
   "source": [
    "vehicle_position_operators_group_sort_df = (join_vehicle_operators_df\n",
    "      .groupBy(\n",
    "        window(col(\"tst\"), \"1 minutes\", \"1 minutes\"),\n",
    "        col(\"oper\"),\n",
    "        col(\"operator_name\") \n",
    "      ).count()\n",
    "      .orderBy(desc('window')))"
   ]
  },
  {
   "cell_type": "code",
   "execution_count": null,
   "id": "9ad0f55c-e8a5-403b-8f88-4084fdd8a0ce",
   "metadata": {},
   "outputs": [],
   "source": [
    "vehicle_position_operators_query_complete = (vehicle_position_operators_group_sort_df.writeStream\n",
    "    .format(\"memory\")\n",
    "    .trigger(processingTime = '6 seconds') \n",
    "    .outputMode(\"complete\")\n",
    "    .queryName(\"vehicle_position_operators_complete\")\n",
    "    .start())"
   ]
  },
  {
   "cell_type": "code",
   "execution_count": null,
   "id": "a3256e02-b6fc-4c18-bca6-c1b3e7c0eca9",
   "metadata": {},
   "outputs": [],
   "source": [
    "(spark.sql(\"select * from vehicle_position_operators_complete\")\n",
    "    .filter(col('oper') == '22')\n",
    "    .show(truncate = False, n = 100))"
   ]
  },
  {
   "cell_type": "code",
   "execution_count": null,
   "id": "796a0464-6ab7-4374-a7f6-58e659edfda8",
   "metadata": {},
   "outputs": [],
   "source": [
    "vehicle_position_operators_query_complete.stop()"
   ]
  },
  {
   "cell_type": "markdown",
   "id": "9af38fbe-35bb-4a4d-975d-fc17d7f2fc61",
   "metadata": {},
   "source": [
    "<h3> Thoughts on sorting </h3>\n",
    "<b>Sorting operations are supported on streaming Datasets only after an aggregation and in Complete Output Mode</b>. <br>\n",
    "So we can only use the groupBy in Complete mode and not in Append mode."
   ]
  },
  {
   "cell_type": "markdown",
   "id": "7c9f8ed0-baa0-4dea-96a8-cbe7ec49a445",
   "metadata": {},
   "source": [
    "<h1>Query mamagement</h1>"
   ]
  },
  {
   "cell_type": "markdown",
   "id": "a330ce04-163a-40fe-9cfc-bed009906f39",
   "metadata": {},
   "source": [
    "[documentation](https://spark.apache.org/docs/3.4.1/api/python/reference/pyspark.ss/api/pyspark.sql.streaming.StreamingQuery.html)"
   ]
  },
  {
   "cell_type": "markdown",
   "id": "864c62fb-d4fd-43cb-afef-38b9d2fbdda4",
   "metadata": {},
   "source": [
    "<h3>Get the unique identifier of the running query</h3>"
   ]
  },
  {
   "cell_type": "code",
   "execution_count": null,
   "id": "ab7d7d34-41ce-48b6-bb00-dcfe51fd96a8",
   "metadata": {},
   "outputs": [],
   "source": [
    "vehicle_position_operators_query_complete.id"
   ]
  },
  {
   "cell_type": "markdown",
   "id": "9800a5ac-64cf-49a9-96dc-dc955234e90c",
   "metadata": {},
   "source": [
    "<h3>Get the run id of the query</h3>"
   ]
  },
  {
   "cell_type": "code",
   "execution_count": null,
   "id": "6524d73b-e64b-4df7-a862-2412e2ec84f7",
   "metadata": {},
   "outputs": [],
   "source": [
    "vehicle_position_operators_query_complete.runId"
   ]
  },
  {
   "cell_type": "markdown",
   "id": "4dc29755-b596-4878-86c9-cee13f790630",
   "metadata": {},
   "source": [
    "<h3>Get the name of the auto-generated or user-specified name</h3>"
   ]
  },
  {
   "cell_type": "code",
   "execution_count": null,
   "id": "a97cd00c-c826-4bf3-836c-bcc7ea1f0a4d",
   "metadata": {},
   "outputs": [],
   "source": [
    "vehicle_position_operators_query_complete.name"
   ]
  },
  {
   "cell_type": "markdown",
   "id": "667cb359-0382-46fb-8400-bb7a4f946e10",
   "metadata": {},
   "source": [
    "<h3>Print detailed explanations of the query</h3>"
   ]
  },
  {
   "cell_type": "code",
   "execution_count": null,
   "id": "2c9ad569-bcab-4c36-a400-a41f8692fe78",
   "metadata": {},
   "outputs": [],
   "source": [
    "vehicle_position_operators_query_complete.explain()"
   ]
  },
  {
   "cell_type": "markdown",
   "id": "5fc7bfed-2fd9-4998-8573-06d7e5febb67",
   "metadata": {},
   "source": [
    "<h3>Query recent progress</h3>"
   ]
  },
  {
   "cell_type": "code",
   "execution_count": null,
   "id": "16525a07-8e4f-42ed-aeb4-5aad0141533a",
   "metadata": {},
   "outputs": [],
   "source": [
    "vehicle_position_operators_query_complete.recentProgress"
   ]
  },
  {
   "cell_type": "markdown",
   "id": "9ab18b11-a1a4-405e-aec6-178cad0a93f4",
   "metadata": {},
   "source": [
    "<h3>Get the query last progress</h3>"
   ]
  },
  {
   "cell_type": "code",
   "execution_count": null,
   "id": "1d31aa1f-cb3d-4d3b-a85c-1c163ca7e6cb",
   "metadata": {},
   "outputs": [],
   "source": [
    "vehicle_position_operators_query_complete.lastProgress"
   ]
  },
  {
   "cell_type": "markdown",
   "id": "80be6691-1f21-4e3d-a163-3ed3be7092ef",
   "metadata": {},
   "source": [
    "<h3>Get the list of currently active streaming queries</h3>"
   ]
  },
  {
   "cell_type": "code",
   "execution_count": null,
   "id": "ec5fa112-4a80-4b9e-a8a3-9ffc6bc16592",
   "metadata": {},
   "outputs": [],
   "source": [
    "spark.streams.active"
   ]
  },
  {
   "cell_type": "markdown",
   "id": "ac05ab8f-e7c1-4b5f-930b-8ada574147be",
   "metadata": {},
   "source": [
    "<h3>Get the query object from the id</h3>"
   ]
  },
  {
   "cell_type": "code",
   "execution_count": null,
   "id": "fc4144be-2c0f-4367-9f86-27070e09e603",
   "metadata": {},
   "outputs": [],
   "source": [
    "query = spark.streams.get(vehicle_position_operators_query_complete.id)"
   ]
  },
  {
   "cell_type": "code",
   "execution_count": null,
   "id": "3c7696da-c5d2-44d8-a464-03f989ea7d96",
   "metadata": {},
   "outputs": [],
   "source": [
    "query.name"
   ]
  },
  {
   "cell_type": "markdown",
   "id": "9bd0d67d-abf3-4205-80a3-c8a2acbd4528",
   "metadata": {},
   "source": [
    "<h3>Query active</h3>"
   ]
  },
  {
   "cell_type": "code",
   "execution_count": null,
   "id": "acea86f2-e4fc-42ce-ac29-61a86259e9ff",
   "metadata": {},
   "outputs": [],
   "source": [
    "vehicle_position_operators_query_complete.isActive"
   ]
  },
  {
   "cell_type": "markdown",
   "id": "32d7c948-8f65-4540-93bc-72af1af5fcbe",
   "metadata": {},
   "source": [
    "<h3>Query status</h3>"
   ]
  },
  {
   "cell_type": "code",
   "execution_count": null,
   "id": "1e299a46-3e1a-4e17-9384-64b75a763049",
   "metadata": {},
   "outputs": [],
   "source": [
    "vehicle_position_operators_query_complete.status"
   ]
  },
  {
   "cell_type": "markdown",
   "id": "36eaf5cc-c34d-4443-96e2-c4d835cd588b",
   "metadata": {},
   "source": [
    "<h3>Query exception (useful if the query has terminated with an exception)</h3>"
   ]
  },
  {
   "cell_type": "code",
   "execution_count": null,
   "id": "6a6b09f9-1c5a-447a-86ec-762beb9444df",
   "metadata": {},
   "outputs": [],
   "source": [
    "vehicle_position_operators_query_complete.exception()"
   ]
  },
  {
   "cell_type": "markdown",
   "id": "8a4b1d8b-02ca-44b7-97f7-a38da9368bbd",
   "metadata": {},
   "source": [
    "<h3>Await query termination</h3>"
   ]
  },
  {
   "cell_type": "code",
   "execution_count": null,
   "id": "548a6a9b-4e5b-4aa1-8e06-86d41704936e",
   "metadata": {},
   "outputs": [],
   "source": [
    "#query.awaitTermination([timeout])"
   ]
  },
  {
   "cell_type": "markdown",
   "id": "1b1411e7-1aab-4d54-bc6c-4c07b4372e90",
   "metadata": {},
   "source": [
    "<h3>Stop the query</h3>"
   ]
  },
  {
   "cell_type": "code",
   "execution_count": null,
   "id": "003dbee4-1032-4f1d-a6ce-75c724153f11",
   "metadata": {},
   "outputs": [],
   "source": [
    "vehicle_position_operators_query_complete.stop()"
   ]
  },
  {
   "cell_type": "markdown",
   "id": "1ce9aa4e-b983-4694-b204-e6e763d4f8c1",
   "metadata": {},
   "source": [
    "<h1>Output Sinks</h1>"
   ]
  },
  {
   "cell_type": "markdown",
   "id": "76b09a66-2679-4bf3-8b2a-1702dcf785f0",
   "metadata": {},
   "source": [
    "<h2>CSV</h2>"
   ]
  },
  {
   "cell_type": "code",
   "execution_count": null,
   "id": "653e672c-e365-4828-82ca-9cca574785d6",
   "metadata": {},
   "outputs": [],
   "source": [
    "vehicle_position_operators_filter_df = (join_vehicle_operators_df\n",
    "      .withWatermark(\"tst\", \"1 seconds\")\n",
    "      .filter(col('oper').isin('22','90','6','30','12','50'))                                  \n",
    "      .groupBy(\n",
    "        window(col(\"tst\"), \"1 minutes\", \"1 minutes\"),\n",
    "        col(\"oper\"),\n",
    "        col(\"operator_name\") \n",
    "      ).count())"
   ]
  },
  {
   "cell_type": "code",
   "execution_count": null,
   "id": "d83a7f7a-ca0b-41c6-bfdb-4fce02108330",
   "metadata": {},
   "outputs": [],
   "source": [
    "vehicle_position_operators_filter_mod_df = (vehicle_position_operators_filter_df \n",
    "        .withColumn(\"window\",vehicle_position_operators_filter_df.window.cast('string'))\n",
    "        .coalesce(1)) # writes 1 file csv for each trigger"
   ]
  },
  {
   "cell_type": "code",
   "execution_count": null,
   "id": "5d42840b-27d1-4d0f-8b26-e43e87976ddb",
   "metadata": {},
   "outputs": [],
   "source": [
    "vehicle_position_operators_filter_mod = (vehicle_position_operators_filter_mod_df.writeStream\n",
    "        .format(\"csv\")                               # can be \"orc\", \"json\", \"parquet\", etc.\n",
    "        .option(\"path\", \"csv\")\n",
    "        .option(\"header\",True)\n",
    "        .trigger(processingTime = '1 minutes') \n",
    "        .outputMode(\"append\")\n",
    "        .option(\"checkpointLocation\", \"checkpoint\")\n",
    "        .start())"
   ]
  },
  {
   "cell_type": "code",
   "execution_count": null,
   "id": "3368bd6d-11a6-49bc-98a0-2ba0105ee9c5",
   "metadata": {},
   "outputs": [],
   "source": [
    "vehicle_position_operators_filter_mod.exception()"
   ]
  },
  {
   "cell_type": "code",
   "execution_count": null,
   "id": "4c20adb8-a3ad-4311-b5e9-74de2361fe47",
   "metadata": {},
   "outputs": [],
   "source": [
    "vehicle_position_operators_filter_mod.status"
   ]
  },
  {
   "cell_type": "code",
   "execution_count": null,
   "id": "3cdddd3e-4f41-4cf2-bd1a-750f253c6bc2",
   "metadata": {},
   "outputs": [],
   "source": [
    "vehicle_position_operators_filter_mod.isActive"
   ]
  },
  {
   "cell_type": "code",
   "execution_count": null,
   "id": "11ba960d-e94c-465a-8863-8c75f124ec3d",
   "metadata": {},
   "outputs": [],
   "source": [
    "vehicle_position_operators_filter_mod.stop()"
   ]
  },
  {
   "cell_type": "code",
   "execution_count": null,
   "id": "c47ef376-62ee-4645-81ff-a4b4e9078b9a",
   "metadata": {},
   "outputs": [],
   "source": [
    "# to delete folders\n",
    "#! rm -rf csv"
   ]
  },
  {
   "cell_type": "markdown",
   "id": "aa275670-2cbb-4b67-8c87-e3696fab8585",
   "metadata": {},
   "source": [
    "<h3>Thoughts on CSV sink</h3>\n",
    "<ul>\n",
    "    <li> It is not allowed to use the Complete mode so we cannot perform any sorting on the data. </li>\n",
    "    <li> It is necessary to cast the column window to string because timestamp columns are not allowed when the sink is of type CSV </li>\n",
    "    <li> It will be generated one CSV file for each trigger </li>\n",
    "</ul>"
   ]
  },
  {
   "cell_type": "markdown",
   "id": "8f0cf2e8-7854-4224-abbf-155ea3779736",
   "metadata": {},
   "source": [
    "<h2>Kafka Topic</h2>"
   ]
  },
  {
   "cell_type": "code",
   "execution_count": null,
   "id": "9a37d561-d145-44b6-9b56-48acf363b82e",
   "metadata": {},
   "outputs": [],
   "source": [
    "vehicle_position_operators_kafka_df = (join_vehicle_operators_df\n",
    "      .withWatermark(\"tst\", \"1 seconds\")\n",
    "      #.filter(col('oper').isin('22','90','6','30','12','50'))                                  \n",
    "      .groupBy(\n",
    "        window(col(\"tst\"), \"1 minutes\", \"1 minutes\"),\n",
    "        col(\"oper\"),\n",
    "        col(\"operator_name\") \n",
    "      ).count()\n",
    "      .select(col(\"oper\").alias(\"key\"), to_json(struct(\"window\", \"count\", \"operator_name\")).alias(\"value\")))  "
   ]
  },
  {
   "cell_type": "code",
   "execution_count": null,
   "id": "0aeff2ff-5731-41da-826d-3af08aedb7d6",
   "metadata": {},
   "outputs": [],
   "source": [
    "vehicle_position_operators_kafka_df.printSchema()"
   ]
  },
  {
   "cell_type": "code",
   "execution_count": null,
   "id": "73bfdecf-acdd-41da-bfea-3cac6c230803",
   "metadata": {},
   "outputs": [],
   "source": [
    "# Just to check the output\n",
    "vehicle_position_operators_kafka_query_memory = (vehicle_position_operators_kafka_df\n",
    "    .writeStream\n",
    "    .format(\"memory\")\n",
    "    .trigger(processingTime = '1 minutes') \n",
    "    .outputMode(\"append\")\n",
    "    .queryName(\"vehicle_position_operators_kafka_query_memory\")\n",
    "    .start())"
   ]
  },
  {
   "cell_type": "code",
   "execution_count": null,
   "id": "5f280e25-0ccc-4a66-aed4-2567332b311a",
   "metadata": {},
   "outputs": [],
   "source": [
    "(spark.sql(\"select * from vehicle_position_operators_kafka_query_memory\")\n",
    "    #.filter(col('key') == 22)\n",
    "    .show(truncate = False, n = 100))"
   ]
  },
  {
   "cell_type": "code",
   "execution_count": null,
   "id": "38e8ad5f-ad25-4ce0-b6a0-1ffca92f36a7",
   "metadata": {},
   "outputs": [],
   "source": [
    "vehicle_position_operators_kafka_query_memory.stop()"
   ]
  },
  {
   "cell_type": "markdown",
   "id": "c78f9ef4-1d56-48c0-8e89-ae89e5ee6243",
   "metadata": {},
   "source": [
    "Before continuing we must create the topic `operators-counts` by executing this line on a terminal: \n",
    "<br>\n",
    "<br>\n",
    "`docker exec -it broker kafka-topics --create --bootstrap-server broker:9092 --partitions 1 --replication-factor 1 --topic operators-counts`"
   ]
  },
  {
   "cell_type": "code",
   "execution_count": null,
   "id": "bb126b3a-9a3c-4745-a7ae-42eab98627ce",
   "metadata": {},
   "outputs": [],
   "source": [
    "vehicle_position_operators_kafka_query_kafka = (vehicle_position_operators_kafka_df \n",
    "      .selectExpr(\"CAST(key AS STRING)\", \"CAST(value AS STRING)\") \n",
    "      .writeStream \n",
    "      .format(\"kafka\") \n",
    "      .option(\"kafka.bootstrap.servers\", \"broker:29092\") \n",
    "      .option(\"topic\", \"operators-counts\")\n",
    "      .option(\"checkpointLocation\", \"checkpoint-kafka\")\n",
    "      .start())"
   ]
  },
  {
   "cell_type": "code",
   "execution_count": null,
   "id": "93947e73-556e-4c69-8c21-32ece9f335be",
   "metadata": {},
   "outputs": [],
   "source": [
    "vehicle_position_operators_kafka_query_kafka.status"
   ]
  },
  {
   "cell_type": "markdown",
   "id": "d717b2bb-ec50-4bd2-948c-bd831e9723d1",
   "metadata": {},
   "source": [
    "To check if the data are being written to the topic `operators-count` in the Kafka cluster we can start a simple consumer by executing on a terminal:\n",
    "<br>\n",
    "<br>\n",
    "`docker exec -it broker kafka-console-consumer --bootstrap-server broker:9092 --from-beginning --topic operators-counts --property print.key=true`"
   ]
  },
  {
   "cell_type": "markdown",
   "id": "511e2b09-edf3-44fc-a6d9-c578a4c5c9f1",
   "metadata": {},
   "source": [
    "If everything went fine you should see something like this:\n",
    "<br>\n",
    "<br>\n",
    "<code>\n",
    "130\t{\"window\":{\"start\":\"2023-08-30T10:15:00.000Z\",\"end\":\"2023-08-30T10:16:00.000Z\"},\"count\":60,\"operator_name\":\"Klein, Jakubowski and Hermiston\"}\n",
    "60\t{\"window\":{\"start\":\"2023-08-30T10:28:00.000Z\",\"end\":\"2023-08-30T10:29:00.000Z\"},\"count\":13,\"operator_name\":\"Heathcote-Schinner\"}\n",
    "50\t{\"window\":{\"start\":\"2023-08-30T10:24:00.000Z\",\"end\":\"2023-08-30T10:25:00.000Z\"},\"count\":2062,\"operator_name\":\"Lemke-Waters\"}\n",
    "30\t{\"window\":{\"start\":\"2023-08-30T10:19:00.000Z\",\"end\":\"2023-08-30T10:20:00.000Z\"},\"count\":1380,\"operator_name\":\"Lakin, Breitenberg and Morissette\"}\n",
    "59\t{\"window\":{\"start\":\"2023-08-30T10:23:00.000Z\",\"end\":\"2023-08-30T10:24:00.000Z\"},\"count\":240,\"operator_name\":\"Schuster Group\"}\n",
    "12\t{\"window\":{\"start\":\"2023-08-30T10:25:00.000Z\",\"end\":\"2023-08-30T10:26:00.000Z\"},\"count\":10595,\"operator_name\":\"Pollich-Kuhlman\"}\n",
    "40\t{\"window\":{\"start\":\"2023-08-30T10:16:00.000Z\",\"end\":\"2023-08-30T10:17:00.000Z\"},\"count\":4432,\"operator_name\":\"Bogisich LLC\"}\n",
    "54\t{\"window\":{\"start\":\"2023-08-30T10:29:00.000Z\",\"end\":\"2023-08-30T10:30:00.000Z\"},\"count\":540,\"operator_name\":\"Morar Inc\"}\n",
    "21\t{\"window\":{\"start\":\"2023-08-30T10:27:00.000Z\",\"end\":\"2023-08-30T10:28:00.000Z\"},\"count\":240,\"operator_name\":\"Ledner-Boyer\"}\n",
    "60\t{\"window\":{\"start\":\"2023-08-30T10:20:00.000Z\",\"end\":\"2023-08-30T10:21:00.000Z\"},\"count\":6,\"operator_name\":\"Heathcote-Schinner\"}\n",
    "</code>\n"
   ]
  },
  {
   "cell_type": "code",
   "execution_count": null,
   "id": "2b6aebd3-08c3-44f8-9c99-4696d1c87566",
   "metadata": {},
   "outputs": [],
   "source": [
    "vehicle_position_operators_kafka_query_kafka.stop()"
   ]
  }
 ],
 "metadata": {
  "kernelspec": {
   "display_name": "Python 3 (ipykernel)",
   "language": "python",
   "name": "python3"
  },
  "language_info": {
   "codemirror_mode": {
    "name": "ipython",
    "version": 3
   },
   "file_extension": ".py",
   "mimetype": "text/x-python",
   "name": "python",
   "nbconvert_exporter": "python",
   "pygments_lexer": "ipython3",
   "version": "3.11.4"
  }
 },
 "nbformat": 4,
 "nbformat_minor": 5
}
